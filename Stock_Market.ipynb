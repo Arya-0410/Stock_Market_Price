{
  "nbformat": 4,
  "nbformat_minor": 0,
  "metadata": {
    "colab": {
      "provenance": []
    },
    "kernelspec": {
      "name": "python3",
      "display_name": "Python 3"
    },
    "language_info": {
      "name": "python"
    }
  },
  "cells": [
    {
      "cell_type": "code",
      "execution_count": 1,
      "metadata": {
        "id": "fo96qbvG63SO"
      },
      "outputs": [],
      "source": [
        "import numpy as np\n",
        "import pandas as pd\n",
        "import matplotlib.pyplot as plt\n",
        "import math\n",
        "df=pd.read_csv('yahoo_stock.csv')"
      ]
    },
    {
      "cell_type": "code",
      "source": [
        "df.head()"
      ],
      "metadata": {
        "id": "3z6fssFx7Msq",
        "colab": {
          "base_uri": "https://localhost:8080/",
          "height": 206
        },
        "outputId": "e9e825ad-e131-4c19-88f7-842d61e05680"
      },
      "execution_count": 2,
      "outputs": [
        {
          "output_type": "execute_result",
          "data": {
            "text/plain": [
              "         Date         High          Low         Open        Close  \\\n",
              "0  2015-11-23  2095.610107  2081.389893  2089.409912  2086.590088   \n",
              "1  2015-11-24  2094.120117  2070.290039  2084.419922  2089.139893   \n",
              "2  2015-11-25  2093.000000  2086.300049  2089.300049  2088.870117   \n",
              "3  2015-11-26  2093.000000  2086.300049  2089.300049  2088.870117   \n",
              "4  2015-11-27  2093.290039  2084.129883  2088.820068  2090.110107   \n",
              "\n",
              "         Volume    Adj Close  \n",
              "0  3.587980e+09  2086.590088  \n",
              "1  3.884930e+09  2089.139893  \n",
              "2  2.852940e+09  2088.870117  \n",
              "3  2.852940e+09  2088.870117  \n",
              "4  1.466840e+09  2090.110107  "
            ],
            "text/html": [
              "\n",
              "  <div id=\"df-b0639c4f-67fc-48b4-a770-e601ef3996f6\" class=\"colab-df-container\">\n",
              "    <div>\n",
              "<style scoped>\n",
              "    .dataframe tbody tr th:only-of-type {\n",
              "        vertical-align: middle;\n",
              "    }\n",
              "\n",
              "    .dataframe tbody tr th {\n",
              "        vertical-align: top;\n",
              "    }\n",
              "\n",
              "    .dataframe thead th {\n",
              "        text-align: right;\n",
              "    }\n",
              "</style>\n",
              "<table border=\"1\" class=\"dataframe\">\n",
              "  <thead>\n",
              "    <tr style=\"text-align: right;\">\n",
              "      <th></th>\n",
              "      <th>Date</th>\n",
              "      <th>High</th>\n",
              "      <th>Low</th>\n",
              "      <th>Open</th>\n",
              "      <th>Close</th>\n",
              "      <th>Volume</th>\n",
              "      <th>Adj Close</th>\n",
              "    </tr>\n",
              "  </thead>\n",
              "  <tbody>\n",
              "    <tr>\n",
              "      <th>0</th>\n",
              "      <td>2015-11-23</td>\n",
              "      <td>2095.610107</td>\n",
              "      <td>2081.389893</td>\n",
              "      <td>2089.409912</td>\n",
              "      <td>2086.590088</td>\n",
              "      <td>3.587980e+09</td>\n",
              "      <td>2086.590088</td>\n",
              "    </tr>\n",
              "    <tr>\n",
              "      <th>1</th>\n",
              "      <td>2015-11-24</td>\n",
              "      <td>2094.120117</td>\n",
              "      <td>2070.290039</td>\n",
              "      <td>2084.419922</td>\n",
              "      <td>2089.139893</td>\n",
              "      <td>3.884930e+09</td>\n",
              "      <td>2089.139893</td>\n",
              "    </tr>\n",
              "    <tr>\n",
              "      <th>2</th>\n",
              "      <td>2015-11-25</td>\n",
              "      <td>2093.000000</td>\n",
              "      <td>2086.300049</td>\n",
              "      <td>2089.300049</td>\n",
              "      <td>2088.870117</td>\n",
              "      <td>2.852940e+09</td>\n",
              "      <td>2088.870117</td>\n",
              "    </tr>\n",
              "    <tr>\n",
              "      <th>3</th>\n",
              "      <td>2015-11-26</td>\n",
              "      <td>2093.000000</td>\n",
              "      <td>2086.300049</td>\n",
              "      <td>2089.300049</td>\n",
              "      <td>2088.870117</td>\n",
              "      <td>2.852940e+09</td>\n",
              "      <td>2088.870117</td>\n",
              "    </tr>\n",
              "    <tr>\n",
              "      <th>4</th>\n",
              "      <td>2015-11-27</td>\n",
              "      <td>2093.290039</td>\n",
              "      <td>2084.129883</td>\n",
              "      <td>2088.820068</td>\n",
              "      <td>2090.110107</td>\n",
              "      <td>1.466840e+09</td>\n",
              "      <td>2090.110107</td>\n",
              "    </tr>\n",
              "  </tbody>\n",
              "</table>\n",
              "</div>\n",
              "    <div class=\"colab-df-buttons\">\n",
              "\n",
              "  <div class=\"colab-df-container\">\n",
              "    <button class=\"colab-df-convert\" onclick=\"convertToInteractive('df-b0639c4f-67fc-48b4-a770-e601ef3996f6')\"\n",
              "            title=\"Convert this dataframe to an interactive table.\"\n",
              "            style=\"display:none;\">\n",
              "\n",
              "  <svg xmlns=\"http://www.w3.org/2000/svg\" height=\"24px\" viewBox=\"0 -960 960 960\">\n",
              "    <path d=\"M120-120v-720h720v720H120Zm60-500h600v-160H180v160Zm220 220h160v-160H400v160Zm0 220h160v-160H400v160ZM180-400h160v-160H180v160Zm440 0h160v-160H620v160ZM180-180h160v-160H180v160Zm440 0h160v-160H620v160Z\"/>\n",
              "  </svg>\n",
              "    </button>\n",
              "\n",
              "  <style>\n",
              "    .colab-df-container {\n",
              "      display:flex;\n",
              "      gap: 12px;\n",
              "    }\n",
              "\n",
              "    .colab-df-convert {\n",
              "      background-color: #E8F0FE;\n",
              "      border: none;\n",
              "      border-radius: 50%;\n",
              "      cursor: pointer;\n",
              "      display: none;\n",
              "      fill: #1967D2;\n",
              "      height: 32px;\n",
              "      padding: 0 0 0 0;\n",
              "      width: 32px;\n",
              "    }\n",
              "\n",
              "    .colab-df-convert:hover {\n",
              "      background-color: #E2EBFA;\n",
              "      box-shadow: 0px 1px 2px rgba(60, 64, 67, 0.3), 0px 1px 3px 1px rgba(60, 64, 67, 0.15);\n",
              "      fill: #174EA6;\n",
              "    }\n",
              "\n",
              "    .colab-df-buttons div {\n",
              "      margin-bottom: 4px;\n",
              "    }\n",
              "\n",
              "    [theme=dark] .colab-df-convert {\n",
              "      background-color: #3B4455;\n",
              "      fill: #D2E3FC;\n",
              "    }\n",
              "\n",
              "    [theme=dark] .colab-df-convert:hover {\n",
              "      background-color: #434B5C;\n",
              "      box-shadow: 0px 1px 3px 1px rgba(0, 0, 0, 0.15);\n",
              "      filter: drop-shadow(0px 1px 2px rgba(0, 0, 0, 0.3));\n",
              "      fill: #FFFFFF;\n",
              "    }\n",
              "  </style>\n",
              "\n",
              "    <script>\n",
              "      const buttonEl =\n",
              "        document.querySelector('#df-b0639c4f-67fc-48b4-a770-e601ef3996f6 button.colab-df-convert');\n",
              "      buttonEl.style.display =\n",
              "        google.colab.kernel.accessAllowed ? 'block' : 'none';\n",
              "\n",
              "      async function convertToInteractive(key) {\n",
              "        const element = document.querySelector('#df-b0639c4f-67fc-48b4-a770-e601ef3996f6');\n",
              "        const dataTable =\n",
              "          await google.colab.kernel.invokeFunction('convertToInteractive',\n",
              "                                                    [key], {});\n",
              "        if (!dataTable) return;\n",
              "\n",
              "        const docLinkHtml = 'Like what you see? Visit the ' +\n",
              "          '<a target=\"_blank\" href=https://colab.research.google.com/notebooks/data_table.ipynb>data table notebook</a>'\n",
              "          + ' to learn more about interactive tables.';\n",
              "        element.innerHTML = '';\n",
              "        dataTable['output_type'] = 'display_data';\n",
              "        await google.colab.output.renderOutput(dataTable, element);\n",
              "        const docLink = document.createElement('div');\n",
              "        docLink.innerHTML = docLinkHtml;\n",
              "        element.appendChild(docLink);\n",
              "      }\n",
              "    </script>\n",
              "  </div>\n",
              "\n",
              "\n",
              "<div id=\"df-6849c59d-dae8-4dae-90b5-0aff9d5f4a54\">\n",
              "  <button class=\"colab-df-quickchart\" onclick=\"quickchart('df-6849c59d-dae8-4dae-90b5-0aff9d5f4a54')\"\n",
              "            title=\"Suggest charts\"\n",
              "            style=\"display:none;\">\n",
              "\n",
              "<svg xmlns=\"http://www.w3.org/2000/svg\" height=\"24px\"viewBox=\"0 0 24 24\"\n",
              "     width=\"24px\">\n",
              "    <g>\n",
              "        <path d=\"M19 3H5c-1.1 0-2 .9-2 2v14c0 1.1.9 2 2 2h14c1.1 0 2-.9 2-2V5c0-1.1-.9-2-2-2zM9 17H7v-7h2v7zm4 0h-2V7h2v10zm4 0h-2v-4h2v4z\"/>\n",
              "    </g>\n",
              "</svg>\n",
              "  </button>\n",
              "\n",
              "<style>\n",
              "  .colab-df-quickchart {\n",
              "      --bg-color: #E8F0FE;\n",
              "      --fill-color: #1967D2;\n",
              "      --hover-bg-color: #E2EBFA;\n",
              "      --hover-fill-color: #174EA6;\n",
              "      --disabled-fill-color: #AAA;\n",
              "      --disabled-bg-color: #DDD;\n",
              "  }\n",
              "\n",
              "  [theme=dark] .colab-df-quickchart {\n",
              "      --bg-color: #3B4455;\n",
              "      --fill-color: #D2E3FC;\n",
              "      --hover-bg-color: #434B5C;\n",
              "      --hover-fill-color: #FFFFFF;\n",
              "      --disabled-bg-color: #3B4455;\n",
              "      --disabled-fill-color: #666;\n",
              "  }\n",
              "\n",
              "  .colab-df-quickchart {\n",
              "    background-color: var(--bg-color);\n",
              "    border: none;\n",
              "    border-radius: 50%;\n",
              "    cursor: pointer;\n",
              "    display: none;\n",
              "    fill: var(--fill-color);\n",
              "    height: 32px;\n",
              "    padding: 0;\n",
              "    width: 32px;\n",
              "  }\n",
              "\n",
              "  .colab-df-quickchart:hover {\n",
              "    background-color: var(--hover-bg-color);\n",
              "    box-shadow: 0 1px 2px rgba(60, 64, 67, 0.3), 0 1px 3px 1px rgba(60, 64, 67, 0.15);\n",
              "    fill: var(--button-hover-fill-color);\n",
              "  }\n",
              "\n",
              "  .colab-df-quickchart-complete:disabled,\n",
              "  .colab-df-quickchart-complete:disabled:hover {\n",
              "    background-color: var(--disabled-bg-color);\n",
              "    fill: var(--disabled-fill-color);\n",
              "    box-shadow: none;\n",
              "  }\n",
              "\n",
              "  .colab-df-spinner {\n",
              "    border: 2px solid var(--fill-color);\n",
              "    border-color: transparent;\n",
              "    border-bottom-color: var(--fill-color);\n",
              "    animation:\n",
              "      spin 1s steps(1) infinite;\n",
              "  }\n",
              "\n",
              "  @keyframes spin {\n",
              "    0% {\n",
              "      border-color: transparent;\n",
              "      border-bottom-color: var(--fill-color);\n",
              "      border-left-color: var(--fill-color);\n",
              "    }\n",
              "    20% {\n",
              "      border-color: transparent;\n",
              "      border-left-color: var(--fill-color);\n",
              "      border-top-color: var(--fill-color);\n",
              "    }\n",
              "    30% {\n",
              "      border-color: transparent;\n",
              "      border-left-color: var(--fill-color);\n",
              "      border-top-color: var(--fill-color);\n",
              "      border-right-color: var(--fill-color);\n",
              "    }\n",
              "    40% {\n",
              "      border-color: transparent;\n",
              "      border-right-color: var(--fill-color);\n",
              "      border-top-color: var(--fill-color);\n",
              "    }\n",
              "    60% {\n",
              "      border-color: transparent;\n",
              "      border-right-color: var(--fill-color);\n",
              "    }\n",
              "    80% {\n",
              "      border-color: transparent;\n",
              "      border-right-color: var(--fill-color);\n",
              "      border-bottom-color: var(--fill-color);\n",
              "    }\n",
              "    90% {\n",
              "      border-color: transparent;\n",
              "      border-bottom-color: var(--fill-color);\n",
              "    }\n",
              "  }\n",
              "</style>\n",
              "\n",
              "  <script>\n",
              "    async function quickchart(key) {\n",
              "      const quickchartButtonEl =\n",
              "        document.querySelector('#' + key + ' button');\n",
              "      quickchartButtonEl.disabled = true;  // To prevent multiple clicks.\n",
              "      quickchartButtonEl.classList.add('colab-df-spinner');\n",
              "      try {\n",
              "        const charts = await google.colab.kernel.invokeFunction(\n",
              "            'suggestCharts', [key], {});\n",
              "      } catch (error) {\n",
              "        console.error('Error during call to suggestCharts:', error);\n",
              "      }\n",
              "      quickchartButtonEl.classList.remove('colab-df-spinner');\n",
              "      quickchartButtonEl.classList.add('colab-df-quickchart-complete');\n",
              "    }\n",
              "    (() => {\n",
              "      let quickchartButtonEl =\n",
              "        document.querySelector('#df-6849c59d-dae8-4dae-90b5-0aff9d5f4a54 button');\n",
              "      quickchartButtonEl.style.display =\n",
              "        google.colab.kernel.accessAllowed ? 'block' : 'none';\n",
              "    })();\n",
              "  </script>\n",
              "</div>\n",
              "\n",
              "    </div>\n",
              "  </div>\n"
            ],
            "application/vnd.google.colaboratory.intrinsic+json": {
              "type": "dataframe",
              "variable_name": "df",
              "summary": "{\n  \"name\": \"df\",\n  \"rows\": 1825,\n  \"fields\": [\n    {\n      \"column\": \"Date\",\n      \"properties\": {\n        \"dtype\": \"object\",\n        \"num_unique_values\": 1825,\n        \"samples\": [\n          \"2017-05-31\",\n          \"2020-09-01\",\n          \"2016-09-15\"\n        ],\n        \"semantic_type\": \"\",\n        \"description\": \"\"\n      }\n    },\n    {\n      \"column\": \"High\",\n      \"properties\": {\n        \"dtype\": \"number\",\n        \"std\": 409.68085292592116,\n        \"min\": 1847.0,\n        \"max\": 3645.989990234375,\n        \"num_unique_values\": 1252,\n        \"samples\": [\n          2874.02001953125,\n          3486.25,\n          3136.719970703125\n        ],\n        \"semantic_type\": \"\",\n        \"description\": \"\"\n      }\n    },\n    {\n      \"column\": \"Low\",\n      \"properties\": {\n        \"dtype\": \"number\",\n        \"std\": 404.3100683842496,\n        \"min\": 1810.0999755859373,\n        \"max\": 3600.159912109375,\n        \"num_unique_values\": 1251,\n        \"samples\": [\n          2710.510009765625,\n          3557.0,\n          3034.3798828125\n        ],\n        \"semantic_type\": \"\",\n        \"description\": \"\"\n      }\n    },\n    {\n      \"column\": \"Open\",\n      \"properties\": {\n        \"dtype\": \"number\",\n        \"std\": 407.16999419082686,\n        \"min\": 1833.4000244140625,\n        \"max\": 3612.090087890625,\n        \"num_unique_values\": 1247,\n        \"samples\": [\n          2838.89990234375,\n          3071.0400390625,\n          2984.25\n        ],\n        \"semantic_type\": \"\",\n        \"description\": \"\"\n      }\n    },\n    {\n      \"column\": \"Close\",\n      \"properties\": {\n        \"dtype\": \"number\",\n        \"std\": 407.30117676380684,\n        \"min\": 1829.0799560546875,\n        \"max\": 3626.909912109375,\n        \"num_unique_values\": 1252,\n        \"samples\": [\n          2785.679931640625,\n          3443.43994140625,\n          3003.3701171875\n        ],\n        \"semantic_type\": \"\",\n        \"description\": \"\"\n      }\n    },\n    {\n      \"column\": \"Volume\",\n      \"properties\": {\n        \"dtype\": \"number\",\n        \"std\": 1087592837.8896685,\n        \"min\": 1296540000.0,\n        \"max\": 9044690000.0,\n        \"num_unique_values\": 1258,\n        \"samples\": [\n          3684910000.0,\n          4184880000.0,\n          5636460000.0\n        ],\n        \"semantic_type\": \"\",\n        \"description\": \"\"\n      }\n    },\n    {\n      \"column\": \"Adj Close\",\n      \"properties\": {\n        \"dtype\": \"number\",\n        \"std\": 407.30117676380684,\n        \"min\": 1829.0799560546875,\n        \"max\": 3626.909912109375,\n        \"num_unique_values\": 1252,\n        \"samples\": [\n          2785.679931640625,\n          3443.43994140625,\n          3003.3701171875\n        ],\n        \"semantic_type\": \"\",\n        \"description\": \"\"\n      }\n    }\n  ]\n}"
            }
          },
          "metadata": {},
          "execution_count": 2
        }
      ]
    },
    {
      "cell_type": "code",
      "source": [
        "df.shape"
      ],
      "metadata": {
        "id": "aqg_rmUy7QzD",
        "colab": {
          "base_uri": "https://localhost:8080/"
        },
        "outputId": "fa1aa153-2856-4e77-f348-f283fc2664d8"
      },
      "execution_count": 3,
      "outputs": [
        {
          "output_type": "execute_result",
          "data": {
            "text/plain": [
              "(1825, 7)"
            ]
          },
          "metadata": {},
          "execution_count": 3
        }
      ]
    },
    {
      "cell_type": "code",
      "source": [
        "len(df['Date'].unique())"
      ],
      "metadata": {
        "id": "k6otwpaC7UE4",
        "colab": {
          "base_uri": "https://localhost:8080/"
        },
        "outputId": "ca96abd5-e8a8-4244-dca8-2eeca07f3078"
      },
      "execution_count": 4,
      "outputs": [
        {
          "output_type": "execute_result",
          "data": {
            "text/plain": [
              "1825"
            ]
          },
          "metadata": {},
          "execution_count": 4
        }
      ]
    },
    {
      "cell_type": "code",
      "source": [
        "df.info()"
      ],
      "metadata": {
        "id": "yGuaGBhk7UIQ",
        "colab": {
          "base_uri": "https://localhost:8080/"
        },
        "outputId": "2bbaf50c-fd82-4c45-8a7f-8f4b7f1f5646"
      },
      "execution_count": 5,
      "outputs": [
        {
          "output_type": "stream",
          "name": "stdout",
          "text": [
            "<class 'pandas.core.frame.DataFrame'>\n",
            "RangeIndex: 1825 entries, 0 to 1824\n",
            "Data columns (total 7 columns):\n",
            " #   Column     Non-Null Count  Dtype  \n",
            "---  ------     --------------  -----  \n",
            " 0   Date       1825 non-null   object \n",
            " 1   High       1825 non-null   float64\n",
            " 2   Low        1825 non-null   float64\n",
            " 3   Open       1825 non-null   float64\n",
            " 4   Close      1825 non-null   float64\n",
            " 5   Volume     1825 non-null   float64\n",
            " 6   Adj Close  1825 non-null   float64\n",
            "dtypes: float64(6), object(1)\n",
            "memory usage: 99.9+ KB\n"
          ]
        }
      ]
    },
    {
      "cell_type": "code",
      "source": [
        "df.isnull().sum()"
      ],
      "metadata": {
        "id": "z6-I2lbD7au4",
        "colab": {
          "base_uri": "https://localhost:8080/"
        },
        "outputId": "2de192d6-9ff2-413b-93d9-94c1f50738cc"
      },
      "execution_count": 6,
      "outputs": [
        {
          "output_type": "execute_result",
          "data": {
            "text/plain": [
              "Date         0\n",
              "High         0\n",
              "Low          0\n",
              "Open         0\n",
              "Close        0\n",
              "Volume       0\n",
              "Adj Close    0\n",
              "dtype: int64"
            ]
          },
          "metadata": {},
          "execution_count": 6
        }
      ]
    },
    {
      "cell_type": "code",
      "source": [
        "df.Date=pd.to_datetime(df['Date'])"
      ],
      "metadata": {
        "id": "e-I-Z4Dj7ayK"
      },
      "execution_count": 7,
      "outputs": []
    },
    {
      "cell_type": "code",
      "source": [
        "df.Date.min(),df.Date.max()"
      ],
      "metadata": {
        "id": "6zFyl2w67a97",
        "colab": {
          "base_uri": "https://localhost:8080/"
        },
        "outputId": "27f01276-7e48-40e1-f730-d375d291e1de"
      },
      "execution_count": 8,
      "outputs": [
        {
          "output_type": "execute_result",
          "data": {
            "text/plain": [
              "(Timestamp('2015-11-23 00:00:00'), Timestamp('2020-11-20 00:00:00'))"
            ]
          },
          "metadata": {},
          "execution_count": 8
        }
      ]
    },
    {
      "cell_type": "code",
      "source": [
        "df.set_index('Date',inplace=True)"
      ],
      "metadata": {
        "id": "oCwzMckO7bAY"
      },
      "execution_count": 9,
      "outputs": []
    },
    {
      "cell_type": "code",
      "source": [
        "df.head()"
      ],
      "metadata": {
        "id": "3ftE9O_Z7bC6",
        "colab": {
          "base_uri": "https://localhost:8080/",
          "height": 237
        },
        "outputId": "deef7677-4a84-47d8-8525-4f4d96971e38"
      },
      "execution_count": 10,
      "outputs": [
        {
          "output_type": "execute_result",
          "data": {
            "text/plain": [
              "                   High          Low         Open        Close        Volume  \\\n",
              "Date                                                                           \n",
              "2015-11-23  2095.610107  2081.389893  2089.409912  2086.590088  3.587980e+09   \n",
              "2015-11-24  2094.120117  2070.290039  2084.419922  2089.139893  3.884930e+09   \n",
              "2015-11-25  2093.000000  2086.300049  2089.300049  2088.870117  2.852940e+09   \n",
              "2015-11-26  2093.000000  2086.300049  2089.300049  2088.870117  2.852940e+09   \n",
              "2015-11-27  2093.290039  2084.129883  2088.820068  2090.110107  1.466840e+09   \n",
              "\n",
              "              Adj Close  \n",
              "Date                     \n",
              "2015-11-23  2086.590088  \n",
              "2015-11-24  2089.139893  \n",
              "2015-11-25  2088.870117  \n",
              "2015-11-26  2088.870117  \n",
              "2015-11-27  2090.110107  "
            ],
            "text/html": [
              "\n",
              "  <div id=\"df-80737036-19b7-4e2d-8ca1-93b445671775\" class=\"colab-df-container\">\n",
              "    <div>\n",
              "<style scoped>\n",
              "    .dataframe tbody tr th:only-of-type {\n",
              "        vertical-align: middle;\n",
              "    }\n",
              "\n",
              "    .dataframe tbody tr th {\n",
              "        vertical-align: top;\n",
              "    }\n",
              "\n",
              "    .dataframe thead th {\n",
              "        text-align: right;\n",
              "    }\n",
              "</style>\n",
              "<table border=\"1\" class=\"dataframe\">\n",
              "  <thead>\n",
              "    <tr style=\"text-align: right;\">\n",
              "      <th></th>\n",
              "      <th>High</th>\n",
              "      <th>Low</th>\n",
              "      <th>Open</th>\n",
              "      <th>Close</th>\n",
              "      <th>Volume</th>\n",
              "      <th>Adj Close</th>\n",
              "    </tr>\n",
              "    <tr>\n",
              "      <th>Date</th>\n",
              "      <th></th>\n",
              "      <th></th>\n",
              "      <th></th>\n",
              "      <th></th>\n",
              "      <th></th>\n",
              "      <th></th>\n",
              "    </tr>\n",
              "  </thead>\n",
              "  <tbody>\n",
              "    <tr>\n",
              "      <th>2015-11-23</th>\n",
              "      <td>2095.610107</td>\n",
              "      <td>2081.389893</td>\n",
              "      <td>2089.409912</td>\n",
              "      <td>2086.590088</td>\n",
              "      <td>3.587980e+09</td>\n",
              "      <td>2086.590088</td>\n",
              "    </tr>\n",
              "    <tr>\n",
              "      <th>2015-11-24</th>\n",
              "      <td>2094.120117</td>\n",
              "      <td>2070.290039</td>\n",
              "      <td>2084.419922</td>\n",
              "      <td>2089.139893</td>\n",
              "      <td>3.884930e+09</td>\n",
              "      <td>2089.139893</td>\n",
              "    </tr>\n",
              "    <tr>\n",
              "      <th>2015-11-25</th>\n",
              "      <td>2093.000000</td>\n",
              "      <td>2086.300049</td>\n",
              "      <td>2089.300049</td>\n",
              "      <td>2088.870117</td>\n",
              "      <td>2.852940e+09</td>\n",
              "      <td>2088.870117</td>\n",
              "    </tr>\n",
              "    <tr>\n",
              "      <th>2015-11-26</th>\n",
              "      <td>2093.000000</td>\n",
              "      <td>2086.300049</td>\n",
              "      <td>2089.300049</td>\n",
              "      <td>2088.870117</td>\n",
              "      <td>2.852940e+09</td>\n",
              "      <td>2088.870117</td>\n",
              "    </tr>\n",
              "    <tr>\n",
              "      <th>2015-11-27</th>\n",
              "      <td>2093.290039</td>\n",
              "      <td>2084.129883</td>\n",
              "      <td>2088.820068</td>\n",
              "      <td>2090.110107</td>\n",
              "      <td>1.466840e+09</td>\n",
              "      <td>2090.110107</td>\n",
              "    </tr>\n",
              "  </tbody>\n",
              "</table>\n",
              "</div>\n",
              "    <div class=\"colab-df-buttons\">\n",
              "\n",
              "  <div class=\"colab-df-container\">\n",
              "    <button class=\"colab-df-convert\" onclick=\"convertToInteractive('df-80737036-19b7-4e2d-8ca1-93b445671775')\"\n",
              "            title=\"Convert this dataframe to an interactive table.\"\n",
              "            style=\"display:none;\">\n",
              "\n",
              "  <svg xmlns=\"http://www.w3.org/2000/svg\" height=\"24px\" viewBox=\"0 -960 960 960\">\n",
              "    <path d=\"M120-120v-720h720v720H120Zm60-500h600v-160H180v160Zm220 220h160v-160H400v160Zm0 220h160v-160H400v160ZM180-400h160v-160H180v160Zm440 0h160v-160H620v160ZM180-180h160v-160H180v160Zm440 0h160v-160H620v160Z\"/>\n",
              "  </svg>\n",
              "    </button>\n",
              "\n",
              "  <style>\n",
              "    .colab-df-container {\n",
              "      display:flex;\n",
              "      gap: 12px;\n",
              "    }\n",
              "\n",
              "    .colab-df-convert {\n",
              "      background-color: #E8F0FE;\n",
              "      border: none;\n",
              "      border-radius: 50%;\n",
              "      cursor: pointer;\n",
              "      display: none;\n",
              "      fill: #1967D2;\n",
              "      height: 32px;\n",
              "      padding: 0 0 0 0;\n",
              "      width: 32px;\n",
              "    }\n",
              "\n",
              "    .colab-df-convert:hover {\n",
              "      background-color: #E2EBFA;\n",
              "      box-shadow: 0px 1px 2px rgba(60, 64, 67, 0.3), 0px 1px 3px 1px rgba(60, 64, 67, 0.15);\n",
              "      fill: #174EA6;\n",
              "    }\n",
              "\n",
              "    .colab-df-buttons div {\n",
              "      margin-bottom: 4px;\n",
              "    }\n",
              "\n",
              "    [theme=dark] .colab-df-convert {\n",
              "      background-color: #3B4455;\n",
              "      fill: #D2E3FC;\n",
              "    }\n",
              "\n",
              "    [theme=dark] .colab-df-convert:hover {\n",
              "      background-color: #434B5C;\n",
              "      box-shadow: 0px 1px 3px 1px rgba(0, 0, 0, 0.15);\n",
              "      filter: drop-shadow(0px 1px 2px rgba(0, 0, 0, 0.3));\n",
              "      fill: #FFFFFF;\n",
              "    }\n",
              "  </style>\n",
              "\n",
              "    <script>\n",
              "      const buttonEl =\n",
              "        document.querySelector('#df-80737036-19b7-4e2d-8ca1-93b445671775 button.colab-df-convert');\n",
              "      buttonEl.style.display =\n",
              "        google.colab.kernel.accessAllowed ? 'block' : 'none';\n",
              "\n",
              "      async function convertToInteractive(key) {\n",
              "        const element = document.querySelector('#df-80737036-19b7-4e2d-8ca1-93b445671775');\n",
              "        const dataTable =\n",
              "          await google.colab.kernel.invokeFunction('convertToInteractive',\n",
              "                                                    [key], {});\n",
              "        if (!dataTable) return;\n",
              "\n",
              "        const docLinkHtml = 'Like what you see? Visit the ' +\n",
              "          '<a target=\"_blank\" href=https://colab.research.google.com/notebooks/data_table.ipynb>data table notebook</a>'\n",
              "          + ' to learn more about interactive tables.';\n",
              "        element.innerHTML = '';\n",
              "        dataTable['output_type'] = 'display_data';\n",
              "        await google.colab.output.renderOutput(dataTable, element);\n",
              "        const docLink = document.createElement('div');\n",
              "        docLink.innerHTML = docLinkHtml;\n",
              "        element.appendChild(docLink);\n",
              "      }\n",
              "    </script>\n",
              "  </div>\n",
              "\n",
              "\n",
              "<div id=\"df-27ce8a53-fb83-413f-8b99-f9e9dae5c1ee\">\n",
              "  <button class=\"colab-df-quickchart\" onclick=\"quickchart('df-27ce8a53-fb83-413f-8b99-f9e9dae5c1ee')\"\n",
              "            title=\"Suggest charts\"\n",
              "            style=\"display:none;\">\n",
              "\n",
              "<svg xmlns=\"http://www.w3.org/2000/svg\" height=\"24px\"viewBox=\"0 0 24 24\"\n",
              "     width=\"24px\">\n",
              "    <g>\n",
              "        <path d=\"M19 3H5c-1.1 0-2 .9-2 2v14c0 1.1.9 2 2 2h14c1.1 0 2-.9 2-2V5c0-1.1-.9-2-2-2zM9 17H7v-7h2v7zm4 0h-2V7h2v10zm4 0h-2v-4h2v4z\"/>\n",
              "    </g>\n",
              "</svg>\n",
              "  </button>\n",
              "\n",
              "<style>\n",
              "  .colab-df-quickchart {\n",
              "      --bg-color: #E8F0FE;\n",
              "      --fill-color: #1967D2;\n",
              "      --hover-bg-color: #E2EBFA;\n",
              "      --hover-fill-color: #174EA6;\n",
              "      --disabled-fill-color: #AAA;\n",
              "      --disabled-bg-color: #DDD;\n",
              "  }\n",
              "\n",
              "  [theme=dark] .colab-df-quickchart {\n",
              "      --bg-color: #3B4455;\n",
              "      --fill-color: #D2E3FC;\n",
              "      --hover-bg-color: #434B5C;\n",
              "      --hover-fill-color: #FFFFFF;\n",
              "      --disabled-bg-color: #3B4455;\n",
              "      --disabled-fill-color: #666;\n",
              "  }\n",
              "\n",
              "  .colab-df-quickchart {\n",
              "    background-color: var(--bg-color);\n",
              "    border: none;\n",
              "    border-radius: 50%;\n",
              "    cursor: pointer;\n",
              "    display: none;\n",
              "    fill: var(--fill-color);\n",
              "    height: 32px;\n",
              "    padding: 0;\n",
              "    width: 32px;\n",
              "  }\n",
              "\n",
              "  .colab-df-quickchart:hover {\n",
              "    background-color: var(--hover-bg-color);\n",
              "    box-shadow: 0 1px 2px rgba(60, 64, 67, 0.3), 0 1px 3px 1px rgba(60, 64, 67, 0.15);\n",
              "    fill: var(--button-hover-fill-color);\n",
              "  }\n",
              "\n",
              "  .colab-df-quickchart-complete:disabled,\n",
              "  .colab-df-quickchart-complete:disabled:hover {\n",
              "    background-color: var(--disabled-bg-color);\n",
              "    fill: var(--disabled-fill-color);\n",
              "    box-shadow: none;\n",
              "  }\n",
              "\n",
              "  .colab-df-spinner {\n",
              "    border: 2px solid var(--fill-color);\n",
              "    border-color: transparent;\n",
              "    border-bottom-color: var(--fill-color);\n",
              "    animation:\n",
              "      spin 1s steps(1) infinite;\n",
              "  }\n",
              "\n",
              "  @keyframes spin {\n",
              "    0% {\n",
              "      border-color: transparent;\n",
              "      border-bottom-color: var(--fill-color);\n",
              "      border-left-color: var(--fill-color);\n",
              "    }\n",
              "    20% {\n",
              "      border-color: transparent;\n",
              "      border-left-color: var(--fill-color);\n",
              "      border-top-color: var(--fill-color);\n",
              "    }\n",
              "    30% {\n",
              "      border-color: transparent;\n",
              "      border-left-color: var(--fill-color);\n",
              "      border-top-color: var(--fill-color);\n",
              "      border-right-color: var(--fill-color);\n",
              "    }\n",
              "    40% {\n",
              "      border-color: transparent;\n",
              "      border-right-color: var(--fill-color);\n",
              "      border-top-color: var(--fill-color);\n",
              "    }\n",
              "    60% {\n",
              "      border-color: transparent;\n",
              "      border-right-color: var(--fill-color);\n",
              "    }\n",
              "    80% {\n",
              "      border-color: transparent;\n",
              "      border-right-color: var(--fill-color);\n",
              "      border-bottom-color: var(--fill-color);\n",
              "    }\n",
              "    90% {\n",
              "      border-color: transparent;\n",
              "      border-bottom-color: var(--fill-color);\n",
              "    }\n",
              "  }\n",
              "</style>\n",
              "\n",
              "  <script>\n",
              "    async function quickchart(key) {\n",
              "      const quickchartButtonEl =\n",
              "        document.querySelector('#' + key + ' button');\n",
              "      quickchartButtonEl.disabled = true;  // To prevent multiple clicks.\n",
              "      quickchartButtonEl.classList.add('colab-df-spinner');\n",
              "      try {\n",
              "        const charts = await google.colab.kernel.invokeFunction(\n",
              "            'suggestCharts', [key], {});\n",
              "      } catch (error) {\n",
              "        console.error('Error during call to suggestCharts:', error);\n",
              "      }\n",
              "      quickchartButtonEl.classList.remove('colab-df-spinner');\n",
              "      quickchartButtonEl.classList.add('colab-df-quickchart-complete');\n",
              "    }\n",
              "    (() => {\n",
              "      let quickchartButtonEl =\n",
              "        document.querySelector('#df-27ce8a53-fb83-413f-8b99-f9e9dae5c1ee button');\n",
              "      quickchartButtonEl.style.display =\n",
              "        google.colab.kernel.accessAllowed ? 'block' : 'none';\n",
              "    })();\n",
              "  </script>\n",
              "</div>\n",
              "\n",
              "    </div>\n",
              "  </div>\n"
            ],
            "application/vnd.google.colaboratory.intrinsic+json": {
              "type": "dataframe",
              "variable_name": "df",
              "summary": "{\n  \"name\": \"df\",\n  \"rows\": 1825,\n  \"fields\": [\n    {\n      \"column\": \"Date\",\n      \"properties\": {\n        \"dtype\": \"date\",\n        \"min\": \"2015-11-23 00:00:00\",\n        \"max\": \"2020-11-20 00:00:00\",\n        \"num_unique_values\": 1825,\n        \"samples\": [\n          \"2017-05-31 00:00:00\",\n          \"2020-09-01 00:00:00\",\n          \"2016-09-15 00:00:00\"\n        ],\n        \"semantic_type\": \"\",\n        \"description\": \"\"\n      }\n    },\n    {\n      \"column\": \"High\",\n      \"properties\": {\n        \"dtype\": \"number\",\n        \"std\": 409.68085292592116,\n        \"min\": 1847.0,\n        \"max\": 3645.989990234375,\n        \"num_unique_values\": 1252,\n        \"samples\": [\n          2874.02001953125,\n          3486.25,\n          3136.719970703125\n        ],\n        \"semantic_type\": \"\",\n        \"description\": \"\"\n      }\n    },\n    {\n      \"column\": \"Low\",\n      \"properties\": {\n        \"dtype\": \"number\",\n        \"std\": 404.3100683842496,\n        \"min\": 1810.0999755859373,\n        \"max\": 3600.159912109375,\n        \"num_unique_values\": 1251,\n        \"samples\": [\n          2710.510009765625,\n          3557.0,\n          3034.3798828125\n        ],\n        \"semantic_type\": \"\",\n        \"description\": \"\"\n      }\n    },\n    {\n      \"column\": \"Open\",\n      \"properties\": {\n        \"dtype\": \"number\",\n        \"std\": 407.16999419082686,\n        \"min\": 1833.4000244140625,\n        \"max\": 3612.090087890625,\n        \"num_unique_values\": 1247,\n        \"samples\": [\n          2838.89990234375,\n          3071.0400390625,\n          2984.25\n        ],\n        \"semantic_type\": \"\",\n        \"description\": \"\"\n      }\n    },\n    {\n      \"column\": \"Close\",\n      \"properties\": {\n        \"dtype\": \"number\",\n        \"std\": 407.30117676380684,\n        \"min\": 1829.0799560546875,\n        \"max\": 3626.909912109375,\n        \"num_unique_values\": 1252,\n        \"samples\": [\n          2785.679931640625,\n          3443.43994140625,\n          3003.3701171875\n        ],\n        \"semantic_type\": \"\",\n        \"description\": \"\"\n      }\n    },\n    {\n      \"column\": \"Volume\",\n      \"properties\": {\n        \"dtype\": \"number\",\n        \"std\": 1087592837.8896685,\n        \"min\": 1296540000.0,\n        \"max\": 9044690000.0,\n        \"num_unique_values\": 1258,\n        \"samples\": [\n          3684910000.0,\n          4184880000.0,\n          5636460000.0\n        ],\n        \"semantic_type\": \"\",\n        \"description\": \"\"\n      }\n    },\n    {\n      \"column\": \"Adj Close\",\n      \"properties\": {\n        \"dtype\": \"number\",\n        \"std\": 407.30117676380684,\n        \"min\": 1829.0799560546875,\n        \"max\": 3626.909912109375,\n        \"num_unique_values\": 1252,\n        \"samples\": [\n          2785.679931640625,\n          3443.43994140625,\n          3003.3701171875\n        ],\n        \"semantic_type\": \"\",\n        \"description\": \"\"\n      }\n    }\n  ]\n}"
            }
          },
          "metadata": {},
          "execution_count": 10
        }
      ]
    },
    {
      "cell_type": "code",
      "source": [
        "df[['High','Low','Open','Close']].plot(figsize = (15, 5), alpha = 0.5)"
      ],
      "metadata": {
        "id": "mh07ebrL7bFx",
        "colab": {
          "base_uri": "https://localhost:8080/",
          "height": 483
        },
        "outputId": "3671ee4e-e496-44f2-c149-e9195df55f4c"
      },
      "execution_count": 11,
      "outputs": [
        {
          "output_type": "execute_result",
          "data": {
            "text/plain": [
              "<Axes: xlabel='Date'>"
            ]
          },
          "metadata": {},
          "execution_count": 11
        },
        {
          "output_type": "display_data",
          "data": {
            "text/plain": [
              "<Figure size 1500x500 with 1 Axes>"
            ],
            "image/png": "[encoded data removed]"
          },
          "metadata": {}
        }
      ]
    },
    {
      "cell_type": "code",
      "source": [
        "df.High.hist(bins=50)"
      ],
      "metadata": {
        "id": "HxkhxxPa7bJQ",
        "colab": {
          "base_uri": "https://localhost:8080/",
          "height": 448
        },
        "outputId": "6d00123d-3e6f-4547-a0e4-8df6a8351a8c"
      },
      "execution_count": 12,
      "outputs": [
        {
          "output_type": "execute_result",
          "data": {
            "text/plain": [
              "<Axes: >"
            ]
          },
          "metadata": {},
          "execution_count": 12
        },
        {
          "output_type": "display_data",
          "data": {
            "text/plain": [
              "<Figure size 640x480 with 1 Axes>"
            ],
            "image/png": "[encoded data removed]"
          },
          "metadata": {}
        }
      ]
    },
    {
      "cell_type": "code",
      "source": [
        "np.round(df.shape[0]/10,0)"
      ],
      "metadata": {
        "id": "pwdkkpjx75eS",
        "colab": {
          "base_uri": "https://localhost:8080/"
        },
        "outputId": "2dc89f27-c330-4a9f-e7e1-f0a68c5cf8e3"
      },
      "execution_count": 13,
      "outputs": [
        {
          "output_type": "execute_result",
          "data": {
            "text/plain": [
              "182.0"
            ]
          },
          "metadata": {},
          "execution_count": 13
        }
      ]
    },
    {
      "cell_type": "code",
      "source": [
        "from statistics import stdev\n",
        "mean=[]\n",
        "std=[]\n",
        "\n",
        "for i in range(0,10):\n",
        "    mean.append(df['High'].iloc[(i*182):(i*182)+182].mean())\n",
        "    std.append(stdev(df['High'].iloc[(i*182):(i*182)+182]))"
      ],
      "metadata": {
        "id": "7jb0TdgE75hB"
      },
      "execution_count": 14,
      "outputs": []
    },
    {
      "cell_type": "code",
      "source": [
        "pd.concat([pd.DataFrame(mean,columns=['mean']),pd.DataFrame(std,columns=['std'])], axis=1)"
      ],
      "metadata": {
        "id": "Vry_zEi275i-",
        "colab": {
          "base_uri": "https://localhost:8080/",
          "height": 363
        },
        "outputId": "4ec1a2e9-0619-424b-ba1f-bbfd81d125c1"
      },
      "execution_count": 15,
      "outputs": [
        {
          "output_type": "execute_result",
          "data": {
            "text/plain": [
              "          mean         std\n",
              "0  2019.354300   71.041024\n",
              "1  2147.740282   36.287599\n",
              "2  2322.969570   60.228422\n",
              "3  2489.706581   55.878102\n",
              "4  2711.253743   63.125935\n",
              "5  2816.088946   68.351685\n",
              "6  2754.165647  131.792411\n",
              "7  2965.153137   74.059325\n",
              "8  3045.669328  267.695412\n",
              "9  3309.076588  165.733813"
            ],
            "text/html": [
              "\n",
              "  <div id=\"df-5022032c-af91-4b6c-8e1a-410185e113c0\" class=\"colab-df-container\">\n",
              "    <div>\n",
              "<style scoped>\n",
              "    .dataframe tbody tr th:only-of-type {\n",
              "        vertical-align: middle;\n",
              "    }\n",
              "\n",
              "    .dataframe tbody tr th {\n",
              "        vertical-align: top;\n",
              "    }\n",
              "\n",
              "    .dataframe thead th {\n",
              "        text-align: right;\n",
              "    }\n",
              "</style>\n",
              "<table border=\"1\" class=\"dataframe\">\n",
              "  <thead>\n",
              "    <tr style=\"text-align: right;\">\n",
              "      <th></th>\n",
              "      <th>mean</th>\n",
              "      <th>std</th>\n",
              "    </tr>\n",
              "  </thead>\n",
              "  <tbody>\n",
              "    <tr>\n",
              "      <th>0</th>\n",
              "      <td>2019.354300</td>\n",
              "      <td>71.041024</td>\n",
              "    </tr>\n",
              "    <tr>\n",
              "      <th>1</th>\n",
              "      <td>2147.740282</td>\n",
              "      <td>36.287599</td>\n",
              "    </tr>\n",
              "    <tr>\n",
              "      <th>2</th>\n",
              "      <td>2322.969570</td>\n",
              "      <td>60.228422</td>\n",
              "    </tr>\n",
              "    <tr>\n",
              "      <th>3</th>\n",
              "      <td>2489.706581</td>\n",
              "      <td>55.878102</td>\n",
              "    </tr>\n",
              "    <tr>\n",
              "      <th>4</th>\n",
              "      <td>2711.253743</td>\n",
              "      <td>63.125935</td>\n",
              "    </tr>\n",
              "    <tr>\n",
              "      <th>5</th>\n",
              "      <td>2816.088946</td>\n",
              "      <td>68.351685</td>\n",
              "    </tr>\n",
              "    <tr>\n",
              "      <th>6</th>\n",
              "      <td>2754.165647</td>\n",
              "      <td>131.792411</td>\n",
              "    </tr>\n",
              "    <tr>\n",
              "      <th>7</th>\n",
              "      <td>2965.153137</td>\n",
              "      <td>74.059325</td>\n",
              "    </tr>\n",
              "    <tr>\n",
              "      <th>8</th>\n",
              "      <td>3045.669328</td>\n",
              "      <td>267.695412</td>\n",
              "    </tr>\n",
              "    <tr>\n",
              "      <th>9</th>\n",
              "      <td>3309.076588</td>\n",
              "      <td>165.733813</td>\n",
              "    </tr>\n",
              "  </tbody>\n",
              "</table>\n",
              "</div>\n",
              "    <div class=\"colab-df-buttons\">\n",
              "\n",
              "  <div class=\"colab-df-container\">\n",
              "    <button class=\"colab-df-convert\" onclick=\"convertToInteractive('df-5022032c-af91-4b6c-8e1a-410185e113c0')\"\n",
              "            title=\"Convert this dataframe to an interactive table.\"\n",
              "            style=\"display:none;\">\n",
              "\n",
              "  <svg xmlns=\"http://www.w3.org/2000/svg\" height=\"24px\" viewBox=\"0 -960 960 960\">\n",
              "    <path d=\"M120-120v-720h720v720H120Zm60-500h600v-160H180v160Zm220 220h160v-160H400v160Zm0 220h160v-160H400v160ZM180-400h160v-160H180v160Zm440 0h160v-160H620v160ZM180-180h160v-160H180v160Zm440 0h160v-160H620v160Z\"/>\n",
              "  </svg>\n",
              "    </button>\n",
              "\n",
              "  <style>\n",
              "    .colab-df-container {\n",
              "      display:flex;\n",
              "      gap: 12px;\n",
              "    }\n",
              "\n",
              "    .colab-df-convert {\n",
              "      background-color: #E8F0FE;\n",
              "      border: none;\n",
              "      border-radius: 50%;\n",
              "      cursor: pointer;\n",
              "      display: none;\n",
              "      fill: #1967D2;\n",
              "      height: 32px;\n",
              "      padding: 0 0 0 0;\n",
              "      width: 32px;\n",
              "    }\n",
              "\n",
              "    .colab-df-convert:hover {\n",
              "      background-color: #E2EBFA;\n",
              "      box-shadow: 0px 1px 2px rgba(60, 64, 67, 0.3), 0px 1px 3px 1px rgba(60, 64, 67, 0.15);\n",
              "      fill: #174EA6;\n",
              "    }\n",
              "\n",
              "    .colab-df-buttons div {\n",
              "      margin-bottom: 4px;\n",
              "    }\n",
              "\n",
              "    [theme=dark] .colab-df-convert {\n",
              "      background-color: #3B4455;\n",
              "      fill: #D2E3FC;\n",
              "    }\n",
              "\n",
              "    [theme=dark] .colab-df-convert:hover {\n",
              "      background-color: #434B5C;\n",
              "      box-shadow: 0px 1px 3px 1px rgba(0, 0, 0, 0.15);\n",
              "      filter: drop-shadow(0px 1px 2px rgba(0, 0, 0, 0.3));\n",
              "      fill: #FFFFFF;\n",
              "    }\n",
              "  </style>\n",
              "\n",
              "    <script>\n",
              "      const buttonEl =\n",
              "        document.querySelector('#df-5022032c-af91-4b6c-8e1a-410185e113c0 button.colab-df-convert');\n",
              "      buttonEl.style.display =\n",
              "        google.colab.kernel.accessAllowed ? 'block' : 'none';\n",
              "\n",
              "      async function convertToInteractive(key) {\n",
              "        const element = document.querySelector('#df-5022032c-af91-4b6c-8e1a-410185e113c0');\n",
              "        const dataTable =\n",
              "          await google.colab.kernel.invokeFunction('convertToInteractive',\n",
              "                                                    [key], {});\n",
              "        if (!dataTable) return;\n",
              "\n",
              "        const docLinkHtml = 'Like what you see? Visit the ' +\n",
              "          '<a target=\"_blank\" href=https://colab.research.google.com/notebooks/data_table.ipynb>data table notebook</a>'\n",
              "          + ' to learn more about interactive tables.';\n",
              "        element.innerHTML = '';\n",
              "        dataTable['output_type'] = 'display_data';\n",
              "        await google.colab.output.renderOutput(dataTable, element);\n",
              "        const docLink = document.createElement('div');\n",
              "        docLink.innerHTML = docLinkHtml;\n",
              "        element.appendChild(docLink);\n",
              "      }\n",
              "    </script>\n",
              "  </div>\n",
              "\n",
              "\n",
              "<div id=\"df-7cbeb7ad-2bf2-4c57-8de3-6742938fb949\">\n",
              "  <button class=\"colab-df-quickchart\" onclick=\"quickchart('df-7cbeb7ad-2bf2-4c57-8de3-6742938fb949')\"\n",
              "            title=\"Suggest charts\"\n",
              "            style=\"display:none;\">\n",
              "\n",
              "<svg xmlns=\"http://www.w3.org/2000/svg\" height=\"24px\"viewBox=\"0 0 24 24\"\n",
              "     width=\"24px\">\n",
              "    <g>\n",
              "        <path d=\"M19 3H5c-1.1 0-2 .9-2 2v14c0 1.1.9 2 2 2h14c1.1 0 2-.9 2-2V5c0-1.1-.9-2-2-2zM9 17H7v-7h2v7zm4 0h-2V7h2v10zm4 0h-2v-4h2v4z\"/>\n",
              "    </g>\n",
              "</svg>\n",
              "  </button>\n",
              "\n",
              "<style>\n",
              "  .colab-df-quickchart {\n",
              "      --bg-color: #E8F0FE;\n",
              "      --fill-color: #1967D2;\n",
              "      --hover-bg-color: #E2EBFA;\n",
              "      --hover-fill-color: #174EA6;\n",
              "      --disabled-fill-color: #AAA;\n",
              "      --disabled-bg-color: #DDD;\n",
              "  }\n",
              "\n",
              "  [theme=dark] .colab-df-quickchart {\n",
              "      --bg-color: #3B4455;\n",
              "      --fill-color: #D2E3FC;\n",
              "      --hover-bg-color: #434B5C;\n",
              "      --hover-fill-color: #FFFFFF;\n",
              "      --disabled-bg-color: #3B4455;\n",
              "      --disabled-fill-color: #666;\n",
              "  }\n",
              "\n",
              "  .colab-df-quickchart {\n",
              "    background-color: var(--bg-color);\n",
              "    border: none;\n",
              "    border-radius: 50%;\n",
              "    cursor: pointer;\n",
              "    display: none;\n",
              "    fill: var(--fill-color);\n",
              "    height: 32px;\n",
              "    padding: 0;\n",
              "    width: 32px;\n",
              "  }\n",
              "\n",
              "  .colab-df-quickchart:hover {\n",
              "    background-color: var(--hover-bg-color);\n",
              "    box-shadow: 0 1px 2px rgba(60, 64, 67, 0.3), 0 1px 3px 1px rgba(60, 64, 67, 0.15);\n",
              "    fill: var(--button-hover-fill-color);\n",
              "  }\n",
              "\n",
              "  .colab-df-quickchart-complete:disabled,\n",
              "  .colab-df-quickchart-complete:disabled:hover {\n",
              "    background-color: var(--disabled-bg-color);\n",
              "    fill: var(--disabled-fill-color);\n",
              "    box-shadow: none;\n",
              "  }\n",
              "\n",
              "  .colab-df-spinner {\n",
              "    border: 2px solid var(--fill-color);\n",
              "    border-color: transparent;\n",
              "    border-bottom-color: var(--fill-color);\n",
              "    animation:\n",
              "      spin 1s steps(1) infinite;\n",
              "  }\n",
              "\n",
              "  @keyframes spin {\n",
              "    0% {\n",
              "      border-color: transparent;\n",
              "      border-bottom-color: var(--fill-color);\n",
              "      border-left-color: var(--fill-color);\n",
              "    }\n",
              "    20% {\n",
              "      border-color: transparent;\n",
              "      border-left-color: var(--fill-color);\n",
              "      border-top-color: var(--fill-color);\n",
              "    }\n",
              "    30% {\n",
              "      border-color: transparent;\n",
              "      border-left-color: var(--fill-color);\n",
              "      border-top-color: var(--fill-color);\n",
              "      border-right-color: var(--fill-color);\n",
              "    }\n",
              "    40% {\n",
              "      border-color: transparent;\n",
              "      border-right-color: var(--fill-color);\n",
              "      border-top-color: var(--fill-color);\n",
              "    }\n",
              "    60% {\n",
              "      border-color: transparent;\n",
              "      border-right-color: var(--fill-color);\n",
              "    }\n",
              "    80% {\n",
              "      border-color: transparent;\n",
              "      border-right-color: var(--fill-color);\n",
              "      border-bottom-color: var(--fill-color);\n",
              "    }\n",
              "    90% {\n",
              "      border-color: transparent;\n",
              "      border-bottom-color: var(--fill-color);\n",
              "    }\n",
              "  }\n",
              "</style>\n",
              "\n",
              "  <script>\n",
              "    async function quickchart(key) {\n",
              "      const quickchartButtonEl =\n",
              "        document.querySelector('#' + key + ' button');\n",
              "      quickchartButtonEl.disabled = true;  // To prevent multiple clicks.\n",
              "      quickchartButtonEl.classList.add('colab-df-spinner');\n",
              "      try {\n",
              "        const charts = await google.colab.kernel.invokeFunction(\n",
              "            'suggestCharts', [key], {});\n",
              "      } catch (error) {\n",
              "        console.error('Error during call to suggestCharts:', error);\n",
              "      }\n",
              "      quickchartButtonEl.classList.remove('colab-df-spinner');\n",
              "      quickchartButtonEl.classList.add('colab-df-quickchart-complete');\n",
              "    }\n",
              "    (() => {\n",
              "      let quickchartButtonEl =\n",
              "        document.querySelector('#df-7cbeb7ad-2bf2-4c57-8de3-6742938fb949 button');\n",
              "      quickchartButtonEl.style.display =\n",
              "        google.colab.kernel.accessAllowed ? 'block' : 'none';\n",
              "    })();\n",
              "  </script>\n",
              "</div>\n",
              "\n",
              "    </div>\n",
              "  </div>\n"
            ],
            "application/vnd.google.colaboratory.intrinsic+json": {
              "type": "dataframe",
              "summary": "{\n  \"name\": \"pd\",\n  \"rows\": 10,\n  \"fields\": [\n    {\n      \"column\": \"mean\",\n      \"properties\": {\n        \"dtype\": \"number\",\n        \"std\": 410.20434250179414,\n        \"min\": 2019.3542996920073,\n        \"max\": 3309.076587718922,\n        \"num_unique_values\": 10,\n        \"samples\": [\n          3045.6693276206215,\n          2147.740281995836,\n          2816.088946331988\n        ],\n        \"semantic_type\": \"\",\n        \"description\": \"\"\n      }\n    },\n    {\n      \"column\": \"std\",\n      \"properties\": {\n        \"dtype\": \"number\",\n        \"std\": 70.6404945758924,\n        \"min\": 36.28759871930698,\n        \"max\": 267.6954122870063,\n        \"num_unique_values\": 10,\n        \"samples\": [\n          267.6954122870063,\n          36.28759871930698,\n          68.35168488920196\n        ],\n        \"semantic_type\": \"\",\n        \"description\": \"\"\n      }\n    }\n  ]\n}"
            }
          },
          "metadata": {},
          "execution_count": 15
        }
      ]
    },
    {
      "cell_type": "code",
      "source": [
        "new_df=df['High'].iloc[:-4]"
      ],
      "metadata": {
        "id": "OyvAYSh275li"
      },
      "execution_count": 16,
      "outputs": []
    },
    {
      "cell_type": "code",
      "source": [
        "train_len = math.ceil(len(new_df)*0.8)\n",
        "train_len"
      ],
      "metadata": {
        "id": "NPjf9oQV75ny",
        "colab": {
          "base_uri": "https://localhost:8080/"
        },
        "outputId": "49297075-02b1-4ec1-d5d8-77fa41ec52e9"
      },
      "execution_count": 17,
      "outputs": [
        {
          "output_type": "execute_result",
          "data": {
            "text/plain": [
              "1457"
            ]
          },
          "metadata": {},
          "execution_count": 17
        }
      ]
    },
    {
      "cell_type": "code",
      "source": [
        "window=10\n",
        "train_data = new_df[0:train_len]\n",
        "\n",
        "X_train=[]\n",
        "Y_train=[]\n",
        "\n",
        "for i in range(window, len(train_data)):\n",
        "    X_train.append(train_data[i-window:i])\n",
        "    Y_train.append(train_data[i])"
      ],
      "metadata": {
        "id": "a1CYB7gy75p6"
      },
      "execution_count": 18,
      "outputs": []
    },
    {
      "cell_type": "code",
      "source": [
        "X_train, Y_train= np.array(X_train), np.array(Y_train)"
      ],
      "metadata": {
        "id": "1tgeZs0I75sZ"
      },
      "execution_count": 19,
      "outputs": []
    },
    {
      "cell_type": "code",
      "source": [
        "X_train = np.reshape(X_train, (X_train.shape[0], X_train.shape[1], 1))\n",
        "X_train.shape"
      ],
      "metadata": {
        "id": "7X1_30Iq75vw",
        "colab": {
          "base_uri": "https://localhost:8080/"
        },
        "outputId": "8e108c50-91a2-4889-d9fd-d66044134e4a"
      },
      "execution_count": 20,
      "outputs": [
        {
          "output_type": "execute_result",
          "data": {
            "text/plain": [
              "(1447, 10, 1)"
            ]
          },
          "metadata": {},
          "execution_count": 20
        }
      ]
    },
    {
      "cell_type": "code",
      "source": [
        "from keras.models import Sequential\n",
        "from keras.layers import Dense, LSTM, Dropout"
      ],
      "metadata": {
        "id": "OiPFB50waAkd"
      },
      "execution_count": 21,
      "outputs": []
    },
    {
      "cell_type": "code",
      "source": [
        "model=Sequential()\n",
        "model.add(LSTM(50, activation='relu', input_shape=(X_train.shape[1],1)))\n",
        "model.add(Dense(25))\n",
        "model.add(Dense(1))\n",
        "model.compile(loss='mean_squared_error', optimizer='adam')\n",
        "model.summary()\n",
        "model.fit(X_train, Y_train, epochs=10, batch_size=10, verbose=0)"
      ],
      "metadata": {
        "colab": {
          "base_uri": "https://localhost:8080/"
        },
        "id": "VdSexj8xaAm5",
        "outputId": "857959d7-108d-4f5e-d3cc-c4e55983c88a"
      },
      "execution_count": 22,
      "outputs": [
        {
          "output_type": "stream",
          "name": "stdout",
          "text": [
            "Model: \"sequential\"\n",
            "_________________________________________________________________\n",
            " Layer (type)                Output Shape              Param #   \n",
            "=================================================================\n",
            " lstm (LSTM)                 (None, 50)                10400     \n",
            "                                                                 \n",
            " dense (Dense)               (None, 25)                1275      \n",
            "                                                                 \n",
            " dense_1 (Dense)             (None, 1)                 26        \n",
            "                                                                 \n",
            "=================================================================\n",
            "Total params: 11701 (45.71 KB)\n",
            "Trainable params: 11701 (45.71 KB)\n",
            "Non-trainable params: 0 (0.00 Byte)\n",
            "_________________________________________________________________\n"
          ]
        },
        {
          "output_type": "execute_result",
          "data": {
            "text/plain": [
              "<keras.src.callbacks.History at 0x7f7310299930>"
            ]
          },
          "metadata": {},
          "execution_count": 22
        }
      ]
    },
    {
      "cell_type": "code",
      "source": [
        "test_data = new_df[train_len-window:]\n",
        "\n",
        "X_val=[]\n",
        "Y_val=[]\n",
        "\n",
        "for i in range(window, len(test_data)):\n",
        "    X_val.append(test_data[i-window:i])\n",
        "    Y_val.append(test_data[i])"
      ],
      "metadata": {
        "id": "l2K_c5XwaApX"
      },
      "execution_count": 23,
      "outputs": []
    },
    {
      "cell_type": "code",
      "source": [
        "X_val, Y_val = np.array(X_val), np.array(Y_val)\n",
        "X_val = np.reshape(X_val, (X_val.shape[0], X_val.shape[1],1))"
      ],
      "metadata": {
        "id": "dVebK0DEaArs"
      },
      "execution_count": 24,
      "outputs": []
    },
    {
      "cell_type": "code",
      "source": [
        "prediction = model.predict(X_val)"
      ],
      "metadata": {
        "colab": {
          "base_uri": "https://localhost:8080/"
        },
        "id": "e83_vDn-aAuB",
        "outputId": "021cbe81-0b8e-415a-9400-a86852af728b"
      },
      "execution_count": 25,
      "outputs": [
        {
          "output_type": "stream",
          "name": "stdout",
          "text": [
            "12/12 [==============================] - 0s 4ms/step\n"
          ]
        }
      ]
    },
    {
      "cell_type": "code",
      "source": [
        "len(prediction), len(Y_val)"
      ],
      "metadata": {
        "colab": {
          "base_uri": "https://localhost:8080/"
        },
        "id": "lEnopFBzaAxZ",
        "outputId": "fc527989-3886-4be5-f2b4-ec7390c79939"
      },
      "execution_count": 26,
      "outputs": [
        {
          "output_type": "execute_result",
          "data": {
            "text/plain": [
              "(364, 364)"
            ]
          },
          "metadata": {},
          "execution_count": 26
        }
      ]
    },
    {
      "cell_type": "code",
      "source": [
        "from sklearn.metrics import mean_squared_error\n",
        "lstm_train_pred = model.predict(X_train)\n",
        "lstm_valid_pred = model.predict(X_val)\n",
        "print('Train rmse:', np.sqrt(mean_squared_error(Y_train, lstm_train_pred)))\n",
        "print('Validation rmse:', np.sqrt(mean_squared_error(Y_val, lstm_valid_pred)))"
      ],
      "metadata": {
        "colab": {
          "base_uri": "https://localhost:8080/"
        },
        "id": "_0ZVCUZoaA52",
        "outputId": "2f900f06-6e69-4b4e-e158-9e3793669e81"
      },
      "execution_count": 27,
      "outputs": [
        {
          "output_type": "stream",
          "name": "stdout",
          "text": [
            "46/46 [==============================] - 0s 6ms/step\n",
            "12/12 [==============================] - 0s 7ms/step\n",
            "Train rmse: 34.88868259080918\n",
            "Validation rmse: 94.54129152345021\n"
          ]
        }
      ]
    },
    {
      "cell_type": "code",
      "source": [
        "valid = pd.DataFrame(new_df[train_len:])\n",
        "valid['Predictions']=lstm_valid_pred\n",
        "valid"
      ],
      "metadata": {
        "colab": {
          "base_uri": "https://localhost:8080/",
          "height": 455
        },
        "id": "gfJkpMWzaA-N",
        "outputId": "85027a95-aa74-4a2a-f4ec-5abe11bdb61a"
      },
      "execution_count": 28,
      "outputs": [
        {
          "output_type": "execute_result",
          "data": {
            "text/plain": [
              "                   High  Predictions\n",
              "Date                                \n",
              "2019-11-19  3127.639893  3115.428711\n",
              "2019-11-20  3118.969971  3118.611084\n",
              "2019-11-21  3110.110107  3122.634766\n",
              "2019-11-22  3112.870117  3126.789062\n",
              "2019-11-23  3112.870117  3128.434326\n",
              "...                 ...          ...\n",
              "2020-11-12  3569.020020  3493.563721\n",
              "2020-11-13  3593.659912  3538.690674\n",
              "2020-11-14  3593.659912  3555.761230\n",
              "2020-11-15  3593.659912  3571.528320\n",
              "2020-11-16  3628.510010  3576.894531\n",
              "\n",
              "[364 rows x 2 columns]"
            ],
            "text/html": [
              "\n",
              "  <div id=\"df-434baf0b-ff27-4935-bf0e-977f1f5ca4da\" class=\"colab-df-container\">\n",
              "    <div>\n",
              "<style scoped>\n",
              "    .dataframe tbody tr th:only-of-type {\n",
              "        vertical-align: middle;\n",
              "    }\n",
              "\n",
              "    .dataframe tbody tr th {\n",
              "        vertical-align: top;\n",
              "    }\n",
              "\n",
              "    .dataframe thead th {\n",
              "        text-align: right;\n",
              "    }\n",
              "</style>\n",
              "<table border=\"1\" class=\"dataframe\">\n",
              "  <thead>\n",
              "    <tr style=\"text-align: right;\">\n",
              "      <th></th>\n",
              "      <th>High</th>\n",
              "      <th>Predictions</th>\n",
              "    </tr>\n",
              "    <tr>\n",
              "      <th>Date</th>\n",
              "      <th></th>\n",
              "      <th></th>\n",
              "    </tr>\n",
              "  </thead>\n",
              "  <tbody>\n",
              "    <tr>\n",
              "      <th>2019-11-19</th>\n",
              "      <td>3127.639893</td>\n",
              "      <td>3115.428711</td>\n",
              "    </tr>\n",
              "    <tr>\n",
              "      <th>2019-11-20</th>\n",
              "      <td>3118.969971</td>\n",
              "      <td>3118.611084</td>\n",
              "    </tr>\n",
              "    <tr>\n",
              "      <th>2019-11-21</th>\n",
              "      <td>3110.110107</td>\n",
              "      <td>3122.634766</td>\n",
              "    </tr>\n",
              "    <tr>\n",
              "      <th>2019-11-22</th>\n",
              "      <td>3112.870117</td>\n",
              "      <td>3126.789062</td>\n",
              "    </tr>\n",
              "    <tr>\n",
              "      <th>2019-11-23</th>\n",
              "      <td>3112.870117</td>\n",
              "      <td>3128.434326</td>\n",
              "    </tr>\n",
              "    <tr>\n",
              "      <th>...</th>\n",
              "      <td>...</td>\n",
              "      <td>...</td>\n",
              "    </tr>\n",
              "    <tr>\n",
              "      <th>2020-11-12</th>\n",
              "      <td>3569.020020</td>\n",
              "      <td>3493.563721</td>\n",
              "    </tr>\n",
              "    <tr>\n",
              "      <th>2020-11-13</th>\n",
              "      <td>3593.659912</td>\n",
              "      <td>3538.690674</td>\n",
              "    </tr>\n",
              "    <tr>\n",
              "      <th>2020-11-14</th>\n",
              "      <td>3593.659912</td>\n",
              "      <td>3555.761230</td>\n",
              "    </tr>\n",
              "    <tr>\n",
              "      <th>2020-11-15</th>\n",
              "      <td>3593.659912</td>\n",
              "      <td>3571.528320</td>\n",
              "    </tr>\n",
              "    <tr>\n",
              "      <th>2020-11-16</th>\n",
              "      <td>3628.510010</td>\n",
              "      <td>3576.894531</td>\n",
              "    </tr>\n",
              "  </tbody>\n",
              "</table>\n",
              "<p>364 rows × 2 columns</p>\n",
              "</div>\n",
              "    <div class=\"colab-df-buttons\">\n",
              "\n",
              "  <div class=\"colab-df-container\">\n",
              "    <button class=\"colab-df-convert\" onclick=\"convertToInteractive('df-434baf0b-ff27-4935-bf0e-977f1f5ca4da')\"\n",
              "            title=\"Convert this dataframe to an interactive table.\"\n",
              "            style=\"display:none;\">\n",
              "\n",
              "  <svg xmlns=\"http://www.w3.org/2000/svg\" height=\"24px\" viewBox=\"0 -960 960 960\">\n",
              "    <path d=\"M120-120v-720h720v720H120Zm60-500h600v-160H180v160Zm220 220h160v-160H400v160Zm0 220h160v-160H400v160ZM180-400h160v-160H180v160Zm440 0h160v-160H620v160ZM180-180h160v-160H180v160Zm440 0h160v-160H620v160Z\"/>\n",
              "  </svg>\n",
              "    </button>\n",
              "\n",
              "  <style>\n",
              "    .colab-df-container {\n",
              "      display:flex;\n",
              "      gap: 12px;\n",
              "    }\n",
              "\n",
              "    .colab-df-convert {\n",
              "      background-color: #E8F0FE;\n",
              "      border: none;\n",
              "      border-radius: 50%;\n",
              "      cursor: pointer;\n",
              "      display: none;\n",
              "      fill: #1967D2;\n",
              "      height: 32px;\n",
              "      padding: 0 0 0 0;\n",
              "      width: 32px;\n",
              "    }\n",
              "\n",
              "    .colab-df-convert:hover {\n",
              "      background-color: #E2EBFA;\n",
              "      box-shadow: 0px 1px 2px rgba(60, 64, 67, 0.3), 0px 1px 3px 1px rgba(60, 64, 67, 0.15);\n",
              "      fill: #174EA6;\n",
              "    }\n",
              "\n",
              "    .colab-df-buttons div {\n",
              "      margin-bottom: 4px;\n",
              "    }\n",
              "\n",
              "    [theme=dark] .colab-df-convert {\n",
              "      background-color: #3B4455;\n",
              "      fill: #D2E3FC;\n",
              "    }\n",
              "\n",
              "    [theme=dark] .colab-df-convert:hover {\n",
              "      background-color: #434B5C;\n",
              "      box-shadow: 0px 1px 3px 1px rgba(0, 0, 0, 0.15);\n",
              "      filter: drop-shadow(0px 1px 2px rgba(0, 0, 0, 0.3));\n",
              "      fill: #FFFFFF;\n",
              "    }\n",
              "  </style>\n",
              "\n",
              "    <script>\n",
              "      const buttonEl =\n",
              "        document.querySelector('#df-434baf0b-ff27-4935-bf0e-977f1f5ca4da button.colab-df-convert');\n",
              "      buttonEl.style.display =\n",
              "        google.colab.kernel.accessAllowed ? 'block' : 'none';\n",
              "\n",
              "      async function convertToInteractive(key) {\n",
              "        const element = document.querySelector('#df-434baf0b-ff27-4935-bf0e-977f1f5ca4da');\n",
              "        const dataTable =\n",
              "          await google.colab.kernel.invokeFunction('convertToInteractive',\n",
              "                                                    [key], {});\n",
              "        if (!dataTable) return;\n",
              "\n",
              "        const docLinkHtml = 'Like what you see? Visit the ' +\n",
              "          '<a target=\"_blank\" href=https://colab.research.google.com/notebooks/data_table.ipynb>data table notebook</a>'\n",
              "          + ' to learn more about interactive tables.';\n",
              "        element.innerHTML = '';\n",
              "        dataTable['output_type'] = 'display_data';\n",
              "        await google.colab.output.renderOutput(dataTable, element);\n",
              "        const docLink = document.createElement('div');\n",
              "        docLink.innerHTML = docLinkHtml;\n",
              "        element.appendChild(docLink);\n",
              "      }\n",
              "    </script>\n",
              "  </div>\n",
              "\n",
              "\n",
              "<div id=\"df-3eb1d75a-6222-457f-ab4c-14c33af0ce58\">\n",
              "  <button class=\"colab-df-quickchart\" onclick=\"quickchart('df-3eb1d75a-6222-457f-ab4c-14c33af0ce58')\"\n",
              "            title=\"Suggest charts\"\n",
              "            style=\"display:none;\">\n",
              "\n",
              "<svg xmlns=\"http://www.w3.org/2000/svg\" height=\"24px\"viewBox=\"0 0 24 24\"\n",
              "     width=\"24px\">\n",
              "    <g>\n",
              "        <path d=\"M19 3H5c-1.1 0-2 .9-2 2v14c0 1.1.9 2 2 2h14c1.1 0 2-.9 2-2V5c0-1.1-.9-2-2-2zM9 17H7v-7h2v7zm4 0h-2V7h2v10zm4 0h-2v-4h2v4z\"/>\n",
              "    </g>\n",
              "</svg>\n",
              "  </button>\n",
              "\n",
              "<style>\n",
              "  .colab-df-quickchart {\n",
              "      --bg-color: #E8F0FE;\n",
              "      --fill-color: #1967D2;\n",
              "      --hover-bg-color: #E2EBFA;\n",
              "      --hover-fill-color: #174EA6;\n",
              "      --disabled-fill-color: #AAA;\n",
              "      --disabled-bg-color: #DDD;\n",
              "  }\n",
              "\n",
              "  [theme=dark] .colab-df-quickchart {\n",
              "      --bg-color: #3B4455;\n",
              "      --fill-color: #D2E3FC;\n",
              "      --hover-bg-color: #434B5C;\n",
              "      --hover-fill-color: #FFFFFF;\n",
              "      --disabled-bg-color: #3B4455;\n",
              "      --disabled-fill-color: #666;\n",
              "  }\n",
              "\n",
              "  .colab-df-quickchart {\n",
              "    background-color: var(--bg-color);\n",
              "    border: none;\n",
              "    border-radius: 50%;\n",
              "    cursor: pointer;\n",
              "    display: none;\n",
              "    fill: var(--fill-color);\n",
              "    height: 32px;\n",
              "    padding: 0;\n",
              "    width: 32px;\n",
              "  }\n",
              "\n",
              "  .colab-df-quickchart:hover {\n",
              "    background-color: var(--hover-bg-color);\n",
              "    box-shadow: 0 1px 2px rgba(60, 64, 67, 0.3), 0 1px 3px 1px rgba(60, 64, 67, 0.15);\n",
              "    fill: var(--button-hover-fill-color);\n",
              "  }\n",
              "\n",
              "  .colab-df-quickchart-complete:disabled,\n",
              "  .colab-df-quickchart-complete:disabled:hover {\n",
              "    background-color: var(--disabled-bg-color);\n",
              "    fill: var(--disabled-fill-color);\n",
              "    box-shadow: none;\n",
              "  }\n",
              "\n",
              "  .colab-df-spinner {\n",
              "    border: 2px solid var(--fill-color);\n",
              "    border-color: transparent;\n",
              "    border-bottom-color: var(--fill-color);\n",
              "    animation:\n",
              "      spin 1s steps(1) infinite;\n",
              "  }\n",
              "\n",
              "  @keyframes spin {\n",
              "    0% {\n",
              "      border-color: transparent;\n",
              "      border-bottom-color: var(--fill-color);\n",
              "      border-left-color: var(--fill-color);\n",
              "    }\n",
              "    20% {\n",
              "      border-color: transparent;\n",
              "      border-left-color: var(--fill-color);\n",
              "      border-top-color: var(--fill-color);\n",
              "    }\n",
              "    30% {\n",
              "      border-color: transparent;\n",
              "      border-left-color: var(--fill-color);\n",
              "      border-top-color: var(--fill-color);\n",
              "      border-right-color: var(--fill-color);\n",
              "    }\n",
              "    40% {\n",
              "      border-color: transparent;\n",
              "      border-right-color: var(--fill-color);\n",
              "      border-top-color: var(--fill-color);\n",
              "    }\n",
              "    60% {\n",
              "      border-color: transparent;\n",
              "      border-right-color: var(--fill-color);\n",
              "    }\n",
              "    80% {\n",
              "      border-color: transparent;\n",
              "      border-right-color: var(--fill-color);\n",
              "      border-bottom-color: var(--fill-color);\n",
              "    }\n",
              "    90% {\n",
              "      border-color: transparent;\n",
              "      border-bottom-color: var(--fill-color);\n",
              "    }\n",
              "  }\n",
              "</style>\n",
              "\n",
              "  <script>\n",
              "    async function quickchart(key) {\n",
              "      const quickchartButtonEl =\n",
              "        document.querySelector('#' + key + ' button');\n",
              "      quickchartButtonEl.disabled = true;  // To prevent multiple clicks.\n",
              "      quickchartButtonEl.classList.add('colab-df-spinner');\n",
              "      try {\n",
              "        const charts = await google.colab.kernel.invokeFunction(\n",
              "            'suggestCharts', [key], {});\n",
              "      } catch (error) {\n",
              "        console.error('Error during call to suggestCharts:', error);\n",
              "      }\n",
              "      quickchartButtonEl.classList.remove('colab-df-spinner');\n",
              "      quickchartButtonEl.classList.add('colab-df-quickchart-complete');\n",
              "    }\n",
              "    (() => {\n",
              "      let quickchartButtonEl =\n",
              "        document.querySelector('#df-3eb1d75a-6222-457f-ab4c-14c33af0ce58 button');\n",
              "      quickchartButtonEl.style.display =\n",
              "        google.colab.kernel.accessAllowed ? 'block' : 'none';\n",
              "    })();\n",
              "  </script>\n",
              "</div>\n",
              "\n",
              "  <div id=\"id_815d763c-901f-445c-8b45-203cb15327c7\">\n",
              "    <style>\n",
              "      .colab-df-generate {\n",
              "        background-color: #E8F0FE;\n",
              "        border: none;\n",
              "        border-radius: 50%;\n",
              "        cursor: pointer;\n",
              "        display: none;\n",
              "        fill: #1967D2;\n",
              "        height: 32px;\n",
              "        padding: 0 0 0 0;\n",
              "        width: 32px;\n",
              "      }\n",
              "\n",
              "      .colab-df-generate:hover {\n",
              "        background-color: #E2EBFA;\n",
              "        box-shadow: 0px 1px 2px rgba(60, 64, 67, 0.3), 0px 1px 3px 1px rgba(60, 64, 67, 0.15);\n",
              "        fill: #174EA6;\n",
              "      }\n",
              "\n",
              "      [theme=dark] .colab-df-generate {\n",
              "        background-color: #3B4455;\n",
              "        fill: #D2E3FC;\n",
              "      }\n",
              "\n",
              "      [theme=dark] .colab-df-generate:hover {\n",
              "        background-color: #434B5C;\n",
              "        box-shadow: 0px 1px 3px 1px rgba(0, 0, 0, 0.15);\n",
              "        filter: drop-shadow(0px 1px 2px rgba(0, 0, 0, 0.3));\n",
              "        fill: #FFFFFF;\n",
              "      }\n",
              "    </style>\n",
              "    <button class=\"colab-df-generate\" onclick=\"generateWithVariable('valid')\"\n",
              "            title=\"Generate code using this dataframe.\"\n",
              "            style=\"display:none;\">\n",
              "\n",
              "  <svg xmlns=\"http://www.w3.org/2000/svg\" height=\"24px\"viewBox=\"0 0 24 24\"\n",
              "       width=\"24px\">\n",
              "    <path d=\"M7,19H8.4L18.45,9,17,7.55,7,17.6ZM5,21V16.75L18.45,3.32a2,2,0,0,1,2.83,0l1.4,1.43a1.91,1.91,0,0,1,.58,1.4,1.91,1.91,0,0,1-.58,1.4L9.25,21ZM18.45,9,17,7.55Zm-12,3A5.31,5.31,0,0,0,4.9,8.1,5.31,5.31,0,0,0,1,6.5,5.31,5.31,0,0,0,4.9,4.9,5.31,5.31,0,0,0,6.5,1,5.31,5.31,0,0,0,8.1,4.9,5.31,5.31,0,0,0,12,6.5,5.46,5.46,0,0,0,6.5,12Z\"/>\n",
              "  </svg>\n",
              "    </button>\n",
              "    <script>\n",
              "      (() => {\n",
              "      const buttonEl =\n",
              "        document.querySelector('#id_815d763c-901f-445c-8b45-203cb15327c7 button.colab-df-generate');\n",
              "      buttonEl.style.display =\n",
              "        google.colab.kernel.accessAllowed ? 'block' : 'none';\n",
              "\n",
              "      buttonEl.onclick = () => {\n",
              "        google.colab.notebook.generateWithVariable('valid');\n",
              "      }\n",
              "      })();\n",
              "    </script>\n",
              "  </div>\n",
              "\n",
              "    </div>\n",
              "  </div>\n"
            ],
            "application/vnd.google.colaboratory.intrinsic+json": {
              "type": "dataframe",
              "variable_name": "valid",
              "summary": "{\n  \"name\": \"valid\",\n  \"rows\": 364,\n  \"fields\": [\n    {\n      \"column\": \"Date\",\n      \"properties\": {\n        \"dtype\": \"date\",\n        \"min\": \"2019-11-19 00:00:00\",\n        \"max\": \"2020-11-16 00:00:00\",\n        \"num_unique_values\": 364,\n        \"samples\": [\n          \"2020-05-30 00:00:00\",\n          \"2019-12-22 00:00:00\",\n          \"2019-12-04 00:00:00\"\n        ],\n        \"semantic_type\": \"\",\n        \"description\": \"\"\n      }\n    },\n    {\n      \"column\": \"High\",\n      \"properties\": {\n        \"dtype\": \"number\",\n        \"std\": 259.56175879355345,\n        \"min\": 2300.72998046875,\n        \"max\": 3645.989990234375,\n        \"num_unique_values\": 251,\n        \"samples\": [\n          3165.81005859375,\n          3154.260009765625,\n          3220.389892578125\n        ],\n        \"semantic_type\": \"\",\n        \"description\": \"\"\n      }\n    },\n    {\n      \"column\": \"Predictions\",\n      \"properties\": {\n        \"dtype\": \"float32\",\n        \"num_unique_values\": 364,\n        \"samples\": [\n          2998.3310546875,\n          3205.513427734375,\n          3157.9892578125\n        ],\n        \"semantic_type\": \"\",\n        \"description\": \"\"\n      }\n    }\n  ]\n}"
            }
          },
          "metadata": {},
          "execution_count": 28
        }
      ]
    },
    {
      "cell_type": "code",
      "source": [
        "plt.plot(valid[['High','Predictions']])\n",
        "plt.legend(['Validation','Predictions'])\n",
        "plt.show()"
      ],
      "metadata": {
        "colab": {
          "base_uri": "https://localhost:8080/",
          "height": 430
        },
        "id": "WqZR3uXZaBBr",
        "outputId": "5c9ff588-88dd-4e99-a19e-a3a43f0bd168"
      },
      "execution_count": 29,
      "outputs": [
        {
          "output_type": "display_data",
          "data": {
            "text/plain": [
              "<Figure size 640x480 with 1 Axes>"
            ],
            "image/png": "[encoded data removed]"
          },
          "metadata": {}
        }
      ]
    },
    {
      "cell_type": "code",
      "source": [
        "train = new_df[:train_len]\n",
        "valid = pd.DataFrame(new_df[train_len:])\n",
        "valid['Predictions']=lstm_valid_pred\n",
        "\n",
        "plt.figure(figsize=(16,8))\n",
        "plt.title('Model LSTM')\n",
        "plt.xlabel('Date')\n",
        "plt.ylabel('Close Price USD')\n",
        "plt.plot(train)\n",
        "plt.plot(valid[['High','Predictions']])\n",
        "plt.legend(['Train','Val','Predictions'])\n",
        "plt.show()"
      ],
      "metadata": {
        "colab": {
          "base_uri": "https://localhost:8080/",
          "height": 696
        },
        "id": "YwQK625yac4o",
        "outputId": "b159305b-c780-4ff6-bb30-3338bb2b1be9"
      },
      "execution_count": 30,
      "outputs": [
        {
          "output_type": "display_data",
          "data": {
            "text/plain": [
              "<Figure size 1600x800 with 1 Axes>"
            ],
            "image/png": "[encoded data removed]"
          },
          "metadata": {}
        }
      ]
    },
    {
      "cell_type": "code",
      "source": [
        "train_error=[]\n",
        "val_error=[]\n",
        "\n",
        "window_number=[5,8,10,15,20,30,40]\n",
        "for i in window_number:\n",
        "    train_data = new_df[0:train_len]\n",
        "\n",
        "    X_train=[]\n",
        "    Y_train=[]\n",
        "\n",
        "    for i in range(window, len(train_data)):\n",
        "        X_train.append(train_data[i-window:i])\n",
        "        Y_train.append(train_data[i])\n",
        "\n",
        "    X_train, Y_train= np.array(X_train), np.array(Y_train)\n",
        "    X_train = np.reshape(X_train, (X_train.shape[0], X_train.shape[1], 1))\n",
        "    test_data = new_df[train_len-window:]\n",
        "\n",
        "    X_val=[]\n",
        "    Y_val=[]\n",
        "\n",
        "    for i in range(window, len(test_data)):\n",
        "        X_val.append(test_data[i-window:i])\n",
        "        Y_val.append(test_data[i])\n",
        "\n",
        "    X_val, Y_val = np.array(X_val), np.array(Y_val)\n",
        "    X_val = np.reshape(X_val, (X_val.shape[0], X_val.shape[1],1))\n",
        "    model=Sequential()\n",
        "    model.add(LSTM(50, activation='relu', input_shape=(X_train.shape[1],1)))\n",
        "    model.add(Dense(25))\n",
        "    model.add(Dense(1))\n",
        "    model.compile(loss='mean_squared_error', optimizer='adam')\n",
        "    model.fit(X_train, Y_train, epochs=10, batch_size=10, verbose=0)\n",
        "    lstm_train_pred = model.predict(X_train)\n",
        "    lstm_valid_pred = model.predict(X_val)\n",
        "    train_error.append(np.sqrt(mean_squared_error(Y_train, lstm_train_pred)))\n",
        "    val_error.append(np.sqrt(mean_squared_error(Y_val, lstm_valid_pred)))"
      ],
      "metadata": {
        "colab": {
          "base_uri": "https://localhost:8080/"
        },
        "id": "mTMCEp9bac7G",
        "outputId": "ee82f08a-ef64-4be9-8a3f-d4e5c5e5739a"
      },
      "execution_count": 31,
      "outputs": [
        {
          "output_type": "stream",
          "name": "stdout",
          "text": [
            "46/46 [==============================] - 0s 3ms/step\n",
            "12/12 [==============================] - 0s 4ms/step\n",
            "46/46 [==============================] - 0s 4ms/step\n",
            "12/12 [==============================] - 0s 4ms/step\n",
            "46/46 [==============================] - 0s 3ms/step\n",
            "12/12 [==============================] - 0s 3ms/step\n",
            "46/46 [==============================] - 0s 3ms/step\n",
            "12/12 [==============================] - 0s 3ms/step\n",
            "46/46 [==============================] - 0s 3ms/step\n",
            "12/12 [==============================] - 0s 5ms/step\n",
            "46/46 [==============================] - 0s 3ms/step\n",
            "12/12 [==============================] - 0s 4ms/step\n",
            "46/46 [==============================] - 0s 5ms/step\n",
            "12/12 [==============================] - 0s 4ms/step\n"
          ]
        }
      ]
    },
    {
      "cell_type": "code",
      "source": [
        "train_error"
      ],
      "metadata": {
        "colab": {
          "base_uri": "https://localhost:8080/"
        },
        "id": "tyCr8pxAac9t",
        "outputId": "61dec137-040c-4ff6-902b-cc2149cf7e3f"
      },
      "execution_count": 32,
      "outputs": [
        {
          "output_type": "execute_result",
          "data": {
            "text/plain": [
              "[34.384576067471365,\n",
              " 32.04530525523975,\n",
              " 34.67792985996931,\n",
              " 30.001166352062842,\n",
              " 29.821929845322337,\n",
              " 32.60230572870396,\n",
              " 17.371755513383555]"
            ]
          },
          "metadata": {},
          "execution_count": 32
        }
      ]
    },
    {
      "cell_type": "code",
      "source": [
        "val_error"
      ],
      "metadata": {
        "colab": {
          "base_uri": "https://localhost:8080/"
        },
        "id": "FROVY_uBadAE",
        "outputId": "6f602ccd-0916-40b6-9460-71eaaa780243"
      },
      "execution_count": 33,
      "outputs": [
        {
          "output_type": "execute_result",
          "data": {
            "text/plain": [
              "[121.73062393772304,\n",
              " 92.58055456421442,\n",
              " 91.86929067735532,\n",
              " 75.55766568338804,\n",
              " 81.59956256542733,\n",
              " 87.61901160809997,\n",
              " 56.62915158341124]"
            ]
          },
          "metadata": {},
          "execution_count": 33
        }
      ]
    },
    {
      "cell_type": "code",
      "source": [
        "pd.concat([pd.DataFrame(train_error,columns=['train_error']),\n",
        "           pd.DataFrame(val_error,columns=['val_error']),\n",
        "           pd.DataFrame([5,8,10,15,20,30,40],columns=['window'])], axis=1).set_index('window')"
      ],
      "metadata": {
        "colab": {
          "base_uri": "https://localhost:8080/",
          "height": 300
        },
        "id": "AOMplGYfadCp",
        "outputId": "8aafbee6-c1d7-4717-a94e-4ecd801d353f"
      },
      "execution_count": 34,
      "outputs": [
        {
          "output_type": "execute_result",
          "data": {
            "text/plain": [
              "        train_error   val_error\n",
              "window                         \n",
              "5         34.384576  121.730624\n",
              "8         32.045305   92.580555\n",
              "10        34.677930   91.869291\n",
              "15        30.001166   75.557666\n",
              "20        29.821930   81.599563\n",
              "30        32.602306   87.619012\n",
              "40        17.371756   56.629152"
            ],
            "text/html": [
              "\n",
              "  <div id=\"df-24fb4e6c-990f-4c12-b6b7-8094baa3da48\" class=\"colab-df-container\">\n",
              "    <div>\n",
              "<style scoped>\n",
              "    .dataframe tbody tr th:only-of-type {\n",
              "        vertical-align: middle;\n",
              "    }\n",
              "\n",
              "    .dataframe tbody tr th {\n",
              "        vertical-align: top;\n",
              "    }\n",
              "\n",
              "    .dataframe thead th {\n",
              "        text-align: right;\n",
              "    }\n",
              "</style>\n",
              "<table border=\"1\" class=\"dataframe\">\n",
              "  <thead>\n",
              "    <tr style=\"text-align: right;\">\n",
              "      <th></th>\n",
              "      <th>train_error</th>\n",
              "      <th>val_error</th>\n",
              "    </tr>\n",
              "    <tr>\n",
              "      <th>window</th>\n",
              "      <th></th>\n",
              "      <th></th>\n",
              "    </tr>\n",
              "  </thead>\n",
              "  <tbody>\n",
              "    <tr>\n",
              "      <th>5</th>\n",
              "      <td>34.384576</td>\n",
              "      <td>121.730624</td>\n",
              "    </tr>\n",
              "    <tr>\n",
              "      <th>8</th>\n",
              "      <td>32.045305</td>\n",
              "      <td>92.580555</td>\n",
              "    </tr>\n",
              "    <tr>\n",
              "      <th>10</th>\n",
              "      <td>34.677930</td>\n",
              "      <td>91.869291</td>\n",
              "    </tr>\n",
              "    <tr>\n",
              "      <th>15</th>\n",
              "      <td>30.001166</td>\n",
              "      <td>75.557666</td>\n",
              "    </tr>\n",
              "    <tr>\n",
              "      <th>20</th>\n",
              "      <td>29.821930</td>\n",
              "      <td>81.599563</td>\n",
              "    </tr>\n",
              "    <tr>\n",
              "      <th>30</th>\n",
              "      <td>32.602306</td>\n",
              "      <td>87.619012</td>\n",
              "    </tr>\n",
              "    <tr>\n",
              "      <th>40</th>\n",
              "      <td>17.371756</td>\n",
              "      <td>56.629152</td>\n",
              "    </tr>\n",
              "  </tbody>\n",
              "</table>\n",
              "</div>\n",
              "    <div class=\"colab-df-buttons\">\n",
              "\n",
              "  <div class=\"colab-df-container\">\n",
              "    <button class=\"colab-df-convert\" onclick=\"convertToInteractive('df-24fb4e6c-990f-4c12-b6b7-8094baa3da48')\"\n",
              "            title=\"Convert this dataframe to an interactive table.\"\n",
              "            style=\"display:none;\">\n",
              "\n",
              "  <svg xmlns=\"http://www.w3.org/2000/svg\" height=\"24px\" viewBox=\"0 -960 960 960\">\n",
              "    <path d=\"M120-120v-720h720v720H120Zm60-500h600v-160H180v160Zm220 220h160v-160H400v160Zm0 220h160v-160H400v160ZM180-400h160v-160H180v160Zm440 0h160v-160H620v160ZM180-180h160v-160H180v160Zm440 0h160v-160H620v160Z\"/>\n",
              "  </svg>\n",
              "    </button>\n",
              "\n",
              "  <style>\n",
              "    .colab-df-container {\n",
              "      display:flex;\n",
              "      gap: 12px;\n",
              "    }\n",
              "\n",
              "    .colab-df-convert {\n",
              "      background-color: #E8F0FE;\n",
              "      border: none;\n",
              "      border-radius: 50%;\n",
              "      cursor: pointer;\n",
              "      display: none;\n",
              "      fill: #1967D2;\n",
              "      height: 32px;\n",
              "      padding: 0 0 0 0;\n",
              "      width: 32px;\n",
              "    }\n",
              "\n",
              "    .colab-df-convert:hover {\n",
              "      background-color: #E2EBFA;\n",
              "      box-shadow: 0px 1px 2px rgba(60, 64, 67, 0.3), 0px 1px 3px 1px rgba(60, 64, 67, 0.15);\n",
              "      fill: #174EA6;\n",
              "    }\n",
              "\n",
              "    .colab-df-buttons div {\n",
              "      margin-bottom: 4px;\n",
              "    }\n",
              "\n",
              "    [theme=dark] .colab-df-convert {\n",
              "      background-color: #3B4455;\n",
              "      fill: #D2E3FC;\n",
              "    }\n",
              "\n",
              "    [theme=dark] .colab-df-convert:hover {\n",
              "      background-color: #434B5C;\n",
              "      box-shadow: 0px 1px 3px 1px rgba(0, 0, 0, 0.15);\n",
              "      filter: drop-shadow(0px 1px 2px rgba(0, 0, 0, 0.3));\n",
              "      fill: #FFFFFF;\n",
              "    }\n",
              "  </style>\n",
              "\n",
              "    <script>\n",
              "      const buttonEl =\n",
              "        document.querySelector('#df-24fb4e6c-990f-4c12-b6b7-8094baa3da48 button.colab-df-convert');\n",
              "      buttonEl.style.display =\n",
              "        google.colab.kernel.accessAllowed ? 'block' : 'none';\n",
              "\n",
              "      async function convertToInteractive(key) {\n",
              "        const element = document.querySelector('#df-24fb4e6c-990f-4c12-b6b7-8094baa3da48');\n",
              "        const dataTable =\n",
              "          await google.colab.kernel.invokeFunction('convertToInteractive',\n",
              "                                                    [key], {});\n",
              "        if (!dataTable) return;\n",
              "\n",
              "        const docLinkHtml = 'Like what you see? Visit the ' +\n",
              "          '<a target=\"_blank\" href=https://colab.research.google.com/notebooks/data_table.ipynb>data table notebook</a>'\n",
              "          + ' to learn more about interactive tables.';\n",
              "        element.innerHTML = '';\n",
              "        dataTable['output_type'] = 'display_data';\n",
              "        await google.colab.output.renderOutput(dataTable, element);\n",
              "        const docLink = document.createElement('div');\n",
              "        docLink.innerHTML = docLinkHtml;\n",
              "        element.appendChild(docLink);\n",
              "      }\n",
              "    </script>\n",
              "  </div>\n",
              "\n",
              "\n",
              "<div id=\"df-9e2a7f45-3f6b-432f-9991-bb571f1581ec\">\n",
              "  <button class=\"colab-df-quickchart\" onclick=\"quickchart('df-9e2a7f45-3f6b-432f-9991-bb571f1581ec')\"\n",
              "            title=\"Suggest charts\"\n",
              "            style=\"display:none;\">\n",
              "\n",
              "<svg xmlns=\"http://www.w3.org/2000/svg\" height=\"24px\"viewBox=\"0 0 24 24\"\n",
              "     width=\"24px\">\n",
              "    <g>\n",
              "        <path d=\"M19 3H5c-1.1 0-2 .9-2 2v14c0 1.1.9 2 2 2h14c1.1 0 2-.9 2-2V5c0-1.1-.9-2-2-2zM9 17H7v-7h2v7zm4 0h-2V7h2v10zm4 0h-2v-4h2v4z\"/>\n",
              "    </g>\n",
              "</svg>\n",
              "  </button>\n",
              "\n",
              "<style>\n",
              "  .colab-df-quickchart {\n",
              "      --bg-color: #E8F0FE;\n",
              "      --fill-color: #1967D2;\n",
              "      --hover-bg-color: #E2EBFA;\n",
              "      --hover-fill-color: #174EA6;\n",
              "      --disabled-fill-color: #AAA;\n",
              "      --disabled-bg-color: #DDD;\n",
              "  }\n",
              "\n",
              "  [theme=dark] .colab-df-quickchart {\n",
              "      --bg-color: #3B4455;\n",
              "      --fill-color: #D2E3FC;\n",
              "      --hover-bg-color: #434B5C;\n",
              "      --hover-fill-color: #FFFFFF;\n",
              "      --disabled-bg-color: #3B4455;\n",
              "      --disabled-fill-color: #666;\n",
              "  }\n",
              "\n",
              "  .colab-df-quickchart {\n",
              "    background-color: var(--bg-color);\n",
              "    border: none;\n",
              "    border-radius: 50%;\n",
              "    cursor: pointer;\n",
              "    display: none;\n",
              "    fill: var(--fill-color);\n",
              "    height: 32px;\n",
              "    padding: 0;\n",
              "    width: 32px;\n",
              "  }\n",
              "\n",
              "  .colab-df-quickchart:hover {\n",
              "    background-color: var(--hover-bg-color);\n",
              "    box-shadow: 0 1px 2px rgba(60, 64, 67, 0.3), 0 1px 3px 1px rgba(60, 64, 67, 0.15);\n",
              "    fill: var(--button-hover-fill-color);\n",
              "  }\n",
              "\n",
              "  .colab-df-quickchart-complete:disabled,\n",
              "  .colab-df-quickchart-complete:disabled:hover {\n",
              "    background-color: var(--disabled-bg-color);\n",
              "    fill: var(--disabled-fill-color);\n",
              "    box-shadow: none;\n",
              "  }\n",
              "\n",
              "  .colab-df-spinner {\n",
              "    border: 2px solid var(--fill-color);\n",
              "    border-color: transparent;\n",
              "    border-bottom-color: var(--fill-color);\n",
              "    animation:\n",
              "      spin 1s steps(1) infinite;\n",
              "  }\n",
              "\n",
              "  @keyframes spin {\n",
              "    0% {\n",
              "      border-color: transparent;\n",
              "      border-bottom-color: var(--fill-color);\n",
              "      border-left-color: var(--fill-color);\n",
              "    }\n",
              "    20% {\n",
              "      border-color: transparent;\n",
              "      border-left-color: var(--fill-color);\n",
              "      border-top-color: var(--fill-color);\n",
              "    }\n",
              "    30% {\n",
              "      border-color: transparent;\n",
              "      border-left-color: var(--fill-color);\n",
              "      border-top-color: var(--fill-color);\n",
              "      border-right-color: var(--fill-color);\n",
              "    }\n",
              "    40% {\n",
              "      border-color: transparent;\n",
              "      border-right-color: var(--fill-color);\n",
              "      border-top-color: var(--fill-color);\n",
              "    }\n",
              "    60% {\n",
              "      border-color: transparent;\n",
              "      border-right-color: var(--fill-color);\n",
              "    }\n",
              "    80% {\n",
              "      border-color: transparent;\n",
              "      border-right-color: var(--fill-color);\n",
              "      border-bottom-color: var(--fill-color);\n",
              "    }\n",
              "    90% {\n",
              "      border-color: transparent;\n",
              "      border-bottom-color: var(--fill-color);\n",
              "    }\n",
              "  }\n",
              "</style>\n",
              "\n",
              "  <script>\n",
              "    async function quickchart(key) {\n",
              "      const quickchartButtonEl =\n",
              "        document.querySelector('#' + key + ' button');\n",
              "      quickchartButtonEl.disabled = true;  // To prevent multiple clicks.\n",
              "      quickchartButtonEl.classList.add('colab-df-spinner');\n",
              "      try {\n",
              "        const charts = await google.colab.kernel.invokeFunction(\n",
              "            'suggestCharts', [key], {});\n",
              "      } catch (error) {\n",
              "        console.error('Error during call to suggestCharts:', error);\n",
              "      }\n",
              "      quickchartButtonEl.classList.remove('colab-df-spinner');\n",
              "      quickchartButtonEl.classList.add('colab-df-quickchart-complete');\n",
              "    }\n",
              "    (() => {\n",
              "      let quickchartButtonEl =\n",
              "        document.querySelector('#df-9e2a7f45-3f6b-432f-9991-bb571f1581ec button');\n",
              "      quickchartButtonEl.style.display =\n",
              "        google.colab.kernel.accessAllowed ? 'block' : 'none';\n",
              "    })();\n",
              "  </script>\n",
              "</div>\n",
              "\n",
              "    </div>\n",
              "  </div>\n"
            ],
            "application/vnd.google.colaboratory.intrinsic+json": {
              "type": "dataframe",
              "summary": "{\n  \"name\": \"           pd\",\n  \"rows\": 7,\n  \"fields\": [\n    {\n      \"column\": \"window\",\n      \"properties\": {\n        \"dtype\": \"number\",\n        \"std\": 12,\n        \"min\": 5,\n        \"max\": 40,\n        \"num_unique_values\": 7,\n        \"samples\": [\n          5,\n          8,\n          30\n        ],\n        \"semantic_type\": \"\",\n        \"description\": \"\"\n      }\n    },\n    {\n      \"column\": \"train_error\",\n      \"properties\": {\n        \"dtype\": \"number\",\n        \"std\": 5.936470296045174,\n        \"min\": 17.371755513383555,\n        \"max\": 34.67792985996931,\n        \"num_unique_values\": 7,\n        \"samples\": [\n          34.384576067471365,\n          32.04530525523975,\n          32.60230572870396\n        ],\n        \"semantic_type\": \"\",\n        \"description\": \"\"\n      }\n    },\n    {\n      \"column\": \"val_error\",\n      \"properties\": {\n        \"dtype\": \"number\",\n        \"std\": 19.763798908391696,\n        \"min\": 56.62915158341124,\n        \"max\": 121.73062393772304,\n        \"num_unique_values\": 7,\n        \"samples\": [\n          121.73062393772304,\n          92.58055456421442,\n          87.61901160809997\n        ],\n        \"semantic_type\": \"\",\n        \"description\": \"\"\n      }\n    }\n  ]\n}"
            }
          },
          "metadata": {},
          "execution_count": 34
        }
      ]
    },
    {
      "cell_type": "code",
      "source": [
        "window=10\n",
        "\n",
        "train_data = new_df[0:train_len]\n",
        "X_train=[]\n",
        "Y_train=[]\n",
        "for i in range(window, len(train_data)):\n",
        "    X_train.append(train_data[i-window:i])\n",
        "    Y_train.append(train_data[i])\n",
        "\n",
        "X_train, Y_train= np.array(X_train), np.array(Y_train)\n",
        "X_train = np.reshape(X_train, (X_train.shape[0], X_train.shape[1], 1))\n",
        "test_data = new_df[train_len-window:]\n",
        "X_val=[]\n",
        "Y_val=[]\n",
        "for i in range(window, len(test_data)):\n",
        "    X_val.append(test_data[i-window:i])\n",
        "    Y_val.append(test_data[i])\n",
        "\n",
        "X_val, Y_val = np.array(X_val), np.array(Y_val)\n",
        "X_val = np.reshape(X_val, (X_val.shape[0], X_val.shape[1],1))"
      ],
      "metadata": {
        "id": "Dso1VL4vadFo"
      },
      "execution_count": 35,
      "outputs": []
    },
    {
      "cell_type": "code",
      "source": [
        "import tensorflow as tf\n",
        "model=Sequential()\n",
        "model.add(LSTM(50,return_sequences=True, activation='relu', input_shape=(X_train.shape[1],1)))\n",
        "model.add(LSTM(50,return_sequences=False,activation='relu'))\n",
        "model.add(Dense(100))\n",
        "model.add(Dense(25))\n",
        "model.add(Dense(1))\n",
        "\n",
        "model.compile(loss='mean_squared_error', optimizer=tf.keras.optimizers.Adam(learning_rate=0.001, beta_1=0.9, beta_2=0.999))\n",
        "model.summary()\n",
        "model.fit(X_train, Y_train, epochs=100, batch_size=10, verbose=0)"
      ],
      "metadata": {
        "colab": {
          "base_uri": "https://localhost:8080/"
        },
        "id": "EiCm4CodadH-",
        "outputId": "4f0f1b58-aab1-4ca1-b79a-3d2f6194817f"
      },
      "execution_count": 36,
      "outputs": [
        {
          "output_type": "stream",
          "name": "stdout",
          "text": [
            "Model: \"sequential_8\"\n",
            "_________________________________________________________________\n",
            " Layer (type)                Output Shape              Param #   \n",
            "=================================================================\n",
            " lstm_8 (LSTM)               (None, 10, 50)            10400     \n",
            "                                                                 \n",
            " lstm_9 (LSTM)               (None, 50)                20200     \n",
            "                                                                 \n",
            " dense_16 (Dense)            (None, 100)               5100      \n",
            "                                                                 \n",
            " dense_17 (Dense)            (None, 25)                2525      \n",
            "                                                                 \n",
            " dense_18 (Dense)            (None, 1)                 26        \n",
            "                                                                 \n",
            "=================================================================\n",
            "Total params: 38251 (149.42 KB)\n",
            "Trainable params: 38251 (149.42 KB)\n",
            "Non-trainable params: 0 (0.00 Byte)\n",
            "_________________________________________________________________\n"
          ]
        },
        {
          "output_type": "execute_result",
          "data": {
            "text/plain": [
              "<keras.src.callbacks.History at 0x7f7303c05ff0>"
            ]
          },
          "metadata": {},
          "execution_count": 36
        }
      ]
    },
    {
      "cell_type": "code",
      "source": [
        "lstm_train_pred = model.predict(X_train)\n",
        "lstm_valid_pred = model.predict(X_val)\n",
        "print('Train rmse:', np.sqrt(mean_squared_error(Y_train, lstm_train_pred)))\n",
        "print('Validation rmse:', np.sqrt(mean_squared_error(Y_val, lstm_valid_pred)))"
      ],
      "metadata": {
        "colab": {
          "base_uri": "https://localhost:8080/"
        },
        "id": "hrXIp0KuadKh",
        "outputId": "5d2ddc4d-ee14-4a00-c029-b16185f57a2b"
      },
      "execution_count": 37,
      "outputs": [
        {
          "output_type": "stream",
          "name": "stdout",
          "text": [
            "46/46 [==============================] - 1s 5ms/step\n",
            "12/12 [==============================] - 0s 6ms/step\n",
            "Train rmse: 16.63213609751286\n",
            "Validation rmse: 44.14852432003643\n"
          ]
        }
      ]
    },
    {
      "cell_type": "code",
      "source": [
        "valid = pd.DataFrame(new_df[train_len:])\n",
        "valid['Predictions']=lstm_valid_pred"
      ],
      "metadata": {
        "id": "dwlKykSMadM3"
      },
      "execution_count": 38,
      "outputs": []
    },
    {
      "cell_type": "code",
      "source": [
        "plt.plot(valid[['High','Predictions']])\n",
        "plt.legend(['Validation','Predictions'])\n",
        "plt.show()"
      ],
      "metadata": {
        "colab": {
          "base_uri": "https://localhost:8080/",
          "height": 430
        },
        "id": "wsGJb_mEadPA",
        "outputId": "0dd935bb-d214-4b9c-cbf7-9bf4dd306800"
      },
      "execution_count": 39,
      "outputs": [
        {
          "output_type": "display_data",
          "data": {
            "text/plain": [
              "<Figure size 640x480 with 1 Axes>"
            ],
            "image/png": "[encoded data removed]"
          },
          "metadata": {}
        }
      ]
    },
    {
      "cell_type": "code",
      "source": [
        "r1=[]\n",
        "r2=[]\n",
        "\n",
        "for i in range(0,10):\n",
        "    model=Sequential()\n",
        "    model.add(LSTM(50,return_sequences=True, activation='relu', input_shape=(X_train.shape[1],1)))\n",
        "    model.add(LSTM(50,return_sequences=False,activation='relu'))\n",
        "    model.add(Dense(100))\n",
        "    model.add(Dense(25))\n",
        "    model.add(Dense(1))\n",
        "    opt1=tf.keras.optimizers.Adam(learning_rate=0.001,beta_1=0.9,beta_2=0.999)\n",
        "    model.compile(loss='mean_squared_error', optimizer=opt1)\n",
        "    model.fit(X_train, Y_train, epochs=100, batch_size=10,verbose=0)\n",
        "\n",
        "    lstm_train_pred = model.predict(X_train)\n",
        "    lstm_valid_pred = model.predict(X_val)\n",
        "    r1.append(np.round(np.sqrt(mean_squared_error(Y_train, lstm_train_pred)),2))\n",
        "    r2.append(np.round(np.sqrt(mean_squared_error(Y_val, lstm_valid_pred)),2))"
      ],
      "metadata": {
        "colab": {
          "base_uri": "https://localhost:8080/"
        },
        "id": "xPT1MJa5adRd",
        "outputId": "8c1188e4-40ed-4760-d16a-380913d736ec"
      },
      "execution_count": 40,
      "outputs": [
        {
          "output_type": "stream",
          "name": "stdout",
          "text": [
            "46/46 [==============================] - 1s 6ms/step\n",
            "12/12 [==============================] - 0s 5ms/step\n",
            "46/46 [==============================] - 1s 6ms/step\n",
            "12/12 [==============================] - 0s 9ms/step\n",
            "46/46 [==============================] - 1s 6ms/step\n",
            "12/12 [==============================] - 0s 6ms/step\n",
            "46/46 [==============================] - 1s 5ms/step\n",
            "12/12 [==============================] - 0s 6ms/step\n",
            "46/46 [==============================] - 1s 6ms/step\n",
            "12/12 [==============================] - 0s 6ms/step\n",
            "46/46 [==============================] - 1s 8ms/step\n",
            "12/12 [==============================] - 0s 8ms/step\n",
            "46/46 [==============================] - 1s 5ms/step\n",
            "12/12 [==============================] - 0s 6ms/step\n",
            "46/46 [==============================] - 1s 5ms/step\n",
            "12/12 [==============================] - 0s 6ms/step\n",
            "46/46 [==============================] - 1s 5ms/step\n",
            "12/12 [==============================] - 0s 6ms/step\n",
            "46/46 [==============================] - 1s 6ms/step\n",
            "12/12 [==============================] - 0s 5ms/step\n"
          ]
        }
      ]
    },
    {
      "cell_type": "code",
      "source": [
        "import statistics\n",
        "r1, statistics.mean(r1), statistics.stdev(r1)"
      ],
      "metadata": {
        "colab": {
          "base_uri": "https://localhost:8080/"
        },
        "id": "zUfDzah4adT_",
        "outputId": "11b453f9-b4d7-4c6e-b8a6-e3597d67b690"
      },
      "execution_count": 41,
      "outputs": [
        {
          "output_type": "execute_result",
          "data": {
            "text/plain": [
              "([16.46, 23.7, 28.84, 34.39, 32.26, 23.29, 49.61, 28.1, 39.85, 37.51],\n",
              " 31.401,\n",
              " 9.52031564602771)"
            ]
          },
          "metadata": {},
          "execution_count": 41
        }
      ]
    },
    {
      "cell_type": "code",
      "source": [
        "r2, statistics.mean(r2), statistics.stdev(r2)"
      ],
      "metadata": {
        "colab": {
          "base_uri": "https://localhost:8080/"
        },
        "id": "l13q1jkSadXd",
        "outputId": "562dd331-dd01-4653-802f-0740711a4e97"
      },
      "execution_count": 42,
      "outputs": [
        {
          "output_type": "execute_result",
          "data": {
            "text/plain": [
              "([40.92, 64.44, 81.07, 90.13, 80.16, 58.76, 87.92, 79.87, 82.22, 76.55],\n",
              " 74.204,\n",
              " 15.15814060716771)"
            ]
          },
          "metadata": {},
          "execution_count": 42
        }
      ]
    },
    {
      "cell_type": "code",
      "source": [
        "r1=[]\n",
        "r2=[]\n",
        "\n",
        "for i in range(0,10):\n",
        "    model=Sequential()\n",
        "    model.add(LSTM(50,return_sequences=True, activation='relu', input_shape=(X_train.shape[1],1),recurrent_dropout=0.2))\n",
        "    model.add(LSTM(50,return_sequences=False,activation='relu'))\n",
        "    model.add(Dense(100))\n",
        "    model.add(Dropout(0.2))\n",
        "    model.add(Dense(25))\n",
        "    model.add(Dense(1))\n",
        "    opt1=tf.keras.optimizers.Adam(learning_rate=0.001,beta_1=0.9,beta_2=0.999)\n",
        "    model.compile(loss='mean_squared_error', optimizer=opt1)\n",
        "    model.fit(X_train, Y_train, epochs=100, batch_size=10,verbose=0)\n",
        "\n",
        "    lstm_train_pred = model.predict(X_train)\n",
        "    lstm_valid_pred = model.predict(X_val)\n",
        "    r1.append(np.round(np.sqrt(mean_squared_error(Y_train, lstm_train_pred)),2))\n",
        "    r2.append(np.round(np.sqrt(mean_squared_error(Y_val, lstm_valid_pred)),2))"
      ],
      "metadata": {
        "colab": {
          "base_uri": "https://localhost:8080/"
        },
        "id": "hLbRvhcwcP_k",
        "outputId": "d61ca655-b916-4567-882d-2d8eeb5f2b8b"
      },
      "execution_count": 43,
      "outputs": [
        {
          "output_type": "stream",
          "name": "stdout",
          "text": [
            "46/46 [==============================] - 1s 6ms/step\n",
            "12/12 [==============================] - 0s 6ms/step\n",
            "46/46 [==============================] - 1s 7ms/step\n",
            "12/12 [==============================] - 0s 6ms/step\n",
            "46/46 [==============================] - 1s 7ms/step\n",
            "12/12 [==============================] - 0s 7ms/step\n",
            "46/46 [==============================] - 1s 7ms/step\n",
            "12/12 [==============================] - 0s 6ms/step\n",
            "46/46 [==============================] - 1s 12ms/step\n",
            "12/12 [==============================] - 0s 9ms/step\n",
            "46/46 [==============================] - 1s 10ms/step\n",
            "12/12 [==============================] - 0s 11ms/step\n",
            "46/46 [==============================] - 1s 9ms/step\n",
            "12/12 [==============================] - 0s 11ms/step\n",
            "46/46 [==============================] - 1s 9ms/step\n",
            "12/12 [==============================] - 0s 9ms/step\n",
            "46/46 [==============================] - 1s 9ms/step\n",
            "12/12 [==============================] - 0s 8ms/step\n",
            "46/46 [==============================] - 1s 8ms/step\n",
            "12/12 [==============================] - 0s 8ms/step\n"
          ]
        }
      ]
    },
    {
      "cell_type": "code",
      "source": [
        "r1, statistics.mean(r1), statistics.stdev(r1)"
      ],
      "metadata": {
        "colab": {
          "base_uri": "https://localhost:8080/"
        },
        "id": "2TurakPMcQB6",
        "outputId": "9fdfbf4d-a738-4e70-d44c-a6cb7daea756"
      },
      "execution_count": 44,
      "outputs": [
        {
          "output_type": "execute_result",
          "data": {
            "text/plain": [
              "([60.23, 38.77, 47.34, 36.31, 37.93, 131.81, 35.92, 25.65, 35.05, 29.46],\n",
              " 47.847,\n",
              " 31.009008386452976)"
            ]
          },
          "metadata": {},
          "execution_count": 44
        }
      ]
    },
    {
      "cell_type": "code",
      "source": [
        "r2, statistics.mean(r2), statistics.stdev(r2)"
      ],
      "metadata": {
        "colab": {
          "base_uri": "https://localhost:8080/"
        },
        "id": "cpHwWkFpcQFJ",
        "outputId": "642abec1-52ee-4858-9706-6440b1a414f0"
      },
      "execution_count": 45,
      "outputs": [
        {
          "output_type": "execute_result",
          "data": {
            "text/plain": [
              "([111.08, 93.62, 91.23, 92.51, 95.72, 179.73, 84.09, 68.91, 94.73, 51.93],\n",
              " 96.355,\n",
              " 33.49465770006381)"
            ]
          },
          "metadata": {},
          "execution_count": 45
        }
      ]
    },
    {
      "cell_type": "code",
      "source": [
        "from keras.layers import SimpleRNN"
      ],
      "metadata": {
        "id": "unjxcC4tcasQ"
      },
      "execution_count": 46,
      "outputs": []
    },
    {
      "cell_type": "code",
      "source": [
        "r1=[]\n",
        "r2=[]\n",
        "\n",
        "for i in range(0,10):\n",
        "    model=Sequential()\n",
        "    model.add(SimpleRNN(50,return_sequences=True, activation='relu', input_shape=(X_train.shape[1],1)))\n",
        "    model.add(SimpleRNN(50,return_sequences=False,activation='relu'))\n",
        "    model.add(Dense(100))\n",
        "    model.add(Dense(25))\n",
        "    model.add(Dense(1))\n",
        "    opt1=tf.keras.optimizers.Adam(learning_rate=0.001,beta_1=0.9,beta_2=0.999)\n",
        "    model.compile(loss='mean_squared_error', optimizer=opt1)\n",
        "    model.fit(X_train, Y_train, epochs=100, batch_size=10,verbose=0)\n",
        "\n",
        "    lstm_train_pred = model.predict(X_train)\n",
        "    lstm_valid_pred = model.predict(X_val)\n",
        "    r1.append(np.round(np.sqrt(mean_squared_error(Y_train, lstm_train_pred)),2))\n",
        "    r2.append(np.round(np.sqrt(mean_squared_error(Y_val, lstm_valid_pred)),2))"
      ],
      "metadata": {
        "colab": {
          "base_uri": "https://localhost:8080/"
        },
        "id": "rz7VG6MWcavp",
        "outputId": "151d7160-be65-4b54-8926-2e3c064cb7c5"
      },
      "execution_count": 47,
      "outputs": [
        {
          "output_type": "stream",
          "name": "stdout",
          "text": [
            "46/46 [==============================] - 0s 3ms/step\n",
            "12/12 [==============================] - 0s 4ms/step\n",
            "46/46 [==============================] - 0s 4ms/step\n",
            "12/12 [==============================] - 0s 4ms/step\n",
            "46/46 [==============================] - 0s 4ms/step\n",
            "12/12 [==============================] - 0s 4ms/step\n",
            "46/46 [==============================] - 0s 4ms/step\n",
            "12/12 [==============================] - 0s 4ms/step\n",
            "46/46 [==============================] - 0s 4ms/step\n",
            "12/12 [==============================] - 0s 4ms/step\n",
            "46/46 [==============================] - 1s 6ms/step\n",
            "12/12 [==============================] - 0s 6ms/step\n",
            "46/46 [==============================] - 0s 4ms/step\n",
            "12/12 [==============================] - 0s 3ms/step\n",
            "46/46 [==============================] - 0s 4ms/step\n",
            "12/12 [==============================] - 0s 4ms/step\n",
            "46/46 [==============================] - 0s 4ms/step\n",
            "12/12 [==============================] - 0s 4ms/step\n",
            "46/46 [==============================] - 0s 4ms/step\n",
            "12/12 [==============================] - 0s 4ms/step\n"
          ]
        }
      ]
    },
    {
      "cell_type": "code",
      "source": [
        "r1, statistics.mean(r1), statistics.stdev(r1)"
      ],
      "metadata": {
        "colab": {
          "base_uri": "https://localhost:8080/"
        },
        "id": "iTzjcDpJchoE",
        "outputId": "49b1c934-a5c2-46f7-8b0e-1a87111202a1"
      },
      "execution_count": 48,
      "outputs": [
        {
          "output_type": "execute_result",
          "data": {
            "text/plain": [
              "([16.57, 18.85, 14.05, 23.28, 20.01, 15.45, 21.61, 14.54, 26.46, 14.51],\n",
              " 18.533,\n",
              " 4.251867694189095)"
            ]
          },
          "metadata": {},
          "execution_count": 48
        }
      ]
    },
    {
      "cell_type": "code",
      "source": [
        "r2, statistics.mean(r2), statistics.stdev(r2)"
      ],
      "metadata": {
        "colab": {
          "base_uri": "https://localhost:8080/"
        },
        "id": "ch-YrH8Cchrm",
        "outputId": "3f9b4121-80f3-4213-d1cc-e1017c733c5d"
      },
      "execution_count": 49,
      "outputs": [
        {
          "output_type": "execute_result",
          "data": {
            "text/plain": [
              "([39.23, 40.13, 37.26, 44.35, 41.59, 38.32, 42.29, 37.49, 46.32, 37.42],\n",
              " 40.44,\n",
              " 3.137539729717467)"
            ]
          },
          "metadata": {},
          "execution_count": 49
        }
      ]
    },
    {
      "cell_type": "code",
      "source": [
        "valid = pd.DataFrame(new_df[train_len:])\n",
        "valid['Predictions']=lstm_valid_pred\n",
        "valid"
      ],
      "metadata": {
        "colab": {
          "base_uri": "https://localhost:8080/",
          "height": 455
        },
        "id": "Zzek74UYcqUM",
        "outputId": "66951338-ef3e-496f-8758-b1b52c621c54"
      },
      "execution_count": 50,
      "outputs": [
        {
          "output_type": "execute_result",
          "data": {
            "text/plain": [
              "                   High  Predictions\n",
              "Date                                \n",
              "2019-11-19  3127.639893  3130.458252\n",
              "2019-11-20  3118.969971  3132.166260\n",
              "2019-11-21  3110.110107  3124.407959\n",
              "2019-11-22  3112.870117  3114.874268\n",
              "2019-11-23  3112.870117  3117.329590\n",
              "...                 ...          ...\n",
              "2020-11-12  3569.020020  3592.690430\n",
              "2020-11-13  3593.659912  3571.008301\n",
              "2020-11-14  3593.659912  3595.406738\n",
              "2020-11-15  3593.659912  3607.571289\n",
              "2020-11-16  3628.510010  3597.500488\n",
              "\n",
              "[364 rows x 2 columns]"
            ],
            "text/html": [
              "\n",
              "  <div id=\"df-cc35f5ff-aa8e-449a-a149-e3247a5da167\" class=\"colab-df-container\">\n",
              "    <div>\n",
              "<style scoped>\n",
              "    .dataframe tbody tr th:only-of-type {\n",
              "        vertical-align: middle;\n",
              "    }\n",
              "\n",
              "    .dataframe tbody tr th {\n",
              "        vertical-align: top;\n",
              "    }\n",
              "\n",
              "    .dataframe thead th {\n",
              "        text-align: right;\n",
              "    }\n",
              "</style>\n",
              "<table border=\"1\" class=\"dataframe\">\n",
              "  <thead>\n",
              "    <tr style=\"text-align: right;\">\n",
              "      <th></th>\n",
              "      <th>High</th>\n",
              "      <th>Predictions</th>\n",
              "    </tr>\n",
              "    <tr>\n",
              "      <th>Date</th>\n",
              "      <th></th>\n",
              "      <th></th>\n",
              "    </tr>\n",
              "  </thead>\n",
              "  <tbody>\n",
              "    <tr>\n",
              "      <th>2019-11-19</th>\n",
              "      <td>3127.639893</td>\n",
              "      <td>3130.458252</td>\n",
              "    </tr>\n",
              "    <tr>\n",
              "      <th>2019-11-20</th>\n",
              "      <td>3118.969971</td>\n",
              "      <td>3132.166260</td>\n",
              "    </tr>\n",
              "    <tr>\n",
              "      <th>2019-11-21</th>\n",
              "      <td>3110.110107</td>\n",
              "      <td>3124.407959</td>\n",
              "    </tr>\n",
              "    <tr>\n",
              "      <th>2019-11-22</th>\n",
              "      <td>3112.870117</td>\n",
              "      <td>3114.874268</td>\n",
              "    </tr>\n",
              "    <tr>\n",
              "      <th>2019-11-23</th>\n",
              "      <td>3112.870117</td>\n",
              "      <td>3117.329590</td>\n",
              "    </tr>\n",
              "    <tr>\n",
              "      <th>...</th>\n",
              "      <td>...</td>\n",
              "      <td>...</td>\n",
              "    </tr>\n",
              "    <tr>\n",
              "      <th>2020-11-12</th>\n",
              "      <td>3569.020020</td>\n",
              "      <td>3592.690430</td>\n",
              "    </tr>\n",
              "    <tr>\n",
              "      <th>2020-11-13</th>\n",
              "      <td>3593.659912</td>\n",
              "      <td>3571.008301</td>\n",
              "    </tr>\n",
              "    <tr>\n",
              "      <th>2020-11-14</th>\n",
              "      <td>3593.659912</td>\n",
              "      <td>3595.406738</td>\n",
              "    </tr>\n",
              "    <tr>\n",
              "      <th>2020-11-15</th>\n",
              "      <td>3593.659912</td>\n",
              "      <td>3607.571289</td>\n",
              "    </tr>\n",
              "    <tr>\n",
              "      <th>2020-11-16</th>\n",
              "      <td>3628.510010</td>\n",
              "      <td>3597.500488</td>\n",
              "    </tr>\n",
              "  </tbody>\n",
              "</table>\n",
              "<p>364 rows × 2 columns</p>\n",
              "</div>\n",
              "    <div class=\"colab-df-buttons\">\n",
              "\n",
              "  <div class=\"colab-df-container\">\n",
              "    <button class=\"colab-df-convert\" onclick=\"convertToInteractive('df-cc35f5ff-aa8e-449a-a149-e3247a5da167')\"\n",
              "            title=\"Convert this dataframe to an interactive table.\"\n",
              "            style=\"display:none;\">\n",
              "\n",
              "  <svg xmlns=\"http://www.w3.org/2000/svg\" height=\"24px\" viewBox=\"0 -960 960 960\">\n",
              "    <path d=\"M120-120v-720h720v720H120Zm60-500h600v-160H180v160Zm220 220h160v-160H400v160Zm0 220h160v-160H400v160ZM180-400h160v-160H180v160Zm440 0h160v-160H620v160ZM180-180h160v-160H180v160Zm440 0h160v-160H620v160Z\"/>\n",
              "  </svg>\n",
              "    </button>\n",
              "\n",
              "  <style>\n",
              "    .colab-df-container {\n",
              "      display:flex;\n",
              "      gap: 12px;\n",
              "    }\n",
              "\n",
              "    .colab-df-convert {\n",
              "      background-color: #E8F0FE;\n",
              "      border: none;\n",
              "      border-radius: 50%;\n",
              "      cursor: pointer;\n",
              "      display: none;\n",
              "      fill: #1967D2;\n",
              "      height: 32px;\n",
              "      padding: 0 0 0 0;\n",
              "      width: 32px;\n",
              "    }\n",
              "\n",
              "    .colab-df-convert:hover {\n",
              "      background-color: #E2EBFA;\n",
              "      box-shadow: 0px 1px 2px rgba(60, 64, 67, 0.3), 0px 1px 3px 1px rgba(60, 64, 67, 0.15);\n",
              "      fill: #174EA6;\n",
              "    }\n",
              "\n",
              "    .colab-df-buttons div {\n",
              "      margin-bottom: 4px;\n",
              "    }\n",
              "\n",
              "    [theme=dark] .colab-df-convert {\n",
              "      background-color: #3B4455;\n",
              "      fill: #D2E3FC;\n",
              "    }\n",
              "\n",
              "    [theme=dark] .colab-df-convert:hover {\n",
              "      background-color: #434B5C;\n",
              "      box-shadow: 0px 1px 3px 1px rgba(0, 0, 0, 0.15);\n",
              "      filter: drop-shadow(0px 1px 2px rgba(0, 0, 0, 0.3));\n",
              "      fill: #FFFFFF;\n",
              "    }\n",
              "  </style>\n",
              "\n",
              "    <script>\n",
              "      const buttonEl =\n",
              "        document.querySelector('#df-cc35f5ff-aa8e-449a-a149-e3247a5da167 button.colab-df-convert');\n",
              "      buttonEl.style.display =\n",
              "        google.colab.kernel.accessAllowed ? 'block' : 'none';\n",
              "\n",
              "      async function convertToInteractive(key) {\n",
              "        const element = document.querySelector('#df-cc35f5ff-aa8e-449a-a149-e3247a5da167');\n",
              "        const dataTable =\n",
              "          await google.colab.kernel.invokeFunction('convertToInteractive',\n",
              "                                                    [key], {});\n",
              "        if (!dataTable) return;\n",
              "\n",
              "        const docLinkHtml = 'Like what you see? Visit the ' +\n",
              "          '<a target=\"_blank\" href=https://colab.research.google.com/notebooks/data_table.ipynb>data table notebook</a>'\n",
              "          + ' to learn more about interactive tables.';\n",
              "        element.innerHTML = '';\n",
              "        dataTable['output_type'] = 'display_data';\n",
              "        await google.colab.output.renderOutput(dataTable, element);\n",
              "        const docLink = document.createElement('div');\n",
              "        docLink.innerHTML = docLinkHtml;\n",
              "        element.appendChild(docLink);\n",
              "      }\n",
              "    </script>\n",
              "  </div>\n",
              "\n",
              "\n",
              "<div id=\"df-c18f4a37-c61f-4cc1-a445-16028d914118\">\n",
              "  <button class=\"colab-df-quickchart\" onclick=\"quickchart('df-c18f4a37-c61f-4cc1-a445-16028d914118')\"\n",
              "            title=\"Suggest charts\"\n",
              "            style=\"display:none;\">\n",
              "\n",
              "<svg xmlns=\"http://www.w3.org/2000/svg\" height=\"24px\"viewBox=\"0 0 24 24\"\n",
              "     width=\"24px\">\n",
              "    <g>\n",
              "        <path d=\"M19 3H5c-1.1 0-2 .9-2 2v14c0 1.1.9 2 2 2h14c1.1 0 2-.9 2-2V5c0-1.1-.9-2-2-2zM9 17H7v-7h2v7zm4 0h-2V7h2v10zm4 0h-2v-4h2v4z\"/>\n",
              "    </g>\n",
              "</svg>\n",
              "  </button>\n",
              "\n",
              "<style>\n",
              "  .colab-df-quickchart {\n",
              "      --bg-color: #E8F0FE;\n",
              "      --fill-color: #1967D2;\n",
              "      --hover-bg-color: #E2EBFA;\n",
              "      --hover-fill-color: #174EA6;\n",
              "      --disabled-fill-color: #AAA;\n",
              "      --disabled-bg-color: #DDD;\n",
              "  }\n",
              "\n",
              "  [theme=dark] .colab-df-quickchart {\n",
              "      --bg-color: #3B4455;\n",
              "      --fill-color: #D2E3FC;\n",
              "      --hover-bg-color: #434B5C;\n",
              "      --hover-fill-color: #FFFFFF;\n",
              "      --disabled-bg-color: #3B4455;\n",
              "      --disabled-fill-color: #666;\n",
              "  }\n",
              "\n",
              "  .colab-df-quickchart {\n",
              "    background-color: var(--bg-color);\n",
              "    border: none;\n",
              "    border-radius: 50%;\n",
              "    cursor: pointer;\n",
              "    display: none;\n",
              "    fill: var(--fill-color);\n",
              "    height: 32px;\n",
              "    padding: 0;\n",
              "    width: 32px;\n",
              "  }\n",
              "\n",
              "  .colab-df-quickchart:hover {\n",
              "    background-color: var(--hover-bg-color);\n",
              "    box-shadow: 0 1px 2px rgba(60, 64, 67, 0.3), 0 1px 3px 1px rgba(60, 64, 67, 0.15);\n",
              "    fill: var(--button-hover-fill-color);\n",
              "  }\n",
              "\n",
              "  .colab-df-quickchart-complete:disabled,\n",
              "  .colab-df-quickchart-complete:disabled:hover {\n",
              "    background-color: var(--disabled-bg-color);\n",
              "    fill: var(--disabled-fill-color);\n",
              "    box-shadow: none;\n",
              "  }\n",
              "\n",
              "  .colab-df-spinner {\n",
              "    border: 2px solid var(--fill-color);\n",
              "    border-color: transparent;\n",
              "    border-bottom-color: var(--fill-color);\n",
              "    animation:\n",
              "      spin 1s steps(1) infinite;\n",
              "  }\n",
              "\n",
              "  @keyframes spin {\n",
              "    0% {\n",
              "      border-color: transparent;\n",
              "      border-bottom-color: var(--fill-color);\n",
              "      border-left-color: var(--fill-color);\n",
              "    }\n",
              "    20% {\n",
              "      border-color: transparent;\n",
              "      border-left-color: var(--fill-color);\n",
              "      border-top-color: var(--fill-color);\n",
              "    }\n",
              "    30% {\n",
              "      border-color: transparent;\n",
              "      border-left-color: var(--fill-color);\n",
              "      border-top-color: var(--fill-color);\n",
              "      border-right-color: var(--fill-color);\n",
              "    }\n",
              "    40% {\n",
              "      border-color: transparent;\n",
              "      border-right-color: var(--fill-color);\n",
              "      border-top-color: var(--fill-color);\n",
              "    }\n",
              "    60% {\n",
              "      border-color: transparent;\n",
              "      border-right-color: var(--fill-color);\n",
              "    }\n",
              "    80% {\n",
              "      border-color: transparent;\n",
              "      border-right-color: var(--fill-color);\n",
              "      border-bottom-color: var(--fill-color);\n",
              "    }\n",
              "    90% {\n",
              "      border-color: transparent;\n",
              "      border-bottom-color: var(--fill-color);\n",
              "    }\n",
              "  }\n",
              "</style>\n",
              "\n",
              "  <script>\n",
              "    async function quickchart(key) {\n",
              "      const quickchartButtonEl =\n",
              "        document.querySelector('#' + key + ' button');\n",
              "      quickchartButtonEl.disabled = true;  // To prevent multiple clicks.\n",
              "      quickchartButtonEl.classList.add('colab-df-spinner');\n",
              "      try {\n",
              "        const charts = await google.colab.kernel.invokeFunction(\n",
              "            'suggestCharts', [key], {});\n",
              "      } catch (error) {\n",
              "        console.error('Error during call to suggestCharts:', error);\n",
              "      }\n",
              "      quickchartButtonEl.classList.remove('colab-df-spinner');\n",
              "      quickchartButtonEl.classList.add('colab-df-quickchart-complete');\n",
              "    }\n",
              "    (() => {\n",
              "      let quickchartButtonEl =\n",
              "        document.querySelector('#df-c18f4a37-c61f-4cc1-a445-16028d914118 button');\n",
              "      quickchartButtonEl.style.display =\n",
              "        google.colab.kernel.accessAllowed ? 'block' : 'none';\n",
              "    })();\n",
              "  </script>\n",
              "</div>\n",
              "\n",
              "  <div id=\"id_308bd360-3844-478e-893e-a92471c4c1d7\">\n",
              "    <style>\n",
              "      .colab-df-generate {\n",
              "        background-color: #E8F0FE;\n",
              "        border: none;\n",
              "        border-radius: 50%;\n",
              "        cursor: pointer;\n",
              "        display: none;\n",
              "        fill: #1967D2;\n",
              "        height: 32px;\n",
              "        padding: 0 0 0 0;\n",
              "        width: 32px;\n",
              "      }\n",
              "\n",
              "      .colab-df-generate:hover {\n",
              "        background-color: #E2EBFA;\n",
              "        box-shadow: 0px 1px 2px rgba(60, 64, 67, 0.3), 0px 1px 3px 1px rgba(60, 64, 67, 0.15);\n",
              "        fill: #174EA6;\n",
              "      }\n",
              "\n",
              "      [theme=dark] .colab-df-generate {\n",
              "        background-color: #3B4455;\n",
              "        fill: #D2E3FC;\n",
              "      }\n",
              "\n",
              "      [theme=dark] .colab-df-generate:hover {\n",
              "        background-color: #434B5C;\n",
              "        box-shadow: 0px 1px 3px 1px rgba(0, 0, 0, 0.15);\n",
              "        filter: drop-shadow(0px 1px 2px rgba(0, 0, 0, 0.3));\n",
              "        fill: #FFFFFF;\n",
              "      }\n",
              "    </style>\n",
              "    <button class=\"colab-df-generate\" onclick=\"generateWithVariable('valid')\"\n",
              "            title=\"Generate code using this dataframe.\"\n",
              "            style=\"display:none;\">\n",
              "\n",
              "  <svg xmlns=\"http://www.w3.org/2000/svg\" height=\"24px\"viewBox=\"0 0 24 24\"\n",
              "       width=\"24px\">\n",
              "    <path d=\"M7,19H8.4L18.45,9,17,7.55,7,17.6ZM5,21V16.75L18.45,3.32a2,2,0,0,1,2.83,0l1.4,1.43a1.91,1.91,0,0,1,.58,1.4,1.91,1.91,0,0,1-.58,1.4L9.25,21ZM18.45,9,17,7.55Zm-12,3A5.31,5.31,0,0,0,4.9,8.1,5.31,5.31,0,0,0,1,6.5,5.31,5.31,0,0,0,4.9,4.9,5.31,5.31,0,0,0,6.5,1,5.31,5.31,0,0,0,8.1,4.9,5.31,5.31,0,0,0,12,6.5,5.46,5.46,0,0,0,6.5,12Z\"/>\n",
              "  </svg>\n",
              "    </button>\n",
              "    <script>\n",
              "      (() => {\n",
              "      const buttonEl =\n",
              "        document.querySelector('#id_308bd360-3844-478e-893e-a92471c4c1d7 button.colab-df-generate');\n",
              "      buttonEl.style.display =\n",
              "        google.colab.kernel.accessAllowed ? 'block' : 'none';\n",
              "\n",
              "      buttonEl.onclick = () => {\n",
              "        google.colab.notebook.generateWithVariable('valid');\n",
              "      }\n",
              "      })();\n",
              "    </script>\n",
              "  </div>\n",
              "\n",
              "    </div>\n",
              "  </div>\n"
            ],
            "application/vnd.google.colaboratory.intrinsic+json": {
              "type": "dataframe",
              "variable_name": "valid",
              "summary": "{\n  \"name\": \"valid\",\n  \"rows\": 364,\n  \"fields\": [\n    {\n      \"column\": \"Date\",\n      \"properties\": {\n        \"dtype\": \"date\",\n        \"min\": \"2019-11-19 00:00:00\",\n        \"max\": \"2020-11-16 00:00:00\",\n        \"num_unique_values\": 364,\n        \"samples\": [\n          \"2020-05-30 00:00:00\",\n          \"2019-12-22 00:00:00\",\n          \"2019-12-04 00:00:00\"\n        ],\n        \"semantic_type\": \"\",\n        \"description\": \"\"\n      }\n    },\n    {\n      \"column\": \"High\",\n      \"properties\": {\n        \"dtype\": \"number\",\n        \"std\": 259.56175879355345,\n        \"min\": 2300.72998046875,\n        \"max\": 3645.989990234375,\n        \"num_unique_values\": 251,\n        \"samples\": [\n          3165.81005859375,\n          3154.260009765625,\n          3220.389892578125\n        ],\n        \"semantic_type\": \"\",\n        \"description\": \"\"\n      }\n    },\n    {\n      \"column\": \"Predictions\",\n      \"properties\": {\n        \"dtype\": \"float32\",\n        \"num_unique_values\": 364,\n        \"samples\": [\n          3055.727294921875,\n          3232.275390625,\n          3094.72412109375\n        ],\n        \"semantic_type\": \"\",\n        \"description\": \"\"\n      }\n    }\n  ]\n}"
            }
          },
          "metadata": {},
          "execution_count": 50
        }
      ]
    },
    {
      "cell_type": "code",
      "source": [
        "plt.plot(valid[['High','Predictions']])\n",
        "plt.legend(['Validation','Predictions'])\n",
        "plt.show()"
      ],
      "metadata": {
        "colab": {
          "base_uri": "https://localhost:8080/",
          "height": 430
        },
        "id": "Xv3rYjrycqXw",
        "outputId": "74cc2f48-dfc6-434d-828f-2ad08e435a22"
      },
      "execution_count": 51,
      "outputs": [
        {
          "output_type": "display_data",
          "data": {
            "text/plain": [
              "<Figure size 640x480 with 1 Axes>"
            ],
            "image/png": "[encoded data removed]"
          },
          "metadata": {}
        }
      ]
    },
    {
      "cell_type": "code",
      "source": [
        "import tensorflow\n",
        "\n",
        "r1=[]\n",
        "r2=[]\n",
        "\n",
        "model=Sequential()\n",
        "model.add(SimpleRNN(50,return_sequences=True, activation='relu', input_shape=(X_train.shape[1],1)))\n",
        "model.add(SimpleRNN(50,return_sequences=False,activation='relu'))\n",
        "model.add(Dense(100))\n",
        "model.add(Dense(25))\n",
        "model.add(Dense(1))\n",
        "lr_schedule = tensorflow.keras.callbacks.LearningRateScheduler(\n",
        "    lambda epoch: 1e-5 * 10**(epoch / 85))\n",
        "opt1=tf.keras.optimizers.Adam(learning_rate=1e-5,beta_1=0.9,beta_2=0.7)\n",
        "model.compile(loss='mean_squared_error', optimizer=opt1)\n",
        "history=model.fit(X_train, Y_train, epochs=100, batch_size=10,verbose=2, callbacks=[lr_schedule])\n",
        "\n",
        "lstm_train_pred = model.predict(X_train)\n",
        "lstm_valid_pred = model.predict(X_val)\n",
        "r_train_new=np.round(np.sqrt(mean_squared_error(Y_train, lstm_train_pred)),2)\n",
        "r_val_new=np.round(np.sqrt(mean_squared_error(Y_val, lstm_valid_pred)),2)"
      ],
      "metadata": {
        "colab": {
          "base_uri": "https://localhost:8080/"
        },
        "id": "MpDj7qD0cySz",
        "outputId": "3ff8a91a-3597-4d43-e2c0-0e3d71bdf255"
      },
      "execution_count": 52,
      "outputs": [
        {
          "output_type": "stream",
          "name": "stdout",
          "text": [
            "Epoch 1/100\n",
            "145/145 - 4s - loss: 4442059.5000 - lr: 1.0000e-05 - 4s/epoch - 24ms/step\n",
            "Epoch 2/100\n",
            "145/145 - 1s - loss: 1422043.5000 - lr: 1.0275e-05 - 1s/epoch - 7ms/step\n",
            "Epoch 3/100\n",
            "145/145 - 1s - loss: 57922.1172 - lr: 1.0557e-05 - 992ms/epoch - 7ms/step\n",
            "Epoch 4/100\n",
            "145/145 - 1s - loss: 357.9646 - lr: 1.0847e-05 - 1s/epoch - 7ms/step\n",
            "Epoch 5/100\n",
            "145/145 - 1s - loss: 350.7489 - lr: 1.1144e-05 - 1s/epoch - 7ms/step\n",
            "Epoch 6/100\n",
            "145/145 - 1s - loss: 363.6270 - lr: 1.1450e-05 - 1s/epoch - 10ms/step\n",
            "Epoch 7/100\n",
            "145/145 - 1s - loss: 341.4731 - lr: 1.1765e-05 - 1s/epoch - 10ms/step\n",
            "Epoch 8/100\n",
            "145/145 - 1s - loss: 342.3664 - lr: 1.2088e-05 - 1s/epoch - 9ms/step\n",
            "Epoch 9/100\n",
            "145/145 - 1s - loss: 329.8608 - lr: 1.2420e-05 - 1s/epoch - 7ms/step\n",
            "Epoch 10/100\n",
            "145/145 - 1s - loss: 339.2698 - lr: 1.2761e-05 - 1s/epoch - 7ms/step\n",
            "Epoch 11/100\n",
            "145/145 - 1s - loss: 314.9352 - lr: 1.3111e-05 - 982ms/epoch - 7ms/step\n",
            "Epoch 12/100\n",
            "145/145 - 1s - loss: 329.4928 - lr: 1.3471e-05 - 984ms/epoch - 7ms/step\n",
            "Epoch 13/100\n",
            "145/145 - 1s - loss: 345.3752 - lr: 1.3841e-05 - 989ms/epoch - 7ms/step\n",
            "Epoch 14/100\n",
            "145/145 - 1s - loss: 319.8828 - lr: 1.4221e-05 - 990ms/epoch - 7ms/step\n",
            "Epoch 15/100\n",
            "145/145 - 1s - loss: 320.5781 - lr: 1.4612e-05 - 1s/epoch - 7ms/step\n",
            "Epoch 16/100\n",
            "145/145 - 1s - loss: 314.3600 - lr: 1.5013e-05 - 984ms/epoch - 7ms/step\n",
            "Epoch 17/100\n",
            "145/145 - 1s - loss: 335.1435 - lr: 1.5425e-05 - 991ms/epoch - 7ms/step\n",
            "Epoch 18/100\n",
            "145/145 - 1s - loss: 342.4000 - lr: 1.5849e-05 - 1s/epoch - 8ms/step\n",
            "Epoch 19/100\n",
            "145/145 - 1s - loss: 324.4685 - lr: 1.6284e-05 - 1s/epoch - 10ms/step\n",
            "Epoch 20/100\n",
            "145/145 - 1s - loss: 309.7465 - lr: 1.6731e-05 - 1s/epoch - 10ms/step\n",
            "Epoch 21/100\n",
            "145/145 - 1s - loss: 314.8636 - lr: 1.7191e-05 - 1s/epoch - 8ms/step\n",
            "Epoch 22/100\n",
            "145/145 - 1s - loss: 301.1911 - lr: 1.7663e-05 - 1s/epoch - 7ms/step\n",
            "Epoch 23/100\n",
            "145/145 - 1s - loss: 315.5140 - lr: 1.8148e-05 - 984ms/epoch - 7ms/step\n",
            "Epoch 24/100\n",
            "145/145 - 1s - loss: 335.5552 - lr: 1.8646e-05 - 961ms/epoch - 7ms/step\n",
            "Epoch 25/100\n",
            "145/145 - 1s - loss: 344.5390 - lr: 1.9158e-05 - 975ms/epoch - 7ms/step\n",
            "Epoch 26/100\n",
            "145/145 - 1s - loss: 323.3690 - lr: 1.9684e-05 - 968ms/epoch - 7ms/step\n",
            "Epoch 27/100\n",
            "145/145 - 1s - loss: 323.3177 - lr: 2.0225e-05 - 995ms/epoch - 7ms/step\n",
            "Epoch 28/100\n",
            "145/145 - 1s - loss: 340.3463 - lr: 2.0780e-05 - 963ms/epoch - 7ms/step\n",
            "Epoch 29/100\n",
            "145/145 - 1s - loss: 327.0906 - lr: 2.1351e-05 - 1s/epoch - 7ms/step\n",
            "Epoch 30/100\n",
            "145/145 - 1s - loss: 340.8057 - lr: 2.1937e-05 - 997ms/epoch - 7ms/step\n",
            "Epoch 31/100\n",
            "145/145 - 1s - loss: 306.8520 - lr: 2.2539e-05 - 1s/epoch - 8ms/step\n",
            "Epoch 32/100\n",
            "145/145 - 1s - loss: 330.6975 - lr: 2.3158e-05 - 1s/epoch - 10ms/step\n",
            "Epoch 33/100\n",
            "145/145 - 1s - loss: 331.7918 - lr: 2.3794e-05 - 1s/epoch - 10ms/step\n",
            "Epoch 34/100\n",
            "145/145 - 1s - loss: 311.0186 - lr: 2.4448e-05 - 1s/epoch - 8ms/step\n",
            "Epoch 35/100\n",
            "145/145 - 1s - loss: 317.2531 - lr: 2.5119e-05 - 1s/epoch - 7ms/step\n",
            "Epoch 36/100\n",
            "145/145 - 1s - loss: 311.8045 - lr: 2.5809e-05 - 1s/epoch - 7ms/step\n",
            "Epoch 37/100\n",
            "145/145 - 1s - loss: 313.6543 - lr: 2.6517e-05 - 1s/epoch - 7ms/step\n",
            "Epoch 38/100\n",
            "145/145 - 1s - loss: 308.4593 - lr: 2.7245e-05 - 967ms/epoch - 7ms/step\n",
            "Epoch 39/100\n",
            "145/145 - 1s - loss: 289.0817 - lr: 2.7994e-05 - 969ms/epoch - 7ms/step\n",
            "Epoch 40/100\n",
            "145/145 - 1s - loss: 302.6931 - lr: 2.8762e-05 - 951ms/epoch - 7ms/step\n",
            "Epoch 41/100\n",
            "145/145 - 1s - loss: 296.5660 - lr: 2.9552e-05 - 966ms/epoch - 7ms/step\n",
            "Epoch 42/100\n",
            "145/145 - 1s - loss: 323.7424 - lr: 3.0364e-05 - 962ms/epoch - 7ms/step\n",
            "Epoch 43/100\n",
            "145/145 - 1s - loss: 330.1183 - lr: 3.1197e-05 - 967ms/epoch - 7ms/step\n",
            "Epoch 44/100\n",
            "145/145 - 1s - loss: 336.6880 - lr: 3.2054e-05 - 1s/epoch - 9ms/step\n",
            "Epoch 45/100\n",
            "145/145 - 1s - loss: 355.0826 - lr: 3.2934e-05 - 1s/epoch - 10ms/step\n",
            "Epoch 46/100\n",
            "145/145 - 1s - loss: 332.5545 - lr: 3.3839e-05 - 1s/epoch - 9ms/step\n",
            "Epoch 47/100\n",
            "145/145 - 1s - loss: 300.3569 - lr: 3.4768e-05 - 1s/epoch - 7ms/step\n",
            "Epoch 48/100\n",
            "145/145 - 1s - loss: 331.1551 - lr: 3.5722e-05 - 1s/epoch - 7ms/step\n",
            "Epoch 49/100\n",
            "145/145 - 1s - loss: 304.9111 - lr: 3.6703e-05 - 988ms/epoch - 7ms/step\n",
            "Epoch 50/100\n",
            "145/145 - 1s - loss: 284.2022 - lr: 3.7711e-05 - 991ms/epoch - 7ms/step\n",
            "Epoch 51/100\n",
            "145/145 - 1s - loss: 440.5025 - lr: 3.8747e-05 - 997ms/epoch - 7ms/step\n",
            "Epoch 52/100\n",
            "145/145 - 1s - loss: 346.4009 - lr: 3.9811e-05 - 991ms/epoch - 7ms/step\n",
            "Epoch 53/100\n",
            "145/145 - 1s - loss: 379.0354 - lr: 4.0904e-05 - 1s/epoch - 7ms/step\n",
            "Epoch 54/100\n",
            "145/145 - 1s - loss: 323.4968 - lr: 4.2027e-05 - 966ms/epoch - 7ms/step\n",
            "Epoch 55/100\n",
            "145/145 - 1s - loss: 288.7465 - lr: 4.3181e-05 - 974ms/epoch - 7ms/step\n",
            "Epoch 56/100\n",
            "145/145 - 1s - loss: 280.1455 - lr: 4.4367e-05 - 976ms/epoch - 7ms/step\n",
            "Epoch 57/100\n",
            "145/145 - 1s - loss: 308.7908 - lr: 4.5585e-05 - 1s/epoch - 9ms/step\n",
            "Epoch 58/100\n",
            "145/145 - 1s - loss: 352.6321 - lr: 4.6837e-05 - 1s/epoch - 10ms/step\n",
            "Epoch 59/100\n",
            "145/145 - 1s - loss: 356.5562 - lr: 4.8123e-05 - 1s/epoch - 9ms/step\n",
            "Epoch 60/100\n",
            "145/145 - 1s - loss: 336.9344 - lr: 4.9444e-05 - 1s/epoch - 7ms/step\n",
            "Epoch 61/100\n",
            "145/145 - 1s - loss: 311.6193 - lr: 5.0802e-05 - 1s/epoch - 7ms/step\n",
            "Epoch 62/100\n",
            "145/145 - 1s - loss: 291.4728 - lr: 5.2197e-05 - 1s/epoch - 7ms/step\n",
            "Epoch 63/100\n",
            "145/145 - 1s - loss: 315.7727 - lr: 5.3630e-05 - 1s/epoch - 8ms/step\n",
            "Epoch 64/100\n",
            "145/145 - 1s - loss: 337.1937 - lr: 5.5103e-05 - 1s/epoch - 9ms/step\n",
            "Epoch 65/100\n",
            "145/145 - 1s - loss: 299.7839 - lr: 5.6616e-05 - 1s/epoch - 7ms/step\n",
            "Epoch 66/100\n",
            "145/145 - 1s - loss: 288.4743 - lr: 5.8171e-05 - 1s/epoch - 7ms/step\n",
            "Epoch 67/100\n",
            "145/145 - 1s - loss: 328.2075 - lr: 5.9768e-05 - 974ms/epoch - 7ms/step\n",
            "Epoch 68/100\n",
            "145/145 - 1s - loss: 321.9796 - lr: 6.1409e-05 - 974ms/epoch - 7ms/step\n",
            "Epoch 69/100\n",
            "145/145 - 1s - loss: 343.5356 - lr: 6.3096e-05 - 1s/epoch - 9ms/step\n",
            "Epoch 70/100\n",
            "145/145 - 1s - loss: 300.1216 - lr: 6.4828e-05 - 1s/epoch - 10ms/step\n",
            "Epoch 71/100\n",
            "145/145 - 1s - loss: 339.1862 - lr: 6.6608e-05 - 1s/epoch - 10ms/step\n",
            "Epoch 72/100\n",
            "145/145 - 1s - loss: 278.1132 - lr: 6.8437e-05 - 1000ms/epoch - 7ms/step\n",
            "Epoch 73/100\n",
            "145/145 - 1s - loss: 341.1588 - lr: 7.0317e-05 - 977ms/epoch - 7ms/step\n",
            "Epoch 74/100\n",
            "145/145 - 1s - loss: 341.5999 - lr: 7.2248e-05 - 1s/epoch - 7ms/step\n",
            "Epoch 75/100\n",
            "145/145 - 1s - loss: 368.4821 - lr: 7.4232e-05 - 1s/epoch - 7ms/step\n",
            "Epoch 76/100\n",
            "145/145 - 1s - loss: 473.1345 - lr: 7.6270e-05 - 1s/epoch - 7ms/step\n",
            "Epoch 77/100\n",
            "145/145 - 1s - loss: 317.8398 - lr: 7.8364e-05 - 1s/epoch - 7ms/step\n",
            "Epoch 78/100\n",
            "145/145 - 1s - loss: 285.4688 - lr: 8.0516e-05 - 1s/epoch - 7ms/step\n",
            "Epoch 79/100\n",
            "145/145 - 1s - loss: 300.8505 - lr: 8.2727e-05 - 973ms/epoch - 7ms/step\n",
            "Epoch 80/100\n",
            "145/145 - 1s - loss: 317.7624 - lr: 8.4999e-05 - 989ms/epoch - 7ms/step\n",
            "Epoch 81/100\n",
            "145/145 - 1s - loss: 412.2135 - lr: 8.7333e-05 - 1s/epoch - 8ms/step\n",
            "Epoch 82/100\n",
            "145/145 - 1s - loss: 313.5061 - lr: 8.9731e-05 - 1s/epoch - 10ms/step\n",
            "Epoch 83/100\n",
            "145/145 - 1s - loss: 329.2991 - lr: 9.2195e-05 - 1s/epoch - 10ms/step\n",
            "Epoch 84/100\n",
            "145/145 - 1s - loss: 316.7793 - lr: 9.4726e-05 - 1s/epoch - 8ms/step\n",
            "Epoch 85/100\n",
            "145/145 - 1s - loss: 265.8328 - lr: 9.7327e-05 - 982ms/epoch - 7ms/step\n",
            "Epoch 86/100\n",
            "145/145 - 1s - loss: 288.5770 - lr: 1.0000e-04 - 980ms/epoch - 7ms/step\n",
            "Epoch 87/100\n",
            "145/145 - 1s - loss: 379.7530 - lr: 1.0275e-04 - 1s/epoch - 7ms/step\n",
            "Epoch 88/100\n",
            "145/145 - 1s - loss: 405.7578 - lr: 1.0557e-04 - 1s/epoch - 7ms/step\n",
            "Epoch 89/100\n",
            "145/145 - 1s - loss: 364.7773 - lr: 1.0847e-04 - 1s/epoch - 7ms/step\n",
            "Epoch 90/100\n",
            "145/145 - 1s - loss: 293.4952 - lr: 1.1144e-04 - 1s/epoch - 7ms/step\n",
            "Epoch 91/100\n",
            "145/145 - 1s - loss: 397.4982 - lr: 1.1450e-04 - 1s/epoch - 8ms/step\n",
            "Epoch 92/100\n",
            "145/145 - 1s - loss: 312.3533 - lr: 1.1765e-04 - 991ms/epoch - 7ms/step\n",
            "Epoch 93/100\n",
            "145/145 - 1s - loss: 348.0247 - lr: 1.2088e-04 - 981ms/epoch - 7ms/step\n",
            "Epoch 94/100\n",
            "145/145 - 1s - loss: 298.8713 - lr: 1.2420e-04 - 1s/epoch - 10ms/step\n",
            "Epoch 95/100\n",
            "145/145 - 1s - loss: 345.0031 - lr: 1.2761e-04 - 1s/epoch - 10ms/step\n",
            "Epoch 96/100\n",
            "145/145 - 1s - loss: 344.9274 - lr: 1.3111e-04 - 1s/epoch - 8ms/step\n",
            "Epoch 97/100\n",
            "145/145 - 1s - loss: 361.7918 - lr: 1.3471e-04 - 997ms/epoch - 7ms/step\n",
            "Epoch 98/100\n",
            "145/145 - 1s - loss: 356.8607 - lr: 1.3841e-04 - 1s/epoch - 7ms/step\n",
            "Epoch 99/100\n",
            "145/145 - 1s - loss: 351.1295 - lr: 1.4221e-04 - 1s/epoch - 7ms/step\n",
            "Epoch 100/100\n",
            "145/145 - 1s - loss: 501.5658 - lr: 1.4612e-04 - 990ms/epoch - 7ms/step\n",
            "46/46 [==============================] - 0s 3ms/step\n",
            "12/12 [==============================] - 0s 4ms/step\n"
          ]
        }
      ]
    },
    {
      "cell_type": "code",
      "source": [
        "plt.semilogx(history.history[\"lr\"], history.history[\"loss\"])\n",
        "plt.axis([1e-5, 5e-4, 0, 1000])"
      ],
      "metadata": {
        "colab": {
          "base_uri": "https://localhost:8080/",
          "height": 458
        },
        "id": "IX6oukcjcyWP",
        "outputId": "4273df81-a917-4360-8b50-9f5b37284738"
      },
      "execution_count": 53,
      "outputs": [
        {
          "output_type": "execute_result",
          "data": {
            "text/plain": [
              "(1e-05, 0.0005, 0.0, 1000.0)"
            ]
          },
          "metadata": {},
          "execution_count": 53
        },
        {
          "output_type": "display_data",
          "data": {
            "text/plain": [
              "<Figure size 640x480 with 1 Axes>"
            ],
            "image/png": "[encoded data removed]"
          },
          "metadata": {}
        }
      ]
    },
    {
      "cell_type": "code",
      "source": [
        "r1=[]\n",
        "r2=[]\n",
        "\n",
        "for i in range(0,10):\n",
        "    model=Sequential()\n",
        "    model.add(SimpleRNN(50,return_sequences=True, activation='relu', input_shape=(X_train.shape[1],1)))\n",
        "    model.add(SimpleRNN(50,return_sequences=False,activation='relu'))\n",
        "    model.add(Dense(100))\n",
        "    model.add(Dense(25))\n",
        "    model.add(Dense(1))\n",
        "    opt1=tf.keras.optimizers.Adam(learning_rate=1e-4,beta_1=0.9,beta_2=0.7)\n",
        "    model.compile(loss='mean_squared_error', optimizer=opt1)\n",
        "    model.fit(X_train, Y_train, epochs=100, batch_size=10,verbose=0)\n",
        "\n",
        "    lstm_train_pred = model.predict(X_train)\n",
        "    lstm_valid_pred = model.predict(X_val)\n",
        "    r1.append(np.round(np.sqrt(mean_squared_error(Y_train, lstm_train_pred)),2))\n",
        "    r2.append(np.round(np.sqrt(mean_squared_error(Y_val, lstm_valid_pred)),2))"
      ],
      "metadata": {
        "colab": {
          "base_uri": "https://localhost:8080/"
        },
        "id": "GpOpJjiEcydC",
        "outputId": "d4d82961-2b11-4bcc-8256-27617f980c04"
      },
      "execution_count": 54,
      "outputs": [
        {
          "output_type": "stream",
          "name": "stdout",
          "text": [
            "46/46 [==============================] - 0s 4ms/step\n",
            "12/12 [==============================] - 0s 4ms/step\n",
            "46/46 [==============================] - 0s 4ms/step\n",
            "12/12 [==============================] - 0s 4ms/step\n",
            "46/46 [==============================] - 0s 3ms/step\n",
            "12/12 [==============================] - 0s 4ms/step\n",
            "46/46 [==============================] - 1s 5ms/step\n",
            "12/12 [==============================] - 0s 4ms/step\n",
            "46/46 [==============================] - 0s 3ms/step\n",
            "12/12 [==============================] - 0s 4ms/step\n",
            "46/46 [==============================] - 0s 3ms/step\n",
            "12/12 [==============================] - 0s 3ms/step\n",
            "46/46 [==============================] - 1s 6ms/step\n",
            "12/12 [==============================] - 0s 6ms/step\n",
            "46/46 [==============================] - 0s 3ms/step\n",
            "12/12 [==============================] - 0s 4ms/step\n",
            "46/46 [==============================] - 1s 4ms/step\n",
            "12/12 [==============================] - 0s 5ms/step\n",
            "46/46 [==============================] - 1s 6ms/step\n",
            "12/12 [==============================] - 0s 7ms/step\n"
          ]
        }
      ]
    },
    {
      "cell_type": "code",
      "source": [
        "r1, statistics.mean(r1), statistics.stdev(r1)"
      ],
      "metadata": {
        "colab": {
          "base_uri": "https://localhost:8080/"
        },
        "id": "HW2K21Loc-_N",
        "outputId": "7f66e1af-1caa-452a-d60b-a138cd3bb50f"
      },
      "execution_count": 55,
      "outputs": [
        {
          "output_type": "execute_result",
          "data": {
            "text/plain": [
              "([15.07, 14.19, 14.92, 15.13, 15.06, 16.94, 17.12, 20.96, 16.69, 15.56],\n",
              " 16.164,\n",
              " 1.9461711698158062)"
            ]
          },
          "metadata": {},
          "execution_count": 55
        }
      ]
    },
    {
      "cell_type": "code",
      "source": [
        "r2, statistics.mean(r2), statistics.stdev(r2)"
      ],
      "metadata": {
        "colab": {
          "base_uri": "https://localhost:8080/"
        },
        "id": "fGJqcliHc_Cl",
        "outputId": "8e251fa0-e7ff-44da-882c-e60b12c818f7"
      },
      "execution_count": 56,
      "outputs": [
        {
          "output_type": "execute_result",
          "data": {
            "text/plain": [
              "([38.3, 38.08, 38.39, 38.48, 39.45, 39.87, 39.29, 42.39, 39.85, 38.77],\n",
              " 39.287,\n",
              " 1.2678157069017042)"
            ]
          },
          "metadata": {},
          "execution_count": 56
        }
      ]
    },
    {
      "cell_type": "code",
      "source": [
        "valid = pd.DataFrame(new_df[train_len:])\n",
        "valid['Predictions']=lstm_valid_pred\n",
        "valid"
      ],
      "metadata": {
        "colab": {
          "base_uri": "https://localhost:8080/",
          "height": 455
        },
        "id": "V2A8aZFhdI75",
        "outputId": "8fa87d0c-45a1-44c7-a176-069da418b64c"
      },
      "execution_count": 57,
      "outputs": [
        {
          "output_type": "execute_result",
          "data": {
            "text/plain": [
              "                   High  Predictions\n",
              "Date                                \n",
              "2019-11-19  3127.639893  3118.043701\n",
              "2019-11-20  3118.969971  3119.531982\n",
              "2019-11-21  3110.110107  3112.991699\n",
              "2019-11-22  3112.870117  3103.468750\n",
              "2019-11-23  3112.870117  3104.225830\n",
              "...                 ...          ...\n",
              "2020-11-12  3569.020020  3574.220703\n",
              "2020-11-13  3593.659912  3566.374512\n",
              "2020-11-14  3593.659912  3573.926758\n",
              "2020-11-15  3593.659912  3590.482666\n",
              "2020-11-16  3628.510010  3584.703125\n",
              "\n",
              "[364 rows x 2 columns]"
            ],
            "text/html": [
              "\n",
              "  <div id=\"df-6531997e-7264-4df9-ae24-dab25e09c050\" class=\"colab-df-container\">\n",
              "    <div>\n",
              "<style scoped>\n",
              "    .dataframe tbody tr th:only-of-type {\n",
              "        vertical-align: middle;\n",
              "    }\n",
              "\n",
              "    .dataframe tbody tr th {\n",
              "        vertical-align: top;\n",
              "    }\n",
              "\n",
              "    .dataframe thead th {\n",
              "        text-align: right;\n",
              "    }\n",
              "</style>\n",
              "<table border=\"1\" class=\"dataframe\">\n",
              "  <thead>\n",
              "    <tr style=\"text-align: right;\">\n",
              "      <th></th>\n",
              "      <th>High</th>\n",
              "      <th>Predictions</th>\n",
              "    </tr>\n",
              "    <tr>\n",
              "      <th>Date</th>\n",
              "      <th></th>\n",
              "      <th></th>\n",
              "    </tr>\n",
              "  </thead>\n",
              "  <tbody>\n",
              "    <tr>\n",
              "      <th>2019-11-19</th>\n",
              "      <td>3127.639893</td>\n",
              "      <td>3118.043701</td>\n",
              "    </tr>\n",
              "    <tr>\n",
              "      <th>2019-11-20</th>\n",
              "      <td>3118.969971</td>\n",
              "      <td>3119.531982</td>\n",
              "    </tr>\n",
              "    <tr>\n",
              "      <th>2019-11-21</th>\n",
              "      <td>3110.110107</td>\n",
              "      <td>3112.991699</td>\n",
              "    </tr>\n",
              "    <tr>\n",
              "      <th>2019-11-22</th>\n",
              "      <td>3112.870117</td>\n",
              "      <td>3103.468750</td>\n",
              "    </tr>\n",
              "    <tr>\n",
              "      <th>2019-11-23</th>\n",
              "      <td>3112.870117</td>\n",
              "      <td>3104.225830</td>\n",
              "    </tr>\n",
              "    <tr>\n",
              "      <th>...</th>\n",
              "      <td>...</td>\n",
              "      <td>...</td>\n",
              "    </tr>\n",
              "    <tr>\n",
              "      <th>2020-11-12</th>\n",
              "      <td>3569.020020</td>\n",
              "      <td>3574.220703</td>\n",
              "    </tr>\n",
              "    <tr>\n",
              "      <th>2020-11-13</th>\n",
              "      <td>3593.659912</td>\n",
              "      <td>3566.374512</td>\n",
              "    </tr>\n",
              "    <tr>\n",
              "      <th>2020-11-14</th>\n",
              "      <td>3593.659912</td>\n",
              "      <td>3573.926758</td>\n",
              "    </tr>\n",
              "    <tr>\n",
              "      <th>2020-11-15</th>\n",
              "      <td>3593.659912</td>\n",
              "      <td>3590.482666</td>\n",
              "    </tr>\n",
              "    <tr>\n",
              "      <th>2020-11-16</th>\n",
              "      <td>3628.510010</td>\n",
              "      <td>3584.703125</td>\n",
              "    </tr>\n",
              "  </tbody>\n",
              "</table>\n",
              "<p>364 rows × 2 columns</p>\n",
              "</div>\n",
              "    <div class=\"colab-df-buttons\">\n",
              "\n",
              "  <div class=\"colab-df-container\">\n",
              "    <button class=\"colab-df-convert\" onclick=\"convertToInteractive('df-6531997e-7264-4df9-ae24-dab25e09c050')\"\n",
              "            title=\"Convert this dataframe to an interactive table.\"\n",
              "            style=\"display:none;\">\n",
              "\n",
              "  <svg xmlns=\"http://www.w3.org/2000/svg\" height=\"24px\" viewBox=\"0 -960 960 960\">\n",
              "    <path d=\"M120-120v-720h720v720H120Zm60-500h600v-160H180v160Zm220 220h160v-160H400v160Zm0 220h160v-160H400v160ZM180-400h160v-160H180v160Zm440 0h160v-160H620v160ZM180-180h160v-160H180v160Zm440 0h160v-160H620v160Z\"/>\n",
              "  </svg>\n",
              "    </button>\n",
              "\n",
              "  <style>\n",
              "    .colab-df-container {\n",
              "      display:flex;\n",
              "      gap: 12px;\n",
              "    }\n",
              "\n",
              "    .colab-df-convert {\n",
              "      background-color: #E8F0FE;\n",
              "      border: none;\n",
              "      border-radius: 50%;\n",
              "      cursor: pointer;\n",
              "      display: none;\n",
              "      fill: #1967D2;\n",
              "      height: 32px;\n",
              "      padding: 0 0 0 0;\n",
              "      width: 32px;\n",
              "    }\n",
              "\n",
              "    .colab-df-convert:hover {\n",
              "      background-color: #E2EBFA;\n",
              "      box-shadow: 0px 1px 2px rgba(60, 64, 67, 0.3), 0px 1px 3px 1px rgba(60, 64, 67, 0.15);\n",
              "      fill: #174EA6;\n",
              "    }\n",
              "\n",
              "    .colab-df-buttons div {\n",
              "      margin-bottom: 4px;\n",
              "    }\n",
              "\n",
              "    [theme=dark] .colab-df-convert {\n",
              "      background-color: #3B4455;\n",
              "      fill: #D2E3FC;\n",
              "    }\n",
              "\n",
              "    [theme=dark] .colab-df-convert:hover {\n",
              "      background-color: #434B5C;\n",
              "      box-shadow: 0px 1px 3px 1px rgba(0, 0, 0, 0.15);\n",
              "      filter: drop-shadow(0px 1px 2px rgba(0, 0, 0, 0.3));\n",
              "      fill: #FFFFFF;\n",
              "    }\n",
              "  </style>\n",
              "\n",
              "    <script>\n",
              "      const buttonEl =\n",
              "        document.querySelector('#df-6531997e-7264-4df9-ae24-dab25e09c050 button.colab-df-convert');\n",
              "      buttonEl.style.display =\n",
              "        google.colab.kernel.accessAllowed ? 'block' : 'none';\n",
              "\n",
              "      async function convertToInteractive(key) {\n",
              "        const element = document.querySelector('#df-6531997e-7264-4df9-ae24-dab25e09c050');\n",
              "        const dataTable =\n",
              "          await google.colab.kernel.invokeFunction('convertToInteractive',\n",
              "                                                    [key], {});\n",
              "        if (!dataTable) return;\n",
              "\n",
              "        const docLinkHtml = 'Like what you see? Visit the ' +\n",
              "          '<a target=\"_blank\" href=https://colab.research.google.com/notebooks/data_table.ipynb>data table notebook</a>'\n",
              "          + ' to learn more about interactive tables.';\n",
              "        element.innerHTML = '';\n",
              "        dataTable['output_type'] = 'display_data';\n",
              "        await google.colab.output.renderOutput(dataTable, element);\n",
              "        const docLink = document.createElement('div');\n",
              "        docLink.innerHTML = docLinkHtml;\n",
              "        element.appendChild(docLink);\n",
              "      }\n",
              "    </script>\n",
              "  </div>\n",
              "\n",
              "\n",
              "<div id=\"df-e893cc46-13f6-45fb-9825-27c5351037dc\">\n",
              "  <button class=\"colab-df-quickchart\" onclick=\"quickchart('df-e893cc46-13f6-45fb-9825-27c5351037dc')\"\n",
              "            title=\"Suggest charts\"\n",
              "            style=\"display:none;\">\n",
              "\n",
              "<svg xmlns=\"http://www.w3.org/2000/svg\" height=\"24px\"viewBox=\"0 0 24 24\"\n",
              "     width=\"24px\">\n",
              "    <g>\n",
              "        <path d=\"M19 3H5c-1.1 0-2 .9-2 2v14c0 1.1.9 2 2 2h14c1.1 0 2-.9 2-2V5c0-1.1-.9-2-2-2zM9 17H7v-7h2v7zm4 0h-2V7h2v10zm4 0h-2v-4h2v4z\"/>\n",
              "    </g>\n",
              "</svg>\n",
              "  </button>\n",
              "\n",
              "<style>\n",
              "  .colab-df-quickchart {\n",
              "      --bg-color: #E8F0FE;\n",
              "      --fill-color: #1967D2;\n",
              "      --hover-bg-color: #E2EBFA;\n",
              "      --hover-fill-color: #174EA6;\n",
              "      --disabled-fill-color: #AAA;\n",
              "      --disabled-bg-color: #DDD;\n",
              "  }\n",
              "\n",
              "  [theme=dark] .colab-df-quickchart {\n",
              "      --bg-color: #3B4455;\n",
              "      --fill-color: #D2E3FC;\n",
              "      --hover-bg-color: #434B5C;\n",
              "      --hover-fill-color: #FFFFFF;\n",
              "      --disabled-bg-color: #3B4455;\n",
              "      --disabled-fill-color: #666;\n",
              "  }\n",
              "\n",
              "  .colab-df-quickchart {\n",
              "    background-color: var(--bg-color);\n",
              "    border: none;\n",
              "    border-radius: 50%;\n",
              "    cursor: pointer;\n",
              "    display: none;\n",
              "    fill: var(--fill-color);\n",
              "    height: 32px;\n",
              "    padding: 0;\n",
              "    width: 32px;\n",
              "  }\n",
              "\n",
              "  .colab-df-quickchart:hover {\n",
              "    background-color: var(--hover-bg-color);\n",
              "    box-shadow: 0 1px 2px rgba(60, 64, 67, 0.3), 0 1px 3px 1px rgba(60, 64, 67, 0.15);\n",
              "    fill: var(--button-hover-fill-color);\n",
              "  }\n",
              "\n",
              "  .colab-df-quickchart-complete:disabled,\n",
              "  .colab-df-quickchart-complete:disabled:hover {\n",
              "    background-color: var(--disabled-bg-color);\n",
              "    fill: var(--disabled-fill-color);\n",
              "    box-shadow: none;\n",
              "  }\n",
              "\n",
              "  .colab-df-spinner {\n",
              "    border: 2px solid var(--fill-color);\n",
              "    border-color: transparent;\n",
              "    border-bottom-color: var(--fill-color);\n",
              "    animation:\n",
              "      spin 1s steps(1) infinite;\n",
              "  }\n",
              "\n",
              "  @keyframes spin {\n",
              "    0% {\n",
              "      border-color: transparent;\n",
              "      border-bottom-color: var(--fill-color);\n",
              "      border-left-color: var(--fill-color);\n",
              "    }\n",
              "    20% {\n",
              "      border-color: transparent;\n",
              "      border-left-color: var(--fill-color);\n",
              "      border-top-color: var(--fill-color);\n",
              "    }\n",
              "    30% {\n",
              "      border-color: transparent;\n",
              "      border-left-color: var(--fill-color);\n",
              "      border-top-color: var(--fill-color);\n",
              "      border-right-color: var(--fill-color);\n",
              "    }\n",
              "    40% {\n",
              "      border-color: transparent;\n",
              "      border-right-color: var(--fill-color);\n",
              "      border-top-color: var(--fill-color);\n",
              "    }\n",
              "    60% {\n",
              "      border-color: transparent;\n",
              "      border-right-color: var(--fill-color);\n",
              "    }\n",
              "    80% {\n",
              "      border-color: transparent;\n",
              "      border-right-color: var(--fill-color);\n",
              "      border-bottom-color: var(--fill-color);\n",
              "    }\n",
              "    90% {\n",
              "      border-color: transparent;\n",
              "      border-bottom-color: var(--fill-color);\n",
              "    }\n",
              "  }\n",
              "</style>\n",
              "\n",
              "  <script>\n",
              "    async function quickchart(key) {\n",
              "      const quickchartButtonEl =\n",
              "        document.querySelector('#' + key + ' button');\n",
              "      quickchartButtonEl.disabled = true;  // To prevent multiple clicks.\n",
              "      quickchartButtonEl.classList.add('colab-df-spinner');\n",
              "      try {\n",
              "        const charts = await google.colab.kernel.invokeFunction(\n",
              "            'suggestCharts', [key], {});\n",
              "      } catch (error) {\n",
              "        console.error('Error during call to suggestCharts:', error);\n",
              "      }\n",
              "      quickchartButtonEl.classList.remove('colab-df-spinner');\n",
              "      quickchartButtonEl.classList.add('colab-df-quickchart-complete');\n",
              "    }\n",
              "    (() => {\n",
              "      let quickchartButtonEl =\n",
              "        document.querySelector('#df-e893cc46-13f6-45fb-9825-27c5351037dc button');\n",
              "      quickchartButtonEl.style.display =\n",
              "        google.colab.kernel.accessAllowed ? 'block' : 'none';\n",
              "    })();\n",
              "  </script>\n",
              "</div>\n",
              "\n",
              "  <div id=\"id_400f7fcf-7da5-44cf-be5b-6175bb276a1b\">\n",
              "    <style>\n",
              "      .colab-df-generate {\n",
              "        background-color: #E8F0FE;\n",
              "        border: none;\n",
              "        border-radius: 50%;\n",
              "        cursor: pointer;\n",
              "        display: none;\n",
              "        fill: #1967D2;\n",
              "        height: 32px;\n",
              "        padding: 0 0 0 0;\n",
              "        width: 32px;\n",
              "      }\n",
              "\n",
              "      .colab-df-generate:hover {\n",
              "        background-color: #E2EBFA;\n",
              "        box-shadow: 0px 1px 2px rgba(60, 64, 67, 0.3), 0px 1px 3px 1px rgba(60, 64, 67, 0.15);\n",
              "        fill: #174EA6;\n",
              "      }\n",
              "\n",
              "      [theme=dark] .colab-df-generate {\n",
              "        background-color: #3B4455;\n",
              "        fill: #D2E3FC;\n",
              "      }\n",
              "\n",
              "      [theme=dark] .colab-df-generate:hover {\n",
              "        background-color: #434B5C;\n",
              "        box-shadow: 0px 1px 3px 1px rgba(0, 0, 0, 0.15);\n",
              "        filter: drop-shadow(0px 1px 2px rgba(0, 0, 0, 0.3));\n",
              "        fill: #FFFFFF;\n",
              "      }\n",
              "    </style>\n",
              "    <button class=\"colab-df-generate\" onclick=\"generateWithVariable('valid')\"\n",
              "            title=\"Generate code using this dataframe.\"\n",
              "            style=\"display:none;\">\n",
              "\n",
              "  <svg xmlns=\"http://www.w3.org/2000/svg\" height=\"24px\"viewBox=\"0 0 24 24\"\n",
              "       width=\"24px\">\n",
              "    <path d=\"M7,19H8.4L18.45,9,17,7.55,7,17.6ZM5,21V16.75L18.45,3.32a2,2,0,0,1,2.83,0l1.4,1.43a1.91,1.91,0,0,1,.58,1.4,1.91,1.91,0,0,1-.58,1.4L9.25,21ZM18.45,9,17,7.55Zm-12,3A5.31,5.31,0,0,0,4.9,8.1,5.31,5.31,0,0,0,1,6.5,5.31,5.31,0,0,0,4.9,4.9,5.31,5.31,0,0,0,6.5,1,5.31,5.31,0,0,0,8.1,4.9,5.31,5.31,0,0,0,12,6.5,5.46,5.46,0,0,0,6.5,12Z\"/>\n",
              "  </svg>\n",
              "    </button>\n",
              "    <script>\n",
              "      (() => {\n",
              "      const buttonEl =\n",
              "        document.querySelector('#id_400f7fcf-7da5-44cf-be5b-6175bb276a1b button.colab-df-generate');\n",
              "      buttonEl.style.display =\n",
              "        google.colab.kernel.accessAllowed ? 'block' : 'none';\n",
              "\n",
              "      buttonEl.onclick = () => {\n",
              "        google.colab.notebook.generateWithVariable('valid');\n",
              "      }\n",
              "      })();\n",
              "    </script>\n",
              "  </div>\n",
              "\n",
              "    </div>\n",
              "  </div>\n"
            ],
            "application/vnd.google.colaboratory.intrinsic+json": {
              "type": "dataframe",
              "variable_name": "valid",
              "summary": "{\n  \"name\": \"valid\",\n  \"rows\": 364,\n  \"fields\": [\n    {\n      \"column\": \"Date\",\n      \"properties\": {\n        \"dtype\": \"date\",\n        \"min\": \"2019-11-19 00:00:00\",\n        \"max\": \"2020-11-16 00:00:00\",\n        \"num_unique_values\": 364,\n        \"samples\": [\n          \"2020-05-30 00:00:00\",\n          \"2019-12-22 00:00:00\",\n          \"2019-12-04 00:00:00\"\n        ],\n        \"semantic_type\": \"\",\n        \"description\": \"\"\n      }\n    },\n    {\n      \"column\": \"High\",\n      \"properties\": {\n        \"dtype\": \"number\",\n        \"std\": 259.56175879355345,\n        \"min\": 2300.72998046875,\n        \"max\": 3645.989990234375,\n        \"num_unique_values\": 251,\n        \"samples\": [\n          3165.81005859375,\n          3154.260009765625,\n          3220.389892578125\n        ],\n        \"semantic_type\": \"\",\n        \"description\": \"\"\n      }\n    },\n    {\n      \"column\": \"Predictions\",\n      \"properties\": {\n        \"dtype\": \"float32\",\n        \"num_unique_values\": 364,\n        \"samples\": [\n          3051.364990234375,\n          3219.781494140625,\n          3091.649169921875\n        ],\n        \"semantic_type\": \"\",\n        \"description\": \"\"\n      }\n    }\n  ]\n}"
            }
          },
          "metadata": {},
          "execution_count": 57
        }
      ]
    },
    {
      "cell_type": "code",
      "source": [
        "plt.plot(valid[['High','Predictions']])\n",
        "plt.legend(['Validation','Predictions'])\n",
        "plt.show()"
      ],
      "metadata": {
        "colab": {
          "base_uri": "https://localhost:8080/",
          "height": 430
        },
        "id": "2ZYRvYjPdI_b",
        "outputId": "ea34c4ff-0401-4861-f23c-845fb6ccd981"
      },
      "execution_count": 58,
      "outputs": [
        {
          "output_type": "display_data",
          "data": {
            "text/plain": [
              "<Figure size 640x480 with 1 Axes>"
            ],
            "image/png": "[encoded data removed]"
          },
          "metadata": {}
        }
      ]
    },
    {
      "cell_type": "code",
      "source": [
        "last_10_days=new_df[-10:].values\n",
        "X_test=[]\n",
        "X_test.append(last_10_days)\n",
        "X_test=np.array(X_test)\n",
        "X_test=np.reshape(X_test,(X_test.shape[0],X_test.shape[1],1))\n",
        "pred_price=model.predict(X_test)\n",
        "print(pred_price)"
      ],
      "metadata": {
        "id": "wQryg31zmZ06",
        "outputId": "ebcffec8-1b87-42d6-b4dd-383e4da38593",
        "colab": {
          "base_uri": "https://localhost:8080/"
        }
      },
      "execution_count": 59,
      "outputs": [
        {
          "output_type": "stream",
          "name": "stdout",
          "text": [
            "1/1 [==============================] - 0s 34ms/step\n",
            "[[3618.8142]]\n"
          ]
        }
      ]
    },
    {
      "cell_type": "code",
      "source": [
        "df['High'].iloc[-4]"
      ],
      "metadata": {
        "id": "A8Urr9iymaFj",
        "outputId": "73cbe003-f348-4401-8721-d948f9c23ace",
        "colab": {
          "base_uri": "https://localhost:8080/"
        }
      },
      "execution_count": 60,
      "outputs": [
        {
          "output_type": "execute_result",
          "data": {
            "text/plain": [
              "3623.110107421875"
            ]
          },
          "metadata": {},
          "execution_count": 60
        }
      ]
    },
    {
      "cell_type": "code",
      "source": [
        "df['High'].iloc[-4]-pred_price"
      ],
      "metadata": {
        "id": "Dpn5Cfq6maQr",
        "outputId": "e4c77894-05ec-47fd-dbf1-bd31a596c37a",
        "colab": {
          "base_uri": "https://localhost:8080/"
        }
      },
      "execution_count": 61,
      "outputs": [
        {
          "output_type": "execute_result",
          "data": {
            "text/plain": [
              "array([[4.2958984]], dtype=float32)"
            ]
          },
          "metadata": {},
          "execution_count": 61
        }
      ]
    },
    {
      "cell_type": "code",
      "source": [
        "df.High.tail(14)"
      ],
      "metadata": {
        "id": "DaVk0li7madN",
        "outputId": "6d134407-6774-4394-acc0-1f624cc1a7e5",
        "colab": {
          "base_uri": "https://localhost:8080/"
        }
      },
      "execution_count": 62,
      "outputs": [
        {
          "output_type": "execute_result",
          "data": {
            "text/plain": [
              "Date\n",
              "2020-11-07    3521.580078\n",
              "2020-11-08    3521.580078\n",
              "2020-11-09    3645.989990\n",
              "2020-11-10    3557.219971\n",
              "2020-11-11    3581.159912\n",
              "2020-11-12    3569.020020\n",
              "2020-11-13    3593.659912\n",
              "2020-11-14    3593.659912\n",
              "2020-11-15    3593.659912\n",
              "2020-11-16    3628.510010\n",
              "2020-11-17    3623.110107\n",
              "2020-11-18    3619.090088\n",
              "2020-11-19    3585.219971\n",
              "2020-11-20    3581.229980\n",
              "Name: High, dtype: float64"
            ]
          },
          "metadata": {},
          "execution_count": 62
        }
      ]
    },
    {
      "cell_type": "code",
      "source": [
        "last_9_days=new_df[-9:].values\n",
        "X_test=[]\n",
        "X_test=np.append(last_9_days,pred_price)\n",
        "X_test=np.array(X_test)\n",
        "X_test\n",
        "X_test=np.reshape(X_test,(1,X_test.shape[0],1))\n",
        "pred_price2=model.predict(X_test)\n",
        "print(pred_price2)"
      ],
      "metadata": {
        "id": "0QstFJovmq3q",
        "outputId": "d976ad5e-f060-4b25-cdb2-97bf8ce2b804",
        "colab": {
          "base_uri": "https://localhost:8080/"
        }
      },
      "execution_count": 63,
      "outputs": [
        {
          "output_type": "stream",
          "name": "stdout",
          "text": [
            "1/1 [==============================] - 0s 56ms/step\n",
            "[[3613.0679]]\n"
          ]
        }
      ]
    },
    {
      "cell_type": "code",
      "source": [
        "df['High'].iloc[-3]"
      ],
      "metadata": {
        "id": "SB6ug530mq7P",
        "outputId": "3bf8db27-e7ef-430c-d54f-d43992e1732d",
        "colab": {
          "base_uri": "https://localhost:8080/"
        }
      },
      "execution_count": 64,
      "outputs": [
        {
          "output_type": "execute_result",
          "data": {
            "text/plain": [
              "3619.090087890625"
            ]
          },
          "metadata": {},
          "execution_count": 64
        }
      ]
    },
    {
      "cell_type": "code",
      "source": [
        "df['High'].iloc[-3]-pred_price2"
      ],
      "metadata": {
        "id": "XdMsHwdUmwsB",
        "outputId": "1476bcaf-b965-41fa-f000-58159b8cd675",
        "colab": {
          "base_uri": "https://localhost:8080/"
        }
      },
      "execution_count": 65,
      "outputs": [
        {
          "output_type": "execute_result",
          "data": {
            "text/plain": [
              "array([[6.022217]], dtype=float32)"
            ]
          },
          "metadata": {},
          "execution_count": 65
        }
      ]
    },
    {
      "cell_type": "code",
      "source": [
        "last_8_days=new_df[-8:].values\n",
        "X_test=[]\n",
        "X_test=np.append(last_8_days,pred_price)\n",
        "X_test=np.append(X_test,pred_price2)\n",
        "X_test=np.array(X_test)\n",
        "X_test\n",
        "X_test=np.reshape(X_test,(1,X_test.shape[0],1))\n",
        "pred_price3=model.predict(X_test)\n",
        "print(pred_price3)"
      ],
      "metadata": {
        "id": "bqxWgi7emwuw",
        "outputId": "05155f70-f721-40a3-90af-152750380937",
        "colab": {
          "base_uri": "https://localhost:8080/"
        }
      },
      "execution_count": 66,
      "outputs": [
        {
          "output_type": "stream",
          "name": "stdout",
          "text": [
            "1/1 [==============================] - 0s 39ms/step\n",
            "[[3606.4849]]\n"
          ]
        }
      ]
    },
    {
      "cell_type": "code",
      "source": [
        "df['High'].iloc[-2]"
      ],
      "metadata": {
        "id": "7vkWm6L8mwx3",
        "outputId": "a4f4c420-dd4b-4777-fb92-9c4cb89676fb",
        "colab": {
          "base_uri": "https://localhost:8080/"
        }
      },
      "execution_count": 67,
      "outputs": [
        {
          "output_type": "execute_result",
          "data": {
            "text/plain": [
              "3585.219970703125"
            ]
          },
          "metadata": {},
          "execution_count": 67
        }
      ]
    },
    {
      "cell_type": "code",
      "source": [
        "df['High'].iloc[-2]-pred_price3"
      ],
      "metadata": {
        "id": "tGUa4Gqam5On",
        "outputId": "36967ef5-0956-4fb3-d139-775f0052431b",
        "colab": {
          "base_uri": "https://localhost:8080/"
        }
      },
      "execution_count": 68,
      "outputs": [
        {
          "output_type": "execute_result",
          "data": {
            "text/plain": [
              "array([[-21.264893]], dtype=float32)"
            ]
          },
          "metadata": {},
          "execution_count": 68
        }
      ]
    },
    {
      "cell_type": "code",
      "source": [
        "last_7_days=new_df[-7:].values\n",
        "X_test=[]\n",
        "X_test=np.append(last_7_days, pred_price)\n",
        "X_test=np.append(X_test, pred_price2)\n",
        "X_test=np.append(X_test, pred_price3)\n",
        "X_test=np.array(X_test)\n",
        "X_test\n",
        "X_test=np.reshape(X_test,(1,X_test.shape[0],1))\n",
        "pred_price4=model.predict(X_test)\n",
        "print(pred_price4)"
      ],
      "metadata": {
        "id": "KCRKrE9sm5Rd",
        "outputId": "f0183b8f-11e0-4449-cb67-d4a1363dfd8c",
        "colab": {
          "base_uri": "https://localhost:8080/"
        }
      },
      "execution_count": 69,
      "outputs": [
        {
          "output_type": "stream",
          "name": "stdout",
          "text": [
            "1/1 [==============================] - 0s 35ms/step\n",
            "[[3600.1309]]\n"
          ]
        }
      ]
    },
    {
      "cell_type": "code",
      "source": [
        "df['High'].iloc[-1]"
      ],
      "metadata": {
        "id": "8EBz1T5qm5Uw",
        "outputId": "79aa6367-4eb3-4093-c55b-ff136188a4e3",
        "colab": {
          "base_uri": "https://localhost:8080/"
        }
      },
      "execution_count": 70,
      "outputs": [
        {
          "output_type": "execute_result",
          "data": {
            "text/plain": [
              "3581.22998046875"
            ]
          },
          "metadata": {},
          "execution_count": 70
        }
      ]
    },
    {
      "cell_type": "code",
      "source": [
        "df['High'].iloc[-1]-pred_price4"
      ],
      "metadata": {
        "id": "Di4Jjx_SnAyz",
        "outputId": "72c8d3db-cf31-4f25-8f2f-d70fac083721",
        "colab": {
          "base_uri": "https://localhost:8080/"
        }
      },
      "execution_count": 71,
      "outputs": [
        {
          "output_type": "execute_result",
          "data": {
            "text/plain": [
              "array([[-18.900879]], dtype=float32)"
            ]
          },
          "metadata": {},
          "execution_count": 71
        }
      ]
    },
    {
      "cell_type": "code",
      "source": [
        "df.High.iloc[-4], df.High.iloc[-3], df.High.iloc[-2], df.High.iloc[-1]"
      ],
      "metadata": {
        "id": "oQCheNAxnA2F",
        "outputId": "58a58d2f-56ce-4cc2-e7ed-60e6bc4b0704",
        "colab": {
          "base_uri": "https://localhost:8080/"
        }
      },
      "execution_count": 72,
      "outputs": [
        {
          "output_type": "execute_result",
          "data": {
            "text/plain": [
              "(3623.110107421875, 3619.090087890625, 3585.219970703125, 3581.22998046875)"
            ]
          },
          "metadata": {},
          "execution_count": 72
        }
      ]
    },
    {
      "cell_type": "code",
      "source": [
        "pred_price, pred_price2, pred_price3, pred_price4"
      ],
      "metadata": {
        "id": "1myBvz8SnKen",
        "outputId": "1fc68cdd-eeec-4072-9234-cadf57349094",
        "colab": {
          "base_uri": "https://localhost:8080/"
        }
      },
      "execution_count": 73,
      "outputs": [
        {
          "output_type": "execute_result",
          "data": {
            "text/plain": [
              "(array([[3618.8142]], dtype=float32),\n",
              " array([[3613.0679]], dtype=float32),\n",
              " array([[3606.4849]], dtype=float32),\n",
              " array([[3600.1309]], dtype=float32))"
            ]
          },
          "metadata": {},
          "execution_count": 73
        }
      ]
    },
    {
      "cell_type": "code",
      "source": [
        "actual_prices=np.array([df.High.iloc[-4], df.High.iloc[-3], df.High.iloc[-2], df.High.iloc[-1]])\n",
        "pred_prices=np.array([float(pred_price),float(pred_price2),float(pred_price3),float(pred_price4)])"
      ],
      "metadata": {
        "id": "wj6OllavnKiF",
        "outputId": "15f718a1-b699-493b-8dc1-64f6ed805899",
        "colab": {
          "base_uri": "https://localhost:8080/"
        }
      },
      "execution_count": 74,
      "outputs": [
        {
          "output_type": "stream",
          "name": "stderr",
          "text": [
            "<ipython-input-74-bf95f982bb0c>:2: DeprecationWarning: Conversion of an array with ndim > 0 to a scalar is deprecated, and will error in future. Ensure you extract a single element from your array before performing this operation. (Deprecated NumPy 1.25.)\n",
            "  pred_prices=np.array([float(pred_price),float(pred_price2),float(pred_price3),float(pred_price4)])\n"
          ]
        }
      ]
    },
    {
      "cell_type": "code",
      "source": [
        "actual_prices, pred_prices"
      ],
      "metadata": {
        "id": "mXyEBGIanQPR",
        "outputId": "762b9ff2-8bc2-4d77-fec5-215db6782d1f",
        "colab": {
          "base_uri": "https://localhost:8080/"
        }
      },
      "execution_count": 75,
      "outputs": [
        {
          "output_type": "execute_result",
          "data": {
            "text/plain": [
              "(array([3623.11010742, 3619.09008789, 3585.2199707 , 3581.22998047]),\n",
              " array([3618.81420898, 3613.06787109, 3606.48486328, 3600.13085938]))"
            ]
          },
          "metadata": {},
          "execution_count": 75
        }
      ]
    },
    {
      "cell_type": "code",
      "source": [
        "data={'Actual values':[df.High.iloc[-4],df.High.iloc[-3],df.High.iloc[-2],df.High.iloc[-1]],\n",
        "      'Predicted values':[float(pred_price),float(pred_price2),float(pred_price3),float(pred_price4)]}\n",
        "\n",
        "pd.DataFrame(data, index=['2020-11-17','2020-11-18','2020-11-19','2020-11-20'])"
      ],
      "metadata": {
        "id": "qv9HtZtZnQS2",
        "outputId": "332b5634-a9b8-4262-dd14-4b4bff57744b",
        "colab": {
          "base_uri": "https://localhost:8080/",
          "height": 231
        }
      },
      "execution_count": 76,
      "outputs": [
        {
          "output_type": "stream",
          "name": "stderr",
          "text": [
            "<ipython-input-76-86f46b89c07b>:2: DeprecationWarning: Conversion of an array with ndim > 0 to a scalar is deprecated, and will error in future. Ensure you extract a single element from your array before performing this operation. (Deprecated NumPy 1.25.)\n",
            "  'Predicted values':[float(pred_price),float(pred_price2),float(pred_price3),float(pred_price4)]}\n"
          ]
        },
        {
          "output_type": "execute_result",
          "data": {
            "text/plain": [
              "            Actual values  Predicted values\n",
              "2020-11-17    3623.110107       3618.814209\n",
              "2020-11-18    3619.090088       3613.067871\n",
              "2020-11-19    3585.219971       3606.484863\n",
              "2020-11-20    3581.229980       3600.130859"
            ],
            "text/html": [
              "\n",
              "  <div id=\"df-3398d135-8c47-469b-bba3-6cd0b0dc853d\" class=\"colab-df-container\">\n",
              "    <div>\n",
              "<style scoped>\n",
              "    .dataframe tbody tr th:only-of-type {\n",
              "        vertical-align: middle;\n",
              "    }\n",
              "\n",
              "    .dataframe tbody tr th {\n",
              "        vertical-align: top;\n",
              "    }\n",
              "\n",
              "    .dataframe thead th {\n",
              "        text-align: right;\n",
              "    }\n",
              "</style>\n",
              "<table border=\"1\" class=\"dataframe\">\n",
              "  <thead>\n",
              "    <tr style=\"text-align: right;\">\n",
              "      <th></th>\n",
              "      <th>Actual values</th>\n",
              "      <th>Predicted values</th>\n",
              "    </tr>\n",
              "  </thead>\n",
              "  <tbody>\n",
              "    <tr>\n",
              "      <th>2020-11-17</th>\n",
              "      <td>3623.110107</td>\n",
              "      <td>3618.814209</td>\n",
              "    </tr>\n",
              "    <tr>\n",
              "      <th>2020-11-18</th>\n",
              "      <td>3619.090088</td>\n",
              "      <td>3613.067871</td>\n",
              "    </tr>\n",
              "    <tr>\n",
              "      <th>2020-11-19</th>\n",
              "      <td>3585.219971</td>\n",
              "      <td>3606.484863</td>\n",
              "    </tr>\n",
              "    <tr>\n",
              "      <th>2020-11-20</th>\n",
              "      <td>3581.229980</td>\n",
              "      <td>3600.130859</td>\n",
              "    </tr>\n",
              "  </tbody>\n",
              "</table>\n",
              "</div>\n",
              "    <div class=\"colab-df-buttons\">\n",
              "\n",
              "  <div class=\"colab-df-container\">\n",
              "    <button class=\"colab-df-convert\" onclick=\"convertToInteractive('df-3398d135-8c47-469b-bba3-6cd0b0dc853d')\"\n",
              "            title=\"Convert this dataframe to an interactive table.\"\n",
              "            style=\"display:none;\">\n",
              "\n",
              "  <svg xmlns=\"http://www.w3.org/2000/svg\" height=\"24px\" viewBox=\"0 -960 960 960\">\n",
              "    <path d=\"M120-120v-720h720v720H120Zm60-500h600v-160H180v160Zm220 220h160v-160H400v160Zm0 220h160v-160H400v160ZM180-400h160v-160H180v160Zm440 0h160v-160H620v160ZM180-180h160v-160H180v160Zm440 0h160v-160H620v160Z\"/>\n",
              "  </svg>\n",
              "    </button>\n",
              "\n",
              "  <style>\n",
              "    .colab-df-container {\n",
              "      display:flex;\n",
              "      gap: 12px;\n",
              "    }\n",
              "\n",
              "    .colab-df-convert {\n",
              "      background-color: #E8F0FE;\n",
              "      border: none;\n",
              "      border-radius: 50%;\n",
              "      cursor: pointer;\n",
              "      display: none;\n",
              "      fill: #1967D2;\n",
              "      height: 32px;\n",
              "      padding: 0 0 0 0;\n",
              "      width: 32px;\n",
              "    }\n",
              "\n",
              "    .colab-df-convert:hover {\n",
              "      background-color: #E2EBFA;\n",
              "      box-shadow: 0px 1px 2px rgba(60, 64, 67, 0.3), 0px 1px 3px 1px rgba(60, 64, 67, 0.15);\n",
              "      fill: #174EA6;\n",
              "    }\n",
              "\n",
              "    .colab-df-buttons div {\n",
              "      margin-bottom: 4px;\n",
              "    }\n",
              "\n",
              "    [theme=dark] .colab-df-convert {\n",
              "      background-color: #3B4455;\n",
              "      fill: #D2E3FC;\n",
              "    }\n",
              "\n",
              "    [theme=dark] .colab-df-convert:hover {\n",
              "      background-color: #434B5C;\n",
              "      box-shadow: 0px 1px 3px 1px rgba(0, 0, 0, 0.15);\n",
              "      filter: drop-shadow(0px 1px 2px rgba(0, 0, 0, 0.3));\n",
              "      fill: #FFFFFF;\n",
              "    }\n",
              "  </style>\n",
              "\n",
              "    <script>\n",
              "      const buttonEl =\n",
              "        document.querySelector('#df-3398d135-8c47-469b-bba3-6cd0b0dc853d button.colab-df-convert');\n",
              "      buttonEl.style.display =\n",
              "        google.colab.kernel.accessAllowed ? 'block' : 'none';\n",
              "\n",
              "      async function convertToInteractive(key) {\n",
              "        const element = document.querySelector('#df-3398d135-8c47-469b-bba3-6cd0b0dc853d');\n",
              "        const dataTable =\n",
              "          await google.colab.kernel.invokeFunction('convertToInteractive',\n",
              "                                                    [key], {});\n",
              "        if (!dataTable) return;\n",
              "\n",
              "        const docLinkHtml = 'Like what you see? Visit the ' +\n",
              "          '<a target=\"_blank\" href=https://colab.research.google.com/notebooks/data_table.ipynb>data table notebook</a>'\n",
              "          + ' to learn more about interactive tables.';\n",
              "        element.innerHTML = '';\n",
              "        dataTable['output_type'] = 'display_data';\n",
              "        await google.colab.output.renderOutput(dataTable, element);\n",
              "        const docLink = document.createElement('div');\n",
              "        docLink.innerHTML = docLinkHtml;\n",
              "        element.appendChild(docLink);\n",
              "      }\n",
              "    </script>\n",
              "  </div>\n",
              "\n",
              "\n",
              "<div id=\"df-bdf1ca4f-5de7-444e-943c-cd2c10dbe5a6\">\n",
              "  <button class=\"colab-df-quickchart\" onclick=\"quickchart('df-bdf1ca4f-5de7-444e-943c-cd2c10dbe5a6')\"\n",
              "            title=\"Suggest charts\"\n",
              "            style=\"display:none;\">\n",
              "\n",
              "<svg xmlns=\"http://www.w3.org/2000/svg\" height=\"24px\"viewBox=\"0 0 24 24\"\n",
              "     width=\"24px\">\n",
              "    <g>\n",
              "        <path d=\"M19 3H5c-1.1 0-2 .9-2 2v14c0 1.1.9 2 2 2h14c1.1 0 2-.9 2-2V5c0-1.1-.9-2-2-2zM9 17H7v-7h2v7zm4 0h-2V7h2v10zm4 0h-2v-4h2v4z\"/>\n",
              "    </g>\n",
              "</svg>\n",
              "  </button>\n",
              "\n",
              "<style>\n",
              "  .colab-df-quickchart {\n",
              "      --bg-color: #E8F0FE;\n",
              "      --fill-color: #1967D2;\n",
              "      --hover-bg-color: #E2EBFA;\n",
              "      --hover-fill-color: #174EA6;\n",
              "      --disabled-fill-color: #AAA;\n",
              "      --disabled-bg-color: #DDD;\n",
              "  }\n",
              "\n",
              "  [theme=dark] .colab-df-quickchart {\n",
              "      --bg-color: #3B4455;\n",
              "      --fill-color: #D2E3FC;\n",
              "      --hover-bg-color: #434B5C;\n",
              "      --hover-fill-color: #FFFFFF;\n",
              "      --disabled-bg-color: #3B4455;\n",
              "      --disabled-fill-color: #666;\n",
              "  }\n",
              "\n",
              "  .colab-df-quickchart {\n",
              "    background-color: var(--bg-color);\n",
              "    border: none;\n",
              "    border-radius: 50%;\n",
              "    cursor: pointer;\n",
              "    display: none;\n",
              "    fill: var(--fill-color);\n",
              "    height: 32px;\n",
              "    padding: 0;\n",
              "    width: 32px;\n",
              "  }\n",
              "\n",
              "  .colab-df-quickchart:hover {\n",
              "    background-color: var(--hover-bg-color);\n",
              "    box-shadow: 0 1px 2px rgba(60, 64, 67, 0.3), 0 1px 3px 1px rgba(60, 64, 67, 0.15);\n",
              "    fill: var(--button-hover-fill-color);\n",
              "  }\n",
              "\n",
              "  .colab-df-quickchart-complete:disabled,\n",
              "  .colab-df-quickchart-complete:disabled:hover {\n",
              "    background-color: var(--disabled-bg-color);\n",
              "    fill: var(--disabled-fill-color);\n",
              "    box-shadow: none;\n",
              "  }\n",
              "\n",
              "  .colab-df-spinner {\n",
              "    border: 2px solid var(--fill-color);\n",
              "    border-color: transparent;\n",
              "    border-bottom-color: var(--fill-color);\n",
              "    animation:\n",
              "      spin 1s steps(1) infinite;\n",
              "  }\n",
              "\n",
              "  @keyframes spin {\n",
              "    0% {\n",
              "      border-color: transparent;\n",
              "      border-bottom-color: var(--fill-color);\n",
              "      border-left-color: var(--fill-color);\n",
              "    }\n",
              "    20% {\n",
              "      border-color: transparent;\n",
              "      border-left-color: var(--fill-color);\n",
              "      border-top-color: var(--fill-color);\n",
              "    }\n",
              "    30% {\n",
              "      border-color: transparent;\n",
              "      border-left-color: var(--fill-color);\n",
              "      border-top-color: var(--fill-color);\n",
              "      border-right-color: var(--fill-color);\n",
              "    }\n",
              "    40% {\n",
              "      border-color: transparent;\n",
              "      border-right-color: var(--fill-color);\n",
              "      border-top-color: var(--fill-color);\n",
              "    }\n",
              "    60% {\n",
              "      border-color: transparent;\n",
              "      border-right-color: var(--fill-color);\n",
              "    }\n",
              "    80% {\n",
              "      border-color: transparent;\n",
              "      border-right-color: var(--fill-color);\n",
              "      border-bottom-color: var(--fill-color);\n",
              "    }\n",
              "    90% {\n",
              "      border-color: transparent;\n",
              "      border-bottom-color: var(--fill-color);\n",
              "    }\n",
              "  }\n",
              "</style>\n",
              "\n",
              "  <script>\n",
              "    async function quickchart(key) {\n",
              "      const quickchartButtonEl =\n",
              "        document.querySelector('#' + key + ' button');\n",
              "      quickchartButtonEl.disabled = true;  // To prevent multiple clicks.\n",
              "      quickchartButtonEl.classList.add('colab-df-spinner');\n",
              "      try {\n",
              "        const charts = await google.colab.kernel.invokeFunction(\n",
              "            'suggestCharts', [key], {});\n",
              "      } catch (error) {\n",
              "        console.error('Error during call to suggestCharts:', error);\n",
              "      }\n",
              "      quickchartButtonEl.classList.remove('colab-df-spinner');\n",
              "      quickchartButtonEl.classList.add('colab-df-quickchart-complete');\n",
              "    }\n",
              "    (() => {\n",
              "      let quickchartButtonEl =\n",
              "        document.querySelector('#df-bdf1ca4f-5de7-444e-943c-cd2c10dbe5a6 button');\n",
              "      quickchartButtonEl.style.display =\n",
              "        google.colab.kernel.accessAllowed ? 'block' : 'none';\n",
              "    })();\n",
              "  </script>\n",
              "</div>\n",
              "\n",
              "    </div>\n",
              "  </div>\n"
            ],
            "application/vnd.google.colaboratory.intrinsic+json": {
              "type": "dataframe",
              "summary": "{\n  \"name\": \"pd\",\n  \"rows\": 4,\n  \"fields\": [\n    {\n      \"column\": \"Actual values\",\n      \"properties\": {\n        \"dtype\": \"number\",\n        \"std\": 21.989127323839636,\n        \"min\": 3581.22998046875,\n        \"max\": 3623.110107421875,\n        \"num_unique_values\": 4,\n        \"samples\": [\n          3619.090087890625,\n          3581.22998046875,\n          3623.110107421875\n        ],\n        \"semantic_type\": \"\",\n        \"description\": \"\"\n      }\n    },\n    {\n      \"column\": \"Predicted values\",\n      \"properties\": {\n        \"dtype\": \"number\",\n        \"std\": 8.088965462064579,\n        \"min\": 3600.130859375,\n        \"max\": 3618.814208984375,\n        \"num_unique_values\": 4,\n        \"samples\": [\n          3613.06787109375,\n          3600.130859375,\n          3618.814208984375\n        ],\n        \"semantic_type\": \"\",\n        \"description\": \"\"\n      }\n    }\n  ]\n}"
            }
          },
          "metadata": {},
          "execution_count": 76
        }
      ]
    },
    {
      "cell_type": "code",
      "source": [
        "fut=pd.DataFrame(data, index=['2020-11-17','2020-11-18','2020-11-19','2020-11-20']).plot()\n",
        "fut.set(ylim=(3540,3700))"
      ],
      "metadata": {
        "id": "GhCYyllHnW6D",
        "outputId": "49751856-4a88-4846-95f0-43ad2b9dee7f",
        "colab": {
          "base_uri": "https://localhost:8080/",
          "height": 453
        }
      },
      "execution_count": 77,
      "outputs": [
        {
          "output_type": "execute_result",
          "data": {
            "text/plain": [
              "[(3540.0, 3700.0)]"
            ]
          },
          "metadata": {},
          "execution_count": 77
        },
        {
          "output_type": "display_data",
          "data": {
            "text/plain": [
              "<Figure size 640x480 with 1 Axes>"
            ],
            "image/png": "[encoded data removed]"
          },
          "metadata": {}
        }
      ]
    },
    {
      "cell_type": "code",
      "source": [
        "np.round(np.sqrt(mean_squared_error(actual_prices, pred_prices)),2)"
      ],
      "metadata": {
        "id": "bc9hynoknW9p",
        "outputId": "84069023-499b-4ec6-f783-a98f12c4bf85",
        "colab": {
          "base_uri": "https://localhost:8080/"
        }
      },
      "execution_count": 78,
      "outputs": [
        {
          "output_type": "execute_result",
          "data": {
            "text/plain": [
              "14.7"
            ]
          },
          "metadata": {},
          "execution_count": 78
        }
      ]
    },
    {
      "cell_type": "markdown",
      "source": [],
      "metadata": {
        "id": "e-ahh3esmX2x"
      }
    }
  ]
}